{
 "cells": [
  {
   "cell_type": "raw",
   "id": "00e5870c-0093-43b4-95d8-f2b75a33c8b6",
   "metadata": {},
   "source": [
    "###LU DECOMPOSITION"
   ]
  },
  {
   "cell_type": "code",
   "execution_count": 1,
   "id": "7df05921-e5d9-427b-9efa-71accff0578c",
   "metadata": {},
   "outputs": [],
   "source": [
    "import numpy as np"
   ]
  },
  {
   "cell_type": "code",
   "execution_count": 2,
   "id": "c87e8e3d-1cdb-4547-93f6-22539db3dfef",
   "metadata": {},
   "outputs": [
    {
     "data": {
      "text/plain": [
       "array([[3, 6, 4],\n",
       "       [8, 1, 2],\n",
       "       [0, 5, 7]])"
      ]
     },
     "execution_count": 2,
     "metadata": {},
     "output_type": "execute_result"
    }
   ],
   "source": [
    "S= np.array([[3,6,4],[8,1,2],[0,5,7]])\n",
    "S"
   ]
  },
  {
   "cell_type": "code",
   "execution_count": 3,
   "id": "6996337a-ac29-4ffd-b682-3c220118267e",
   "metadata": {},
   "outputs": [],
   "source": [
    "from scipy.linalg import lu"
   ]
  },
  {
   "cell_type": "code",
   "execution_count": 4,
   "id": "cf2b7964-7a9b-4d3c-8c0c-d661511d2445",
   "metadata": {},
   "outputs": [
    {
     "data": {
      "text/plain": [
       "array([[0., 1., 0.],\n",
       "       [1., 0., 0.],\n",
       "       [0., 0., 1.]])"
      ]
     },
     "execution_count": 4,
     "metadata": {},
     "output_type": "execute_result"
    }
   ],
   "source": [
    "P,L,U = lu(S)\n",
    "P"
   ]
  },
  {
   "cell_type": "code",
   "execution_count": 5,
   "id": "ae38e330-5ba5-4269-ab7b-1062c6e7d9bd",
   "metadata": {},
   "outputs": [
    {
     "data": {
      "text/plain": [
       "array([[1.        , 0.        , 0.        ],\n",
       "       [0.375     , 1.        , 0.        ],\n",
       "       [0.        , 0.88888889, 1.        ]])"
      ]
     },
     "execution_count": 5,
     "metadata": {},
     "output_type": "execute_result"
    }
   ],
   "source": [
    "L"
   ]
  },
  {
   "cell_type": "code",
   "execution_count": 6,
   "id": "d99e0424-7284-48ac-a32e-d0ec445c5d18",
   "metadata": {},
   "outputs": [
    {
     "data": {
      "text/plain": [
       "array([[8.        , 1.        , 2.        ],\n",
       "       [0.        , 5.625     , 3.25      ],\n",
       "       [0.        , 0.        , 4.11111111]])"
      ]
     },
     "execution_count": 6,
     "metadata": {},
     "output_type": "execute_result"
    }
   ],
   "source": [
    "U"
   ]
  },
  {
   "cell_type": "code",
   "execution_count": 8,
   "id": "20a664b8-6d81-4f3d-b119-b4f746858fe7",
   "metadata": {},
   "outputs": [
    {
     "data": {
      "text/plain": [
       "(array([[8., 1., 2.],\n",
       "        [3., 6., 4.],\n",
       "        [0., 5., 7.]]),\n",
       " array([[3, 6, 4],\n",
       "        [8, 1, 2],\n",
       "        [0, 5, 7]]))"
      ]
     },
     "execution_count": 8,
     "metadata": {},
     "output_type": "execute_result"
    }
   ],
   "source": [
    "L@U,S"
   ]
  },
  {
   "cell_type": "code",
   "execution_count": 9,
   "id": "0900138e-15e2-4934-83a5-ba1052e98545",
   "metadata": {},
   "outputs": [
    {
     "data": {
      "text/plain": [
       "(array([[3., 6., 4.],\n",
       "        [8., 1., 2.],\n",
       "        [0., 5., 7.]]),\n",
       " array([[3, 6, 4],\n",
       "        [8, 1, 2],\n",
       "        [0, 5, 7]]))"
      ]
     },
     "execution_count": 9,
     "metadata": {},
     "output_type": "execute_result"
    }
   ],
   "source": [
    "P@L@U,S"
   ]
  },
  {
   "cell_type": "code",
   "execution_count": 10,
   "id": "eba57952-56f4-4b72-acbd-7fd865136312",
   "metadata": {},
   "outputs": [],
   "source": [
    "#QR DECOMPOSITION"
   ]
  },
  {
   "cell_type": "code",
   "execution_count": 16,
   "id": "49a2fff7-c872-45f0-93ba-276bbb4b1d8d",
   "metadata": {},
   "outputs": [],
   "source": [
    "from scipy.linalg import qr"
   ]
  },
  {
   "cell_type": "code",
   "execution_count": 17,
   "id": "6e6aac1f-f246-492d-b5ad-f6683623a037",
   "metadata": {},
   "outputs": [
    {
     "data": {
      "text/plain": [
       "array([[4, 2, 1, 6],\n",
       "       [8, 0, 2, 9],\n",
       "       [5, 7, 3, 1]])"
      ]
     },
     "execution_count": 17,
     "metadata": {},
     "output_type": "execute_result"
    }
   ],
   "source": [
    "A= np.array([[4,2,1,6],[8,0,2,9],[5,7,3,1]])\n",
    "A"
   ]
  },
  {
   "cell_type": "code",
   "execution_count": 18,
   "id": "8717c1a1-5224-4706-b0d2-8d1856e2f43f",
   "metadata": {},
   "outputs": [
    {
     "data": {
      "text/plain": [
       "array([[-0.39036003,  0.06083466, -0.9186502 ],\n",
       "       [-0.78072006, -0.55071378,  0.29528042],\n",
       "       [-0.48795004,  0.83247431,  0.26247149]])"
      ]
     },
     "execution_count": 18,
     "metadata": {},
     "output_type": "execute_result"
    }
   ],
   "source": [
    "Q,R = qr(A)\n",
    "Q"
   ]
  },
  {
   "cell_type": "code",
   "execution_count": 19,
   "id": "4b314a53-dfca-4db0-a571-64086c1b4ece",
   "metadata": {},
   "outputs": [
    {
     "data": {
      "text/plain": [
       "array([[-10.24695077,  -4.19637031,  -3.41565026,  -9.85659074],\n",
       "       [  0.        ,   5.94898951,   1.45683005,  -3.7589417 ],\n",
       "       [  0.        ,   0.        ,   0.4593251 ,  -2.59190592]])"
      ]
     },
     "execution_count": 19,
     "metadata": {},
     "output_type": "execute_result"
    }
   ],
   "source": [
    "R"
   ]
  },
  {
   "cell_type": "code",
   "execution_count": 20,
   "id": "f5394173-a189-4643-85be-ba2b83e3a62d",
   "metadata": {},
   "outputs": [
    {
     "data": {
      "text/plain": [
       "array([[4.e+00, 2.e+00, 1.e+00, 6.e+00],\n",
       "       [8.e+00, 1.e-15, 2.e+00, 9.e+00],\n",
       "       [5.e+00, 7.e+00, 3.e+00, 1.e+00]])"
      ]
     },
     "execution_count": 20,
     "metadata": {},
     "output_type": "execute_result"
    }
   ],
   "source": [
    "%precision 0\n",
    "Q@R"
   ]
  },
  {
   "cell_type": "code",
   "execution_count": 21,
   "id": "80b893b7-c46b-4ec5-b58e-730ffd90f67c",
   "metadata": {},
   "outputs": [],
   "source": [
    "x= np.array([4,11,15,21,28,34,39,35,47,55])\n",
    "y= np.array([10,22,31,36,48,51,58,61,69,77])\n",
    "z= np.array([92,83,89,56,61,56,48,41,26,19])"
   ]
  },
  {
   "cell_type": "code",
   "execution_count": 23,
   "id": "2397ff87-28ac-4937-8078-709fa79479a1",
   "metadata": {},
   "outputs": [],
   "source": [
    "num = len(x)*(np.sum(x*y))-(np.sum(x)*np.sum(y))\n",
    "den = np.sqrt((len(x)*np.sum(x**2)-(np.sum(x)**2))*(len(y)*np.sum(y**2)-(np.sum(y)**2)))"
   ]
  },
  {
   "cell_type": "code",
   "execution_count": 24,
   "id": "e551b616-c01f-4c75-9fee-c895ee92438e",
   "metadata": {},
   "outputs": [
    {
     "data": {
      "text/plain": [
       "0.988286"
      ]
     },
     "execution_count": 24,
     "metadata": {},
     "output_type": "execute_result"
    }
   ],
   "source": [
    "%precision 6\n",
    "num/den"
   ]
  },
  {
   "cell_type": "code",
   "execution_count": 25,
   "id": "25c23e91-61f3-428d-b81b-f54dc00f9a24",
   "metadata": {},
   "outputs": [],
   "source": [
    "num = len(x)*(np.sum(x*z))-(np.sum(x)*np.sum(z))\n",
    "den = np.sqrt((len(x)*np.sum(x**2)-(np.sum(x)**2))*(len(z)*np.sum(z**2)-(np.sum(z)**2)))"
   ]
  },
  {
   "cell_type": "code",
   "execution_count": 26,
   "id": "7c9fba6d-1b77-44ba-909f-05f6287b406e",
   "metadata": {},
   "outputs": [
    {
     "data": {
      "text/plain": [
       "-0.959855"
      ]
     },
     "execution_count": 26,
     "metadata": {},
     "output_type": "execute_result"
    }
   ],
   "source": [
    "%precision 6\n",
    "num/den"
   ]
  },
  {
   "cell_type": "code",
   "execution_count": 27,
   "id": "baf3dcfb-acf8-4837-a64b-c777f38a6e88",
   "metadata": {},
   "outputs": [],
   "source": [
    "num = len(y)*(np.sum(y*z))-(np.sum(y)*np.sum(z))\n",
    "den = np.sqrt((len(y)*np.sum(y**2)-(np.sum(y)**2))*(len(z)*np.sum(z**2)-(np.sum(z)**2)))"
   ]
  },
  {
   "cell_type": "code",
   "execution_count": 28,
   "id": "d7305c4b-c3da-4470-9807-2edd396b2edc",
   "metadata": {},
   "outputs": [
    {
     "data": {
      "text/plain": [
       "-0.952646"
      ]
     },
     "execution_count": 28,
     "metadata": {},
     "output_type": "execute_result"
    }
   ],
   "source": [
    "%precision 6\n",
    "num/den"
   ]
  },
  {
   "cell_type": "code",
   "execution_count": 29,
   "id": "983337ea-ea25-4cfb-b3cd-386047a84f1d",
   "metadata": {},
   "outputs": [],
   "source": [
    "p = np.array([56,44,27,65,38,61,23,75,36,58])"
   ]
  },
  {
   "cell_type": "code",
   "execution_count": 30,
   "id": "f36a506e-dedd-4a6f-94da-53a0d0254bcc",
   "metadata": {},
   "outputs": [],
   "source": [
    "num = len(x)*(np.sum(x*p))-(np.sum(x)*np.sum(p))\n",
    "den = np.sqrt((len(x)*np.sum(x**2)-(np.sum(x)**2))*(len(p)*np.sum(p**2)-(np.sum(p)**2)))"
   ]
  },
  {
   "cell_type": "code",
   "execution_count": 31,
   "id": "e7b6eeb8-11a7-4aef-9087-276bd32b60f8",
   "metadata": {},
   "outputs": [
    {
     "data": {
      "text/plain": [
       "0.024336"
      ]
     },
     "execution_count": 31,
     "metadata": {},
     "output_type": "execute_result"
    }
   ],
   "source": [
    "%precision 6\n",
    "num/den"
   ]
  },
  {
   "cell_type": "code",
   "execution_count": 32,
   "id": "8c832ebf-03dc-4b46-aada-116bbde8c948",
   "metadata": {},
   "outputs": [],
   "source": [
    "num = len(y)*(np.sum(y*p))-(np.sum(y)*np.sum(p))\n",
    "den = np.sqrt((len(y)*np.sum(y**2)-(np.sum(y)**2))*(len(p)*np.sum(p**2)-(np.sum(p)**2)))"
   ]
  },
  {
   "cell_type": "code",
   "execution_count": 33,
   "id": "b375a1e6-8c10-4b26-b915-6f479fc7d5cc",
   "metadata": {},
   "outputs": [
    {
     "data": {
      "text/plain": [
       "0.041168"
      ]
     },
     "execution_count": 33,
     "metadata": {},
     "output_type": "execute_result"
    }
   ],
   "source": [
    "%precision 6\n",
    "num/den"
   ]
  },
  {
   "cell_type": "code",
   "execution_count": 34,
   "id": "8a84038e-f858-4664-9666-0c5dbf54f768",
   "metadata": {},
   "outputs": [],
   "source": [
    "num = len(z)*(np.sum(z*p))-(np.sum(z)*np.sum(p))\n",
    "den = np.sqrt((len(z)*np.sum(z**2)-(np.sum(z)**2))*(len(p)*np.sum(p**2)-(np.sum(p)**2)))"
   ]
  },
  {
   "cell_type": "code",
   "execution_count": 35,
   "id": "91077ec3-9e30-4e1c-9a53-661f0fcb9e50",
   "metadata": {},
   "outputs": [
    {
     "data": {
      "text/plain": [
       "-0.200311"
      ]
     },
     "execution_count": 35,
     "metadata": {},
     "output_type": "execute_result"
    }
   ],
   "source": [
    "%precision 6\n",
    "num/den"
   ]
  },
  {
   "cell_type": "code",
   "execution_count": 36,
   "id": "0fc388d8-a5ec-453a-b68d-44992a33287d",
   "metadata": {},
   "outputs": [],
   "source": [
    "import matplotlib.pyplot as plt"
   ]
  },
  {
   "cell_type": "code",
   "execution_count": 40,
   "id": "6278d360-31bb-4623-a059-4967e4f08998",
   "metadata": {},
   "outputs": [
    {
     "data": {
      "text/plain": [
       "<matplotlib.collections.PathCollection at 0x7f1301eef610>"
      ]
     },
     "execution_count": 40,
     "metadata": {},
     "output_type": "execute_result"
    },
    {
     "data": {
      "image/png": "[encoded data removed]",
      "text/plain": [
       "<Figure size 640x480 with 1 Axes>"
      ]
     },
     "metadata": {},
     "output_type": "display_data"
    }
   ],
   "source": [
    "plt.scatter(x,y)"
   ]
  },
  {
   "cell_type": "code",
   "execution_count": 41,
   "id": "de04dac8-8388-4933-b3c4-a417bd584e19",
   "metadata": {},
   "outputs": [
    {
     "data": {
      "text/plain": [
       "<matplotlib.collections.PathCollection at 0x7f1301e9d9a0>"
      ]
     },
     "execution_count": 41,
     "metadata": {},
     "output_type": "execute_result"
    },
    {
     "data": {
      "image/png": "[encoded data removed]",
      "text/plain": [
       "<Figure size 640x480 with 1 Axes>"
      ]
     },
     "metadata": {},
     "output_type": "display_data"
    }
   ],
   "source": [
    "plt.scatter(x,z)"
   ]
  },
  {
   "cell_type": "code",
   "execution_count": 42,
   "id": "b938e382-abfc-4302-95d8-092a7f75b071",
   "metadata": {},
   "outputs": [
    {
     "data": {
      "text/plain": [
       "<matplotlib.collections.PathCollection at 0x7f1301e13f70>"
      ]
     },
     "execution_count": 42,
     "metadata": {},
     "output_type": "execute_result"
    },
    {
     "data": {
      "image/png": "[encoded data removed]",
      "text/plain": [
       "<Figure size 640x480 with 1 Axes>"
      ]
     },
     "metadata": {},
     "output_type": "display_data"
    }
   ],
   "source": [
    "plt.scatter(x,p)"
   ]
  },
  {
   "cell_type": "code",
   "execution_count": 44,
   "id": "0f0a5986-0a93-4c38-8e83-b6708d28b2d2",
   "metadata": {},
   "outputs": [
    {
     "data": {
      "text/plain": [
       "array([[1.      , 0.988286],\n",
       "       [0.988286, 1.      ]])"
      ]
     },
     "execution_count": 44,
     "metadata": {},
     "output_type": "execute_result"
    }
   ],
   "source": [
    "np.corrcoef(x,y)"
   ]
  },
  {
   "cell_type": "code",
   "execution_count": 45,
   "id": "c2f1935e-4ede-464e-814a-f6034fbc4362",
   "metadata": {},
   "outputs": [
    {
     "data": {
      "text/plain": [
       "array([[ 1.      , -0.959855],\n",
       "       [-0.959855,  1.      ]])"
      ]
     },
     "execution_count": 45,
     "metadata": {},
     "output_type": "execute_result"
    }
   ],
   "source": [
    "np.corrcoef(x,z)"
   ]
  },
  {
   "cell_type": "code",
   "execution_count": 46,
   "id": "a1c61dfa-4ae0-423e-a60c-1d0c86f3dd87",
   "metadata": {},
   "outputs": [
    {
     "data": {
      "text/plain": [
       "array([[ 1.      , -0.952646],\n",
       "       [-0.952646,  1.      ]])"
      ]
     },
     "execution_count": 46,
     "metadata": {},
     "output_type": "execute_result"
    }
   ],
   "source": [
    "np.corrcoef(z,y)"
   ]
  },
  {
   "cell_type": "code",
   "execution_count": 47,
   "id": "94f230ce-ebf1-45b4-a30e-2594b4004d53",
   "metadata": {},
   "outputs": [],
   "source": [
    "from scipy.stats import pearsonr"
   ]
  },
  {
   "cell_type": "code",
   "execution_count": 48,
   "id": "9ad4e576-17af-4049-9102-4c7b948c8148",
   "metadata": {},
   "outputs": [
    {
     "data": {
      "text/plain": [
       "PearsonRResult(statistic=0.988286097905464, pvalue=8.12206636368293e-08)"
      ]
     },
     "execution_count": 48,
     "metadata": {},
     "output_type": "execute_result"
    }
   ],
   "source": [
    "pearsonr(x,y)"
   ]
  },
  {
   "cell_type": "code",
   "execution_count": 49,
   "id": "41d5b0e7-d733-401d-875c-06825a56a3bd",
   "metadata": {},
   "outputs": [
    {
     "data": {
      "text/plain": [
       "PearsonRResult(statistic=-0.9598548032528609, pvalue=1.0825184043341277e-05)"
      ]
     },
     "execution_count": 49,
     "metadata": {},
     "output_type": "execute_result"
    }
   ],
   "source": [
    "pearsonr(x,z)"
   ]
  },
  {
   "cell_type": "code",
   "execution_count": 50,
   "id": "643b0b44-a2f6-480d-ac73-ada6d0852f02",
   "metadata": {},
   "outputs": [
    {
     "data": {
      "text/plain": [
       "PearsonRResult(statistic=0.024336195591384044, pvalue=0.9467960896459808)"
      ]
     },
     "execution_count": 50,
     "metadata": {},
     "output_type": "execute_result"
    }
   ],
   "source": [
    "pearsonr(x,p)"
   ]
  },
  {
   "cell_type": "code",
   "execution_count": 51,
   "id": "10a36de7-fbc3-4a0a-9066-fd2326bc39d7",
   "metadata": {},
   "outputs": [
    {
     "data": {
      "text/plain": [
       "array([ 10,  20,  30,  40,  50,  60,  70,  80,  90, 100])"
      ]
     },
     "execution_count": 51,
     "metadata": {},
     "output_type": "execute_result"
    }
   ],
   "source": [
    "a= np.arange(1,11)\n",
    "b= np.arange(10,101,10)\n",
    "a\n",
    "b"
   ]
  },
  {
   "cell_type": "code",
   "execution_count": 52,
   "id": "9257ec13-f61f-455a-a0b9-89ba918ccf4c",
   "metadata": {},
   "outputs": [
    {
     "data": {
      "text/plain": [
       "PearsonRResult(statistic=1.0, pvalue=0.0)"
      ]
     },
     "execution_count": 52,
     "metadata": {},
     "output_type": "execute_result"
    }
   ],
   "source": [
    "pearsonr(a,b)"
   ]
  },
  {
   "cell_type": "code",
   "execution_count": 53,
   "id": "9276fec1-70a7-4096-aef2-3e5834a7d2ab",
   "metadata": {},
   "outputs": [
    {
     "data": {
      "text/plain": [
       "PearsonRResult(statistic=1.0, pvalue=0.0)"
      ]
     },
     "execution_count": 53,
     "metadata": {},
     "output_type": "execute_result"
    }
   ],
   "source": [
    "pearsonr(b,a)"
   ]
  },
  {
   "cell_type": "code",
   "execution_count": 54,
   "id": "62965332-b1c8-4c87-bdc2-9ea6bf89f945",
   "metadata": {},
   "outputs": [],
   "source": [
    "####variance"
   ]
  },
  {
   "cell_type": "code",
   "execution_count": 69,
   "id": "e0608809-12fe-49a8-9269-0de791ea1750",
   "metadata": {},
   "outputs": [
    {
     "data": {
      "text/plain": [
       "array([67, 23, 54, 17, 53, 28, 55, 34, 84])"
      ]
     },
     "execution_count": 69,
     "metadata": {},
     "output_type": "execute_result"
    }
   ],
   "source": [
    "num= np.array([67,23,54,17,53,28,55,34,84])\n",
    "num"
   ]
  },
  {
   "cell_type": "code",
   "execution_count": 72,
   "id": "87f336c5-076d-4f41-b7ad-a118eff289ff",
   "metadata": {},
   "outputs": [
    {
     "data": {
      "text/plain": [
       "435.209877"
      ]
     },
     "execution_count": 72,
     "metadata": {},
     "output_type": "execute_result"
    }
   ],
   "source": [
    "np.mean((num - num.mean())**2)\n"
   ]
  },
  {
   "cell_type": "code",
   "execution_count": 73,
   "id": "6b87da17-b9e6-48bd-9675-e7aa7d98418e",
   "metadata": {},
   "outputs": [
    {
     "data": {
      "text/plain": [
       "435.209877"
      ]
     },
     "execution_count": 73,
     "metadata": {},
     "output_type": "execute_result"
    }
   ],
   "source": [
    "num.var()"
   ]
  },
  {
   "cell_type": "code",
   "execution_count": 74,
   "id": "860ec008-4bdb-4aa8-b19c-2141a632e6d4",
   "metadata": {},
   "outputs": [],
   "source": [
    "#####standard deviation"
   ]
  },
  {
   "cell_type": "code",
   "execution_count": 76,
   "id": "04748ae0-d471-4a96-8206-ed9a618134ed",
   "metadata": {},
   "outputs": [
    {
     "data": {
      "text/plain": [
       "20.861684"
      ]
     },
     "execution_count": 76,
     "metadata": {},
     "output_type": "execute_result"
    }
   ],
   "source": [
    "np.sqrt(np.mean((num- num.mean())**2))"
   ]
  },
  {
   "cell_type": "code",
   "execution_count": 77,
   "id": "054658d6-2578-4a76-bf0d-0757fddf2c22",
   "metadata": {},
   "outputs": [
    {
     "data": {
      "text/plain": [
       "20.861684"
      ]
     },
     "execution_count": 77,
     "metadata": {},
     "output_type": "execute_result"
    }
   ],
   "source": [
    "num.std()"
   ]
  },
  {
   "cell_type": "code",
   "execution_count": 81,
   "id": "1d1aa859-62bd-42c9-81a2-354878669158",
   "metadata": {},
   "outputs": [
    {
     "data": {
      "text/plain": [
       "<matplotlib.collections.PathCollection at 0x7f12ff127a00>"
      ]
     },
     "execution_count": 81,
     "metadata": {},
     "output_type": "execute_result"
    },
    {
     "data": {
      "image/png": "[encoded data removed]",
      "text/plain": [
       "<Figure size 640x480 with 1 Axes>"
      ]
     },
     "metadata": {},
     "output_type": "display_data"
    }
   ],
   "source": [
    "plt.scatter(num, range(len(num)))\n",
    "plt.scatter([num.mean()],[4.5])"
   ]
  },
  {
   "cell_type": "code",
   "execution_count": 80,
   "id": "e52026bd-33ec-426c-8bf1-b068cecff509",
   "metadata": {},
   "outputs": [
    {
     "data": {
      "text/plain": [
       "<matplotlib.collections.PathCollection at 0x7f12ff1138e0>"
      ]
     },
     "execution_count": 80,
     "metadata": {},
     "output_type": "execute_result"
    },
    {
     "data": {
      "image/png": "[encoded data removed]",
      "text/plain": [
       "<Figure size 640x480 with 1 Axes>"
      ]
     },
     "metadata": {},
     "output_type": "display_data"
    }
   ],
   "source": [
    "plt.scatter([num.mean()],[4.5])"
   ]
  },
  {
   "cell_type": "code",
   "execution_count": 82,
   "id": "43798d75-ae0e-4ed5-9950-c606d0c77159",
   "metadata": {},
   "outputs": [
    {
     "data": {
      "text/plain": [
       "array([67, 23, 54, 17, 53, 28, 55, 34, 84])"
      ]
     },
     "execution_count": 82,
     "metadata": {},
     "output_type": "execute_result"
    }
   ],
   "source": [
    "def zscore(n):\n",
    "    z= (n- n.mean())/ n.std()\n",
    "    return z\n",
    "num"
   ]
  },
  {
   "cell_type": "code",
   "execution_count": 83,
   "id": "db08e5f0-4576-47f7-bd8b-802870074ee5",
   "metadata": {},
   "outputs": [
    {
     "data": {
      "text/plain": [
       "array([ 1.001304, -1.107826,  0.378152, -1.395434,  0.330217, -0.868152,\n",
       "        0.426087, -0.580543,  1.816195])"
      ]
     },
     "execution_count": 83,
     "metadata": {},
     "output_type": "execute_result"
    }
   ],
   "source": [
    "zscore(num)"
   ]
  },
  {
   "cell_type": "code",
   "execution_count": 84,
   "id": "f2c706b8-36e2-489b-b92f-369dccaf2a32",
   "metadata": {},
   "outputs": [
    {
     "data": {
      "text/plain": [
       "-0.000000"
      ]
     },
     "execution_count": 84,
     "metadata": {},
     "output_type": "execute_result"
    }
   ],
   "source": [
    "zscore(num).mean()"
   ]
  },
  {
   "cell_type": "code",
   "execution_count": 87,
   "id": "72d8e6c5-0247-4900-98fd-2e47d5c95b9b",
   "metadata": {},
   "outputs": [],
   "source": [
    "num1= np.arange(1,11)\n",
    "num2= np.arange(10,101,10)\n",
    "num3= np.arange(100,1001,100)"
   ]
  },
  {
   "cell_type": "code",
   "execution_count": 88,
   "id": "808b528d-0df1-4217-9e87-b977231a49b3",
   "metadata": {},
   "outputs": [
    {
     "data": {
      "text/plain": [
       "array([ 1,  2,  3,  4,  5,  6,  7,  8,  9, 10])"
      ]
     },
     "execution_count": 88,
     "metadata": {},
     "output_type": "execute_result"
    }
   ],
   "source": [
    "num1"
   ]
  },
  {
   "cell_type": "code",
   "execution_count": 89,
   "id": "09981e87-83ab-4dcc-b9f2-27c1aa85d863",
   "metadata": {},
   "outputs": [
    {
     "data": {
      "text/plain": [
       "array([ 10,  20,  30,  40,  50,  60,  70,  80,  90, 100])"
      ]
     },
     "execution_count": 89,
     "metadata": {},
     "output_type": "execute_result"
    }
   ],
   "source": [
    "num2"
   ]
  },
  {
   "cell_type": "code",
   "execution_count": 91,
   "id": "d13d9914-a896-43c3-8eda-70c07b3c68dc",
   "metadata": {},
   "outputs": [
    {
     "data": {
      "text/plain": [
       "array([ 100,  200,  300,  400,  500,  600,  700,  800,  900, 1000])"
      ]
     },
     "execution_count": 91,
     "metadata": {},
     "output_type": "execute_result"
    }
   ],
   "source": [
    "num3"
   ]
  },
  {
   "cell_type": "code",
   "execution_count": 92,
   "id": "3770f973-c4f7-4760-85a6-53e89a4d1c69",
   "metadata": {},
   "outputs": [
    {
     "data": {
      "text/plain": [
       "array([-1.566699, -1.218544, -0.870388, -0.522233, -0.174078,  0.174078,\n",
       "        0.522233,  0.870388,  1.218544,  1.566699])"
      ]
     },
     "execution_count": 92,
     "metadata": {},
     "output_type": "execute_result"
    }
   ],
   "source": [
    "zscore(num1)"
   ]
  },
  {
   "cell_type": "code",
   "execution_count": 93,
   "id": "938b5cb6-4319-43ef-a05d-40376e83976e",
   "metadata": {},
   "outputs": [
    {
     "data": {
      "text/plain": [
       "array([-1.566699, -1.218544, -0.870388, -0.522233, -0.174078,  0.174078,\n",
       "        0.522233,  0.870388,  1.218544,  1.566699])"
      ]
     },
     "execution_count": 93,
     "metadata": {},
     "output_type": "execute_result"
    }
   ],
   "source": [
    "zscore(num2)"
   ]
  },
  {
   "cell_type": "code",
   "execution_count": 94,
   "id": "9d6a830a-f03a-46ab-9e46-0362db827eb0",
   "metadata": {},
   "outputs": [
    {
     "data": {
      "text/plain": [
       "array([-1.566699, -1.218544, -0.870388, -0.522233, -0.174078,  0.174078,\n",
       "        0.522233,  0.870388,  1.218544,  1.566699])"
      ]
     },
     "execution_count": 94,
     "metadata": {},
     "output_type": "execute_result"
    }
   ],
   "source": [
    "zscore(num3)"
   ]
  },
  {
   "cell_type": "code",
   "execution_count": 96,
   "id": "67e45148-67d4-4ee6-b4cd-bf3fe652465d",
   "metadata": {},
   "outputs": [
    {
     "data": {
      "text/plain": [
       "<matplotlib.collections.PathCollection at 0x7f12feeedbb0>"
      ]
     },
     "execution_count": 96,
     "metadata": {},
     "output_type": "execute_result"
    },
    {
     "data": {
      "image/png": "[encoded data removed]",
      "text/plain": [
       "<Figure size 640x480 with 2 Axes>"
      ]
     },
     "metadata": {},
     "output_type": "display_data"
    }
   ],
   "source": [
    "plt.subplot(1,2,1)\n",
    "plt.scatter(num, range(len(num)))\n",
    "plt.subplot(1,2,2)\n",
    "plt.scatter(zscore(num), range(len(num)))\n"
   ]
  },
  {
   "cell_type": "code",
   "execution_count": 103,
   "id": "117fcb87-ef84-4632-bfb9-717bf01ab1b4",
   "metadata": {},
   "outputs": [
    {
     "data": {
      "text/plain": [
       "array([[   45,     2, 23000],\n",
       "       [   67,     4, 18000],\n",
       "       [   52,     5, 25600],\n",
       "       [   49,     3, 24500],\n",
       "       [   63,     6, 21900]], dtype=int16)"
      ]
     },
     "execution_count": 103,
     "metadata": {},
     "output_type": "execute_result"
    }
   ],
   "source": [
    "M= np.array([[45,2,23000],[67,4,18000],[52,5,25600],[49,3,24500],[63,6,21900]], dtype= np.int16)\n",
    "M"
   ]
  },
  {
   "cell_type": "code",
   "execution_count": 119,
   "id": "4de30361-d61c-437e-a693-86cff6632577",
   "metadata": {},
   "outputs": [],
   "source": [
    "from sklearn.preprocessing import StandardScaler"
   ]
  },
  {
   "cell_type": "code",
   "execution_count": 120,
   "id": "16939a3e-c051-490b-8b98-486ab1e9565c",
   "metadata": {},
   "outputs": [],
   "source": [
    "scaler = StandardScaler()"
   ]
  },
  {
   "cell_type": "code",
   "execution_count": 121,
   "id": "94046250-9011-4a9a-96d5-055e9273d5e8",
   "metadata": {},
   "outputs": [],
   "source": [
    "M_scaled= scaler.fit_transform(M)"
   ]
  },
  {
   "cell_type": "code",
   "execution_count": 122,
   "id": "30ed3d4f-ca66-4e0d-ab84-575a89183384",
   "metadata": {},
   "outputs": [
    {
     "data": {
      "text/plain": [
       "array([[-1.214286, -1.414214,  0.152454],\n",
       "       [ 1.404762,  0.      , -1.753224],\n",
       "       [-0.380952,  0.707107,  1.143407],\n",
       "       [-0.738095, -0.707107,  0.724158],\n",
       "       [ 0.928571,  1.414214, -0.266795]])"
      ]
     },
     "execution_count": 122,
     "metadata": {},
     "output_type": "execute_result"
    }
   ],
   "source": [
    "M_scaled"
   ]
  },
  {
   "cell_type": "code",
   "execution_count": 126,
   "id": "a951c44b-4c9e-47b1-b8e7-e692f4f4e9e0",
   "metadata": {},
   "outputs": [
    {
     "data": {
      "text/plain": [
       "array([0.696212, 1.291856, 0.640998, 0.682126, 0.706363])"
      ]
     },
     "execution_count": 126,
     "metadata": {},
     "output_type": "execute_result"
    }
   ],
   "source": [
    "M_scaled.std(axis=1)"
   ]
  },
  {
   "cell_type": "code",
   "execution_count": 127,
   "id": "787e8b18-668f-4f87-aed8-ee7a90f086de",
   "metadata": {},
   "outputs": [
    {
     "data": {
      "text/plain": [
       "array([1., 1., 1.])"
      ]
     },
     "execution_count": 127,
     "metadata": {},
     "output_type": "execute_result"
    }
   ],
   "source": [
    "M_scaled.std(axis=0)"
   ]
  },
  {
   "cell_type": "code",
   "execution_count": 128,
   "id": "07a36cde-7ded-4d55-8c4d-4423848a8b03",
   "metadata": {},
   "outputs": [
    {
     "data": {
      "text/plain": [
       "array([-0.825348, -0.116154,  0.489854, -0.240348,  0.691997])"
      ]
     },
     "execution_count": 128,
     "metadata": {},
     "output_type": "execute_result"
    }
   ],
   "source": [
    "M_scaled.mean(axis=1)"
   ]
  },
  {
   "cell_type": "code",
   "execution_count": 129,
   "id": "e3fbc981-1393-4c11-a4a7-33e1c4246396",
   "metadata": {},
   "outputs": [
    {
     "data": {
      "text/plain": [
       "array([-3.330669e-16,  0.000000e+00, -4.440892e-17])"
      ]
     },
     "execution_count": 129,
     "metadata": {},
     "output_type": "execute_result"
    }
   ],
   "source": [
    "M_scaled.mean(axis=0)"
   ]
  },
  {
   "cell_type": "code",
   "execution_count": 130,
   "id": "a77da051-992a-4921-943b-3a3cc44d6854",
   "metadata": {},
   "outputs": [
    {
     "data": {
      "text/plain": [
       "array([[ 0.727066, -1.130336,  0.424901,  0.705773, -0.727405],\n",
       "       [-1.130336,  2.503338, -1.18455 , -1.195105,  1.006654],\n",
       "       [ 0.424901, -1.18455 ,  0.616317,  0.481196, -0.337864],\n",
       "       [ 0.705773, -1.195105,  0.481196,  0.697944, -0.689808],\n",
       "       [-0.727405,  1.006654, -0.337864, -0.689808,  0.748423]])"
      ]
     },
     "execution_count": 130,
     "metadata": {},
     "output_type": "execute_result"
    }
   ],
   "source": [
    "np.cov(M_scaled)"
   ]
  },
  {
   "cell_type": "code",
   "execution_count": 131,
   "id": "7333f89c-b551-4db3-9232-cc8f58818968",
   "metadata": {},
   "outputs": [
    {
     "data": {
      "text/plain": [
       "0.000000"
      ]
     },
     "execution_count": 131,
     "metadata": {},
     "output_type": "execute_result"
    }
   ],
   "source": [
    "x= np.array([4,4,4,4,4,4,4,4,4,4,4])\n",
    "x.var()"
   ]
  },
  {
   "cell_type": "code",
   "execution_count": 132,
   "id": "e504eae2-02a9-40cc-ad88-f544894ed409",
   "metadata": {},
   "outputs": [
    {
     "data": {
      "text/plain": [
       "0.000000"
      ]
     },
     "execution_count": 132,
     "metadata": {},
     "output_type": "execute_result"
    }
   ],
   "source": [
    "x.std()"
   ]
  },
  {
   "cell_type": "code",
   "execution_count": 134,
   "id": "536c8ab4-baf2-4c45-a5a6-520d8efed7e4",
   "metadata": {},
   "outputs": [],
   "source": [
    "#principal component analysis"
   ]
  },
  {
   "cell_type": "code",
   "execution_count": 135,
   "id": "c4816581-f755-49b9-91d9-d2dc7715d1b3",
   "metadata": {},
   "outputs": [
    {
     "data": {
      "text/plain": [
       "array([[   45,     2, 23000,   405],\n",
       "       [   67,     4, 18000,   410],\n",
       "       [   52,     5, 25600,   567],\n",
       "       [   49,     3, 24500,   398],\n",
       "       [   63,     6, 21900,   411],\n",
       "       [   55,     8, 26900,   500],\n",
       "       [   51,     2, 26700,   465],\n",
       "       [   60,     7, 28000,   489]], dtype=int16)"
      ]
     },
     "execution_count": 135,
     "metadata": {},
     "output_type": "execute_result"
    }
   ],
   "source": [
    "M= np.array([[45,2,23000,405],[67,4,18000,410],[52,5,25600,567],[49,3,24500,398],[63,6,21900,411],[55,8,26900,500],\n",
    "             [51,2,26700,465],[60,7,28000,489]],dtype = np.int16)\n",
    "M"
   ]
  },
  {
   "cell_type": "code",
   "execution_count": 136,
   "id": "ab563c09-c66c-4061-b347-72c12d3bc4a1",
   "metadata": {},
   "outputs": [],
   "source": [
    "### 1. STANDARDIZATIOM"
   ]
  },
  {
   "cell_type": "code",
   "execution_count": 137,
   "id": "1b730dae-9c7c-4599-8da0-29f8dd84b743",
   "metadata": {},
   "outputs": [
    {
     "data": {
      "text/plain": [
       "array([[-1.461492, -1.239591, -0.432527, -0.896125],\n",
       "       [ 1.675369, -0.295141, -2.064704, -0.807619],\n",
       "       [-0.4634  ,  0.177084,  0.416205,  1.971475],\n",
       "       [-0.891154, -0.767366,  0.057126, -1.020034],\n",
       "       [ 1.105031,  0.649309, -0.791606, -0.789918],\n",
       "       [-0.035646,  1.59376 ,  0.840571,  0.785492],\n",
       "       [-0.605985, -1.239591,  0.775284,  0.165949],\n",
       "       [ 0.677277,  1.121535,  1.19965 ,  0.590779]])"
      ]
     },
     "execution_count": 137,
     "metadata": {},
     "output_type": "execute_result"
    }
   ],
   "source": [
    "std = np.std(M, axis=0)\n",
    "mean =  np.mean(M, axis=0)\n",
    "M_standardized = (M- mean) / std\n",
    "M_standardized"
   ]
  },
  {
   "cell_type": "code",
   "execution_count": 138,
   "id": "2d2a6b2e-2d7e-41c3-bc6c-bed56a339819",
   "metadata": {},
   "outputs": [
    {
     "data": {
      "text/plain": [
       "array([1., 1., 1., 1.])"
      ]
     },
     "execution_count": 138,
     "metadata": {},
     "output_type": "execute_result"
    }
   ],
   "source": [
    "M_standardized.std(axis=0)"
   ]
  },
  {
   "cell_type": "markdown",
   "id": "5dbaa5ec-9c54-4094-838a-fab57a5a6d45",
   "metadata": {},
   "source": [
    "#### 2.compute a covariance matrix"
   ]
  },
  {
   "cell_type": "code",
   "execution_count": 140,
   "id": "a82181c3-4126-43fd-acc8-30b90d08eed5",
   "metadata": {},
   "outputs": [
    {
     "data": {
      "text/plain": [
       "array([[ 1.142857,  0.584346, -0.518973, -0.092754],\n",
       "       [ 0.584346,  1.142857,  0.340784,  0.525272],\n",
       "       [-0.518973,  0.340784,  1.142857,  0.705759],\n",
       "       [-0.092754,  0.525272,  0.705759,  1.142857]])"
      ]
     },
     "execution_count": 140,
     "metadata": {},
     "output_type": "execute_result"
    }
   ],
   "source": [
    "covariance_matrix = np.cov(M_standardized.T)\n",
    "covariance_matrix"
   ]
  },
  {
   "cell_type": "code",
   "execution_count": 144,
   "id": "243ea4dd-5913-4e7f-b0f7-e302baad02c7",
   "metadata": {},
   "outputs": [],
   "source": [
    "##### 3. eigen values"
   ]
  },
  {
   "cell_type": "code",
   "execution_count": 145,
   "id": "80227cf6-07aa-4bf5-8cb3-71a51cf5c8ed",
   "metadata": {},
   "outputs": [],
   "source": [
    "eigenvalues , eigenvectors = np.linalg.eig(covariance_matrix)"
   ]
  },
  {
   "cell_type": "code",
   "execution_count": 146,
   "id": "ad099894-8383-4cc6-977b-3d132fce1460",
   "metadata": {},
   "outputs": [
    {
     "data": {
      "text/plain": [
       "array([2.212464, 1.774498, 0.171985, 0.412481])"
      ]
     },
     "execution_count": 146,
     "metadata": {},
     "output_type": "execute_result"
    }
   ],
   "source": [
    "eigenvalues"
   ]
  },
  {
   "cell_type": "code",
   "execution_count": 147,
   "id": "aa33199d-e963-4cb9-a6ae-a4875f4d152f",
   "metadata": {},
   "outputs": [
    {
     "data": {
      "text/plain": [
       "array([[ 0.108472,  0.767374,  0.621334,  0.11539 ],\n",
       "       [-0.449974,  0.565886, -0.540403, -0.43042 ],\n",
       "       [-0.616356, -0.300716,  0.564346, -0.459553],\n",
       "       [-0.637074,  0.021902, -0.058507,  0.768267]])"
      ]
     },
     "execution_count": 147,
     "metadata": {},
     "output_type": "execute_result"
    }
   ],
   "source": [
    "eigenvectors"
   ]
  },
  {
   "cell_type": "markdown",
   "id": "dc4e3451-3678-4822-bc64-6ad8068d7ff3",
   "metadata": {},
   "source": [
    "###### 4.sort"
   ]
  },
  {
   "cell_type": "code",
   "execution_count": 150,
   "id": "8b53e092-b93d-45e5-818c-b445fc725b20",
   "metadata": {},
   "outputs": [
    {
     "data": {
      "text/plain": [
       "array([0, 1, 3, 2])"
      ]
     },
     "execution_count": 150,
     "metadata": {},
     "output_type": "execute_result"
    }
   ],
   "source": [
    "sorted_index = np.argsort(eigenvalues)[::-1]\n",
    "sorted_index"
   ]
  },
  {
   "cell_type": "code",
   "execution_count": 151,
   "id": "6882427f-a689-4aae-9b73-0ac1e189ecb1",
   "metadata": {},
   "outputs": [
    {
     "data": {
      "text/plain": [
       "array([2.212464, 1.774498, 0.412481, 0.171985])"
      ]
     },
     "execution_count": 151,
     "metadata": {},
     "output_type": "execute_result"
    }
   ],
   "source": [
    "sorted_eigenvalues = eigenvalues[sorted_index]\n",
    "sorted_eigenvalues"
   ]
  },
  {
   "cell_type": "code",
   "execution_count": 152,
   "id": "4690ffbd-5e9f-45da-a86f-8543a8319c88",
   "metadata": {},
   "outputs": [
    {
     "data": {
      "text/plain": [
       "array([[ 0.108472,  0.767374,  0.11539 ,  0.621334],\n",
       "       [-0.449974,  0.565886, -0.43042 , -0.540403],\n",
       "       [-0.616356, -0.300716, -0.459553,  0.564346],\n",
       "       [-0.637074,  0.021902,  0.768267, -0.058507]])"
      ]
     },
     "execution_count": 152,
     "metadata": {},
     "output_type": "execute_result"
    }
   ],
   "source": [
    "sorted_eigenvectors = eigenvectors[:, sorted_index]\n",
    "sorted_eigenvectors"
   ]
  },
  {
   "cell_type": "code",
   "execution_count": 153,
   "id": "5d65cfac-41a9-4711-bf92-a98aaf23f29e",
   "metadata": {},
   "outputs": [],
   "source": [
    "###### 5.combine feature vectors"
   ]
  },
  {
   "cell_type": "code",
   "execution_count": 154,
   "id": "3c6711ee-709b-4511-a30e-f6f3abb8d60f",
   "metadata": {},
   "outputs": [
    {
     "data": {
      "text/plain": [
       "array([[ 1.23674 , -1.712537, -0.124792, -0.429862],\n",
       "       [ 2.101642,  1.72182 ,  0.64873 ,  0.082502],\n",
       "       [-1.642455, -0.337373,  1.193659, -0.264084],\n",
       "       [ 0.863255, -1.157609, -0.582452, -0.047099],\n",
       "       [ 0.81884 ,  1.436155, -0.395049, -0.06482 ],\n",
       "       [-1.739524,  0.638963, -0.472918, -0.455004],\n",
       "       [-0.091522, -1.39599 ,  0.234829,  0.721179],\n",
       "       [-1.546976,  0.806571, -0.502007,  0.457188]])"
      ]
     },
     "execution_count": 154,
     "metadata": {},
     "output_type": "execute_result"
    }
   ],
   "source": [
    "M_pca = np.dot(M_standardized, sorted_eigenvectors)\n",
    "M_pca"
   ]
  },
  {
   "cell_type": "code",
   "execution_count": 155,
   "id": "5d87b28a-c7c0-4cbb-bbe1-fa3124d45bc1",
   "metadata": {},
   "outputs": [
    {
     "data": {
      "text/plain": [
       "PearsonRResult(statistic=5.551115123125783e-17, pvalue=1.0)"
      ]
     },
     "execution_count": 155,
     "metadata": {},
     "output_type": "execute_result"
    }
   ],
   "source": [
    "pearsonr(M_pca[:,0],M_pca[:,1])"
   ]
  },
  {
   "cell_type": "code",
   "execution_count": 156,
   "id": "0e16e4fd-8e11-41e9-8fb9-d20c945c823a",
   "metadata": {},
   "outputs": [
    {
     "data": {
      "text/plain": [
       "PearsonRResult(statistic=2.0816681711721685e-16, pvalue=0.9999999999999996)"
      ]
     },
     "execution_count": 156,
     "metadata": {},
     "output_type": "execute_result"
    }
   ],
   "source": [
    "pearsonr(M_pca[:,1],M_pca[:,2])"
   ]
  },
  {
   "cell_type": "code",
   "execution_count": 157,
   "id": "961ec091-125d-4923-b85a-42be73837c27",
   "metadata": {},
   "outputs": [
    {
     "data": {
      "text/plain": [
       "PearsonRResult(statistic=-9.853229343548264e-16, pvalue=0.9999999999999983)"
      ]
     },
     "execution_count": 157,
     "metadata": {},
     "output_type": "execute_result"
    }
   ],
   "source": [
    "pearsonr(M_pca[:,2],M_pca[:,3])"
   ]
  },
  {
   "cell_type": "code",
   "execution_count": 158,
   "id": "333e90d8-780d-4189-8394-a5cbb48f6cdd",
   "metadata": {},
   "outputs": [
    {
     "data": {
      "text/plain": [
       "array([1.935906, 1.552686, 0.360921, 0.150487])"
      ]
     },
     "execution_count": 158,
     "metadata": {},
     "output_type": "execute_result"
    }
   ],
   "source": [
    "M_pca.var(axis=0)"
   ]
  },
  {
   "cell_type": "code",
   "execution_count": 159,
   "id": "ca238dc5-0a53-4028-96c1-aebfbfc483a1",
   "metadata": {},
   "outputs": [
    {
     "data": {
      "text/plain": [
       "array([1.099302, 0.655728, 1.007571, 0.553334, 0.521921, 0.709053,\n",
       "       0.615446, 0.837645])"
      ]
     },
     "execution_count": 159,
     "metadata": {},
     "output_type": "execute_result"
    }
   ],
   "source": [
    "M_pca.var(axis=1)"
   ]
  },
  {
   "cell_type": "code",
   "execution_count": 160,
   "id": "41592f2f-2779-44d2-be18-1d351e197bef",
   "metadata": {},
   "outputs": [],
   "source": [
    "####PCA Library"
   ]
  },
  {
   "cell_type": "code",
   "execution_count": 161,
   "id": "d2ec83ec-ad2b-4eb9-b66c-cf1ab0153409",
   "metadata": {},
   "outputs": [
    {
     "data": {
      "text/plain": [
       "array([[   45,     2, 23000,   405],\n",
       "       [   67,     4, 18000,   410],\n",
       "       [   52,     5, 25600,   567],\n",
       "       [   49,     3, 24500,   398],\n",
       "       [   63,     6, 21900,   411],\n",
       "       [   55,     8, 26900,   500],\n",
       "       [   51,     2, 26700,   465],\n",
       "       [   60,     7, 28000,   489]], dtype=int16)"
      ]
     },
     "execution_count": 161,
     "metadata": {},
     "output_type": "execute_result"
    }
   ],
   "source": [
    "M"
   ]
  },
  {
   "cell_type": "code",
   "execution_count": 162,
   "id": "745f7bb3-839b-46bf-afa7-19ad88a454c0",
   "metadata": {},
   "outputs": [],
   "source": [
    "from sklearn.decomposition import PCA"
   ]
  },
  {
   "cell_type": "code",
   "execution_count": 163,
   "id": "caa06f01-986f-4098-a1f8-8fa5960dd3e6",
   "metadata": {},
   "outputs": [],
   "source": [
    "pca=PCA()"
   ]
  },
  {
   "cell_type": "code",
   "execution_count": 164,
   "id": "10aba57b-104e-4e90-af2d-fa41c99a4ccb",
   "metadata": {},
   "outputs": [],
   "source": [
    "M_pca_new=pca.fit_transform(M_standardized)"
   ]
  },
  {
   "cell_type": "code",
   "execution_count": 166,
   "id": "c2c51247-d802-4ca0-a127-75e4b19036ca",
   "metadata": {},
   "outputs": [
    {
     "data": {
      "text/plain": [
       "array([[ 1.23674 , -1.712537, -0.124792, -0.429862],\n",
       "       [ 2.101642,  1.72182 ,  0.64873 ,  0.082502],\n",
       "       [-1.642455, -0.337373,  1.193659, -0.264084],\n",
       "       [ 0.863255, -1.157609, -0.582452, -0.047099],\n",
       "       [ 0.81884 ,  1.436155, -0.395049, -0.06482 ],\n",
       "       [-1.739524,  0.638963, -0.472918, -0.455004],\n",
       "       [-0.091522, -1.39599 ,  0.234829,  0.721179],\n",
       "       [-1.546976,  0.806571, -0.502007,  0.457188]])"
      ]
     },
     "execution_count": 166,
     "metadata": {},
     "output_type": "execute_result"
    }
   ],
   "source": [
    "M_pca_new\n",
    "\n"
   ]
  },
  {
   "cell_type": "code",
   "execution_count": 167,
   "id": "3d049fdd-8cf6-4608-ab1a-9e3654efc801",
   "metadata": {},
   "outputs": [
    {
     "data": {
      "text/plain": [
       "array([[ 1.23674 , -1.712537, -0.124792, -0.429862],\n",
       "       [ 2.101642,  1.72182 ,  0.64873 ,  0.082502],\n",
       "       [-1.642455, -0.337373,  1.193659, -0.264084],\n",
       "       [ 0.863255, -1.157609, -0.582452, -0.047099],\n",
       "       [ 0.81884 ,  1.436155, -0.395049, -0.06482 ],\n",
       "       [-1.739524,  0.638963, -0.472918, -0.455004],\n",
       "       [-0.091522, -1.39599 ,  0.234829,  0.721179],\n",
       "       [-1.546976,  0.806571, -0.502007,  0.457188]])"
      ]
     },
     "execution_count": 167,
     "metadata": {},
     "output_type": "execute_result"
    }
   ],
   "source": [
    "M_pca"
   ]
  },
  {
   "cell_type": "code",
   "execution_count": 168,
   "id": "2179d28f-5c87-491e-b8a8-60ce8dbbd68b",
   "metadata": {},
   "outputs": [],
   "source": [
    "var = pca.explained_variance_ratio_"
   ]
  },
  {
   "cell_type": "code",
   "execution_count": 169,
   "id": "5fb8d525-861f-43c3-b788-077d920946ef",
   "metadata": {},
   "outputs": [
    {
     "data": {
      "text/plain": [
       "array([0.483977, 0.388172, 0.09023 , 0.037622])"
      ]
     },
     "execution_count": 169,
     "metadata": {},
     "output_type": "execute_result"
    }
   ],
   "source": [
    "var"
   ]
  },
  {
   "cell_type": "code",
   "execution_count": 170,
   "id": "1257159b-caed-4ea9-9283-df72a5652091",
   "metadata": {},
   "outputs": [
    {
     "data": {
      "text/plain": [
       "[<matplotlib.lines.Line2D at 0x7f12fdba10d0>]"
      ]
     },
     "execution_count": 170,
     "metadata": {},
     "output_type": "execute_result"
    },
    {
     "data": {
      "image/png": "[encoded data removed]",
      "text/plain": [
       "<Figure size 640x480 with 1 Axes>"
      ]
     },
     "metadata": {},
     "output_type": "display_data"
    }
   ],
   "source": [
    "plt.xlabel('Pricipal Components')\n",
    "plt.ylabel('Variance')\n",
    "plt.grid()\n",
    "plt.bar(range(4),var)\n",
    "plt.plot(range(4),var, color='y',marker='o')"
   ]
  },
  {
   "cell_type": "code",
   "execution_count": 175,
   "id": "d632e8bf-ff41-400c-9fad-33fc584f97bf",
   "metadata": {},
   "outputs": [],
   "source": [
    "pca=PCA(n_components=2)"
   ]
  },
  {
   "cell_type": "code",
   "execution_count": 179,
   "id": "25225525-cad8-460e-b4bc-fddbdc56b949",
   "metadata": {},
   "outputs": [],
   "source": [
    "M_pca2 = pca.fit_transform(M_standardized)"
   ]
  },
  {
   "cell_type": "code",
   "execution_count": 180,
   "id": "49cb4ac5-5d52-4753-8d86-aaf5e337ff6f",
   "metadata": {},
   "outputs": [
    {
     "data": {
      "text/plain": [
       "array([[ 1.23674 , -1.712537],\n",
       "       [ 2.101642,  1.72182 ],\n",
       "       [-1.642455, -0.337373],\n",
       "       [ 0.863255, -1.157609],\n",
       "       [ 0.81884 ,  1.436155],\n",
       "       [-1.739524,  0.638963],\n",
       "       [-0.091522, -1.39599 ],\n",
       "       [-1.546976,  0.806571]])"
      ]
     },
     "execution_count": 180,
     "metadata": {},
     "output_type": "execute_result"
    }
   ],
   "source": [
    "M_pca2"
   ]
  },
  {
   "cell_type": "code",
   "execution_count": 182,
   "id": "76531988-302a-4214-abed-76d509b5f476",
   "metadata": {},
   "outputs": [
    {
     "data": {
      "text/plain": [
       "<matplotlib.collections.PathCollection at 0x7f12fdb09910>"
      ]
     },
     "execution_count": 182,
     "metadata": {},
     "output_type": "execute_result"
    },
    {
     "data": {
      "image/png": "[encoded data removed]",
      "text/plain": [
       "<Figure size 640x480 with 1 Axes>"
      ]
     },
     "metadata": {},
     "output_type": "display_data"
    }
   ],
   "source": [
    "plt.scatter(M_pca2[:,0], M_pca2[:,1])"
   ]
  },
  {
   "cell_type": "code",
   "execution_count": null,
   "id": "25812d8a-3e94-4ffa-8d6f-d3647017668a",
   "metadata": {},
   "outputs": [],
   "source": []
  }
 ],
 "metadata": {
  "kernelspec": {
   "display_name": "Python 3 (ipykernel)",
   "language": "python",
   "name": "python3"
  },
  "language_info": {
   "codemirror_mode": {
    "name": "ipython",
    "version": 3
   },
   "file_extension": ".py",
   "mimetype": "text/x-python",
   "name": "python",
   "nbconvert_exporter": "python",
   "pygments_lexer": "ipython3",
   "version": "3.8.10"
  }
 },
 "nbformat": 4,
 "nbformat_minor": 5
}
