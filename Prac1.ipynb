{
 "cells": [
  {
   "cell_type": "code",
   "execution_count": 66,
   "id": "6e32d399-e98d-4ddb-af00-50cac1fef712",
   "metadata": {},
   "outputs": [],
   "source": [
    "# num = [5,7,1,6,2,3,8,9,4,0]\n",
    "# x=num[:5]\n",
    "# y=num[5:]\n",
    "# y.sort()\n",
    "# num=x+y\n",
    "# num"
   ]
  },
  {
   "cell_type": "code",
   "execution_count": 9,
   "id": "32a004df-1482-4168-ae0d-1f78f3ab2767",
   "metadata": {},
   "outputs": [
    {
     "name": "stdout",
     "output_type": "stream",
     "text": [
      "[12, 96, 42, 27]\n"
     ]
    }
   ],
   "source": [
    "# num = [23,32,56,12,67,82,96,46,42,61,27,88,35]\n",
    "# num2=[]\n",
    "# for i in num:\n",
    "#    if i%3==0:\n",
    "#     num2.append(i)  \n",
    "# print(num2)"
   ]
  },
  {
   "cell_type": "code",
   "execution_count": 67,
   "id": "cab2508d-188b-417e-9c37-d9c836a1d361",
   "metadata": {},
   "outputs": [
    {
     "data": {
      "text/plain": [
       "[1, 3, 13, 6, 2, 0, 15, 4, 8, 17]"
      ]
     },
     "execution_count": 67,
     "metadata": {},
     "output_type": "execute_result"
    }
   ],
   "source": [
    "before=[12,13,6,10,3,1,17,18,14,15]\n",
    "khali_list=[]\n",
    "# After=[12,1,6,10,3,13,15,18,14,17]\n",
    "for i in before:\n",
    "        if i%2!=0:\n",
    "         khali_list.append(i)\n",
    "khali_list.sort()\n",
    "khali_list\n",
    "\n",
    "index=0\n",
    "while index<len(num):\n",
    "    if num[index]%2==1:\n",
    "        num[index]=khali_list.pop(0)\n",
    "    index += 1\n",
    "num"
   ]
  },
  {
   "cell_type": "code",
   "execution_count": null,
   "id": "68572d05-484c-4637-a731-4e87cc10eb30",
   "metadata": {},
   "outputs": [],
   "source": []
  }
 ],
 "metadata": {
  "kernelspec": {
   "display_name": "Python 3 (ipykernel)",
   "language": "python",
   "name": "python3"
  },
  "language_info": {
   "codemirror_mode": {
    "name": "ipython",
    "version": 3
   },
   "file_extension": ".py",
   "mimetype": "text/x-python",
   "name": "python",
   "nbconvert_exporter": "python",
   "pygments_lexer": "ipython3",
   "version": "3.8.10"
  }
 },
 "nbformat": 4,
 "nbformat_minor": 5
}
