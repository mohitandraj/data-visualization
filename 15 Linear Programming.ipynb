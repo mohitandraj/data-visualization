{
 "cells": [
  {
   "cell_type": "raw",
   "id": "ece52fe9-b1ea-46da-a935-6882c576a0a1",
   "metadata": {},
   "source": [
    "Problem\n",
    " A small bakery wants to maximize its daily profit by producing cookies and cakes. They have limited flour and oven space available.\n",
    "Here's the information:\n",
    "\n",
    "Profit per unit:\n",
    " cookies : 10 per unit\n",
    " cakes : 200 per unit\n",
    "Flour requirement per unit:\n",
    " cookies; 1 cup per cookie\n",
    " cakes : 2 cups per cake\n",
    "oven time per unit:\n",
    " cookies: 10 minutes per cookie\n",
    "cakes : 15 min per cake\n",
    "available resources:\n",
    " flour: 100 cups\n",
    " over time: 240 MINUTES\n",
    "OBbjectives : maximize the total daily profit -->"
   ]
  },
  {
   "cell_type": "code",
   "execution_count": 34,
   "id": "2d991517-1d65-4c4f-801f-50c6b761d23a",
   "metadata": {},
   "outputs": [],
   "source": [
    "from pulp import LpProblem, LpVariable, LpMaximize, LpStatus"
   ]
  },
  {
   "cell_type": "code",
   "execution_count": 35,
   "id": "84a2a49c-a866-4fe3-8025-5227d474cd1b",
   "metadata": {},
   "outputs": [],
   "source": [
    "# Create the optimization problem\n",
    "problem = LpProblem(\"Bakery_Profit_Maximization\", LpMaximize)"
   ]
  },
  {
   "cell_type": "code",
   "execution_count": 36,
   "id": "40755df2-35a1-44d2-a60e-99cad93593c3",
   "metadata": {},
   "outputs": [
    {
     "data": {
      "text/plain": [
       "Bakery_Profit_Maximization:\n",
       "MAXIMIZE\n",
       "None\n",
       "VARIABLES"
      ]
     },
     "execution_count": 36,
     "metadata": {},
     "output_type": "execute_result"
    }
   ],
   "source": [
    "problem"
   ]
  },
  {
   "cell_type": "code",
   "execution_count": 37,
   "id": "e8b489ca-1317-4053-9e66-fc1f71145a9a",
   "metadata": {},
   "outputs": [],
   "source": [
    "# Decision Variables\n",
    "cookies = LpVariable(\"Cookies\", lowBound=0)\n",
    "# Number of Cookies to produce (non negative)\n",
    "cakes = LpVariable(\"Cakes\", lowBound=0, upBound=10)\n",
    "# Number of Cakes to produce (non negative)"
   ]
  },
  {
   "cell_type": "code",
   "execution_count": 38,
   "id": "ae4acf92-97a9-406c-8b1c-67fee181a057",
   "metadata": {},
   "outputs": [],
   "source": [
    "#objective function(maximize total profit)\n",
    "profit= 10* cookies + 200 * cakes\n",
    "problem+= profit"
   ]
  },
  {
   "cell_type": "code",
   "execution_count": 39,
   "id": "10761e92-ec70-433b-bb1c-ae45ceb6d6d6",
   "metadata": {},
   "outputs": [
    {
     "data": {
      "text/plain": [
       "Bakery_Profit_Maximization:\n",
       "MAXIMIZE\n",
       "200*Cakes + 10*Cookies + 0\n",
       "VARIABLES\n",
       "Cakes <= 10 Continuous\n",
       "Cookies Continuous"
      ]
     },
     "execution_count": 39,
     "metadata": {},
     "output_type": "execute_result"
    }
   ],
   "source": [
    "problem"
   ]
  },
  {
   "cell_type": "code",
   "execution_count": 40,
   "id": "7d5b7aba-6716-4f14-a87e-fa2e2798220b",
   "metadata": {},
   "outputs": [
    {
     "data": {
      "text/plain": [
       "pulp.pulp.LpProblem"
      ]
     },
     "execution_count": 40,
     "metadata": {},
     "output_type": "execute_result"
    }
   ],
   "source": [
    "type(problem)"
   ]
  },
  {
   "cell_type": "code",
   "execution_count": 41,
   "id": "d5d4de27-f92a-4ac8-a991-7815758c972c",
   "metadata": {},
   "outputs": [],
   "source": [
    "# Constraint 1: Flour Limitation\n",
    "problem += 1* cookies + 2 * cakes <= 100\n",
    "# Flour required per unit * number of units <= total flour"
   ]
  },
  {
   "cell_type": "code",
   "execution_count": 42,
   "id": "84fdea95-5097-46f4-840f-634653c73208",
   "metadata": {},
   "outputs": [
    {
     "data": {
      "text/plain": [
       "Bakery_Profit_Maximization:\n",
       "MAXIMIZE\n",
       "200*Cakes + 10*Cookies + 0\n",
       "SUBJECT TO\n",
       "_C1: 2 Cakes + Cookies <= 100\n",
       "\n",
       "VARIABLES\n",
       "Cakes <= 10 Continuous\n",
       "Cookies Continuous"
      ]
     },
     "execution_count": 42,
     "metadata": {},
     "output_type": "execute_result"
    }
   ],
   "source": [
    "problem"
   ]
  },
  {
   "cell_type": "code",
   "execution_count": 43,
   "id": "e7ee7f09-dd62-4dbe-bbd6-549d883c80c3",
   "metadata": {},
   "outputs": [],
   "source": [
    "# Constraint 2: Oven Time Limitation\n",
    "problem += 10 * cookies + 15 * cakes <=240\n",
    "# Oven Time per unit * number of units <= total Oven time"
   ]
  },
  {
   "cell_type": "code",
   "execution_count": 44,
   "id": "2f657cf0-826e-4c5e-b859-e3299b915f9d",
   "metadata": {},
   "outputs": [
    {
     "data": {
      "text/plain": [
       "Bakery_Profit_Maximization:\n",
       "MAXIMIZE\n",
       "200*Cakes + 10*Cookies + 0\n",
       "SUBJECT TO\n",
       "_C1: 2 Cakes + Cookies <= 100\n",
       "\n",
       "_C2: 15 Cakes + 10 Cookies <= 240\n",
       "\n",
       "VARIABLES\n",
       "Cakes <= 10 Continuous\n",
       "Cookies Continuous"
      ]
     },
     "execution_count": 44,
     "metadata": {},
     "output_type": "execute_result"
    }
   ],
   "source": [
    "problem"
   ]
  },
  {
   "cell_type": "code",
   "execution_count": 45,
   "id": "646dbb88-a154-4764-a678-12a91f625b2f",
   "metadata": {},
   "outputs": [
    {
     "name": "stdout",
     "output_type": "stream",
     "text": [
      "Welcome to the CBC MILP Solver \n",
      "Version: 2.10.3 \n",
      "Build Date: Dec 15 2019 \n",
      "\n",
      "command line - /home/duasp/.local/lib/python3.8/site-packages/pulp/solverdir/cbc/linux/64/cbc /tmp/b0ed592f6c5b4a9d9dfad7367722d69f-pulp.mps -max -timeMode elapsed -branch -printingOptions all -solution /tmp/b0ed592f6c5b4a9d9dfad7367722d69f-pulp.sol (default strategy 1)\n",
      "At line 2 NAME          MODEL\n",
      "At line 3 ROWS\n",
      "At line 7 COLUMNS\n",
      "At line 14 RHS\n",
      "At line 17 BOUNDS\n",
      "At line 19 ENDATA\n",
      "Problem MODEL has 2 rows, 2 columns and 4 elements\n",
      "Coin0008I MODEL read with 0 errors\n",
      "Option for timeMode changed from cpu to elapsed\n",
      "Presolve 2 (0) rows, 2 (0) columns and 4 (0) elements\n",
      "0  Obj -0 Dual inf 215 (2)\n",
      "0  Obj -0 Dual inf 215 (2)\n",
      "2  Obj 2090\n",
      "Optimal - objective value 2090\n",
      "Optimal objective 2090 - 2 iterations time 0.002\n",
      "Option for printingOptions changed from normal to all\n",
      "Total time (CPU seconds):       0.00   (Wallclock seconds):       0.00\n",
      "\n"
     ]
    }
   ],
   "source": [
    "# Solve the Problem\n",
    "status = problem.solve()"
   ]
  },
  {
   "cell_type": "code",
   "execution_count": 46,
   "id": "e319fc00-70ad-448d-9851-535013aa85a8",
   "metadata": {},
   "outputs": [
    {
     "data": {
      "text/plain": [
       "1"
      ]
     },
     "execution_count": 46,
     "metadata": {},
     "output_type": "execute_result"
    }
   ],
   "source": [
    "status"
   ]
  },
  {
   "cell_type": "code",
   "execution_count": 47,
   "id": "8cebbedd-21d5-430f-a832-a4402d8c6a8e",
   "metadata": {},
   "outputs": [
    {
     "data": {
      "text/plain": [
       "{0: 'Not Solved',\n",
       " 1: 'Optimal',\n",
       " -1: 'Infeasible',\n",
       " -2: 'Unbounded',\n",
       " -3: 'Undefined'}"
      ]
     },
     "execution_count": 47,
     "metadata": {},
     "output_type": "execute_result"
    }
   ],
   "source": [
    "LpStatus"
   ]
  },
  {
   "cell_type": "code",
   "execution_count": 48,
   "id": "2cb11ce2-4099-44ad-a8f4-9b50f439875a",
   "metadata": {},
   "outputs": [
    {
     "data": {
      "text/plain": [
       "'Optimal'"
      ]
     },
     "execution_count": 48,
     "metadata": {},
     "output_type": "execute_result"
    }
   ],
   "source": [
    "LpStatus[status]"
   ]
  },
  {
   "cell_type": "code",
   "execution_count": 49,
   "id": "9715506f-3d8e-4537-9cef-e0fb1b8e1551",
   "metadata": {},
   "outputs": [
    {
     "name": "stdout",
     "output_type": "stream",
     "text": [
      "Optimal number of cookies: 9.0\n",
      "Optimal number of cakes: 10.0\n",
      "Maximum daily profit: 2090.0\n"
     ]
    }
   ],
   "source": [
    "print(\"Optimal number of cookies:\", cookies.varValue)\n",
    "print(\"Optimal number of cakes:\", cakes.varValue)\n",
    "print(\"Maximum daily profit:\", problem.objective.value())"
   ]
  },
  {
   "cell_type": "raw",
   "id": "05304093-b3b3-4b96-afde-e2fc2bd43a05",
   "metadata": {},
   "source": [
    "scenario:\n",
    "A juice company needs to produce two types of juice blends:\n",
    "\n",
    "  Blend A : This requires 2 units of orange juice and 1 unit of apple juice per litre.\n",
    "  Blend B : This requires 1 unit of orange juice and 3 units of apple juice per liter.\n",
    "\n",
    "  Orange Juice REQUIREMENT FOR blend A : 200\n",
    "  Apple  Juice REQUIREMENT FOR blend A : 300\n",
    "\n",
    "The company wants to minimize the total cost of producing a certain amount of each blend while considering followinf factors:\n",
    "\n",
    "orange juice cost : $1 per unit\n",
    "apple juice cost: $0.5 per unit\n",
    "production target:\n",
    "100 liters of blend A\n",
    "150 liters of blend B"
   ]
  },
  {
   "cell_type": "code",
   "execution_count": 124,
   "id": "9be2d53f-7d5d-4ee8-85f7-d2fc9144aed5",
   "metadata": {},
   "outputs": [],
   "source": [
    "from pulp import LpProblem, LpVariable, LpMinimize, LpStatus"
   ]
  },
  {
   "cell_type": "code",
   "execution_count": 125,
   "id": "33361068-e739-4f36-997a-3f7839e627fe",
   "metadata": {},
   "outputs": [],
   "source": [
    "# Create the optimization problem\n",
    "problem1 = LpProblem(\"Production_Cost_Minimization\", LpMinimize)"
   ]
  },
  {
   "cell_type": "code",
   "execution_count": 126,
   "id": "88cbff48-4f4b-4089-86e1-488fa459a796",
   "metadata": {},
   "outputs": [
    {
     "data": {
      "text/plain": [
       "Production_Cost_Minimization:\n",
       "MINIMIZE\n",
       "None\n",
       "VARIABLES"
      ]
     },
     "execution_count": 126,
     "metadata": {},
     "output_type": "execute_result"
    }
   ],
   "source": [
    "problem1"
   ]
  },
  {
   "cell_type": "code",
   "execution_count": 127,
   "id": "6cd7c8fc-b91a-44e0-878f-328b6b7d1c69",
   "metadata": {},
   "outputs": [],
   "source": [
    "# Decision Variables\n",
    "x = LpVariable(\"Blend A\", lowBound=0)\n",
    "# Blend A (non negative)\n",
    "y = LpVariable(\"Blend B\", lowBound=0)\n",
    "# Blend B (non negative)"
   ]
  },
  {
   "cell_type": "code",
   "execution_count": 128,
   "id": "b1975544-98ca-40e3-8331-5657c8d54cbf",
   "metadata": {},
   "outputs": [],
   "source": [
    "#objective function(Minimize total Cost)\n",
    "Cost= 1*  x + 0.5 * y\n",
    "problem1+= Cost"
   ]
  },
  {
   "cell_type": "code",
   "execution_count": 129,
   "id": "2e2537c4-0680-4e12-ae2e-20f1edd83408",
   "metadata": {},
   "outputs": [],
   "source": [
    "# Constraint 1: Orange Juice requirement for Blend A\n",
    "problem1 +=2*x + y <= 200\n",
    "# Total orange juice used shouldn't exceed available amount \n",
    "# Modify this value based on your  juice availability"
   ]
  },
  {
   "cell_type": "code",
   "execution_count": 130,
   "id": "bda83c39-a406-46f7-ab81-2fccff0f9159",
   "metadata": {},
   "outputs": [],
   "source": [
    "# Constraint 2: Apple Juice requirement for Blend A\n",
    "problem1 +=x + 3* y <= 300\n",
    "# Total apple juice used shouldn't exceed available amount \n",
    "# Modify this value based on your  juice availability"
   ]
  },
  {
   "cell_type": "code",
   "execution_count": 131,
   "id": "f391ef3b-63e9-4e29-95e2-fffcf3de6f15",
   "metadata": {},
   "outputs": [],
   "source": [
    "# Constraint 3: Production target for Blend A\n",
    "problem += x >= 100 # Minimum production of Blend A"
   ]
  },
  {
   "cell_type": "code",
   "execution_count": 132,
   "id": "768e20b6-2e5f-4ac1-8890-487409c0bb8f",
   "metadata": {},
   "outputs": [],
   "source": [
    "# Constraint 4: Production target for Blend B\n",
    "problem += y  >= 150 # Minimum production of Blend B"
   ]
  },
  {
   "cell_type": "code",
   "execution_count": 133,
   "id": "e33fda52-9435-4af2-a958-7c9632a645d4",
   "metadata": {},
   "outputs": [
    {
     "name": "stdout",
     "output_type": "stream",
     "text": [
      "Welcome to the CBC MILP Solver \n",
      "Version: 2.10.3 \n",
      "Build Date: Dec 15 2019 \n",
      "\n",
      "command line - /home/duasp/.local/lib/python3.8/site-packages/pulp/solverdir/cbc/linux/64/cbc /tmp/5f6c49e2897d4db199afbdbff5ad8b1f-pulp.mps -timeMode elapsed -branch -printingOptions all -solution /tmp/5f6c49e2897d4db199afbdbff5ad8b1f-pulp.sol (default strategy 1)\n",
      "At line 2 NAME          MODEL\n",
      "At line 3 ROWS\n",
      "At line 7 COLUMNS\n",
      "At line 14 RHS\n",
      "At line 17 BOUNDS\n",
      "At line 18 ENDATA\n",
      "Problem MODEL has 2 rows, 2 columns and 4 elements\n",
      "Coin0008I MODEL read with 0 errors\n",
      "Option for timeMode changed from cpu to elapsed\n",
      "Presolve 0 (-2) rows, 0 (-2) columns and 0 (-4) elements\n",
      "Empty problem - 0 rows, 0 columns and 0 elements\n",
      "Optimal - objective value 0\n",
      "After Postsolve, objective 0, infeasibilities - dual 0 (0), primal 0 (0)\n",
      "Optimal objective 0 - 0 iterations time 0.002, Presolve 0.00\n",
      "Option for printingOptions changed from normal to all\n",
      "Total time (CPU seconds):       0.00   (Wallclock seconds):       0.00\n",
      "\n"
     ]
    }
   ],
   "source": [
    "# Solve the Linear programm\n",
    "status = problem1.solve()"
   ]
  },
  {
   "cell_type": "code",
   "execution_count": 134,
   "id": "3126d1e1-0905-4515-8804-d4c2dac88f1e",
   "metadata": {},
   "outputs": [
    {
     "data": {
      "text/plain": [
       "1"
      ]
     },
     "execution_count": 134,
     "metadata": {},
     "output_type": "execute_result"
    }
   ],
   "source": [
    "status"
   ]
  },
  {
   "cell_type": "code",
   "execution_count": 135,
   "id": "a8a2dbd6-c4e7-413c-9423-d9dbde651fe6",
   "metadata": {},
   "outputs": [
    {
     "data": {
      "text/plain": [
       "{0: 'Not Solved',\n",
       " 1: 'Optimal',\n",
       " -1: 'Infeasible',\n",
       " -2: 'Unbounded',\n",
       " -3: 'Undefined'}"
      ]
     },
     "execution_count": 135,
     "metadata": {},
     "output_type": "execute_result"
    }
   ],
   "source": [
    "LpStatus"
   ]
  },
  {
   "cell_type": "code",
   "execution_count": 136,
   "id": "fb475fc0-0fc4-4f74-9f63-7e0ed0767cf4",
   "metadata": {},
   "outputs": [
    {
     "data": {
      "text/plain": [
       "'Optimal'"
      ]
     },
     "execution_count": 136,
     "metadata": {},
     "output_type": "execute_result"
    }
   ],
   "source": [
    "LpStatus[status]"
   ]
  },
  {
   "cell_type": "code",
   "execution_count": 116,
   "id": "37a42c9f-2f7f-436e-a3fb-b147b94979fa",
   "metadata": {},
   "outputs": [
    {
     "name": "stdout",
     "output_type": "stream",
     "text": [
      "Optimal number of cookies: 0.0\n",
      "Optimal number of cakes: 0.0\n",
      "Maximum daily profit: None\n"
     ]
    }
   ],
   "source": [
    "print(\"Optimal number of cookies:\", Blend_A.varValue)\n",
    "print(\"Optimal number of cakes:\", Blend_B.varValue)\n",
    "print(\"Maximum daily profit:\", problem.objective.value())"
   ]
  },
  {
   "cell_type": "raw",
   "id": "50d93fbe-9696-4032-a341-a658999441b9",
   "metadata": {},
   "source": [
    "A company produces two products : Product A and Product B. The profit for Product A is $40 per unit, and for product B , its $30 per unit.\n",
    "The company has the following resource constraints :\n",
    " It takes 2 hours of labor to produce one unit of ProductA and 1 hour for ProductB.\n",
    "The compamy has a total of 100 hours of labor available.\n",
    "The material required for one unit of Product A is 3kg, and for Product B, it is 4kg. The company has a total of 120kg of materail.\n",
    "\n",
    "The Goal is determine how many units of each product to produce in order to maximize profit."
   ]
  },
  {
   "cell_type": "code",
   "execution_count": 174,
   "id": "ff50bd33-d110-4891-a12a-bda7611fa1fb",
   "metadata": {},
   "outputs": [],
   "source": [
    "from pulp import LpMaximize, LpProblem, LpVariable, lpSum"
   ]
  },
  {
   "cell_type": "code",
   "execution_count": 175,
   "id": "21625526-4060-460a-b016-2aa1780df4ac",
   "metadata": {},
   "outputs": [],
   "source": [
    "problem = LpProblem(\"Maximize_Profit\", LpMaximize)"
   ]
  },
  {
   "cell_type": "code",
   "execution_count": 176,
   "id": "0e96a622-1020-4c01-bd7c-879b7cfc62e6",
   "metadata": {},
   "outputs": [],
   "source": [
    "x_A = LpVariable('Product A', lowBound=0, cat='Continuous') \n",
    "x_B = LpVariable('Product B', lowBound=0, cat='Continuous') "
   ]
  },
  {
   "cell_type": "code",
   "execution_count": 177,
   "id": "92e613a2-9e8d-4333-a51e-b6d20628cb10",
   "metadata": {},
   "outputs": [],
   "source": [
    "problem += 40 * x_A + 30 * x_B, \"Total Profit\""
   ]
  },
  {
   "cell_type": "code",
   "execution_count": 178,
   "id": "3f25c968-6fcb-458c-b85d-90ec4caeff7d",
   "metadata": {},
   "outputs": [],
   "source": [
    "# Add Constraint\n",
    "problem += 2*x_A + 1 * x_B <=100, \"Labor_Constraint\"\n",
    "problem += 3*x_A + 4 * x_B <=120, \"Material_Constraint\""
   ]
  },
  {
   "cell_type": "code",
   "execution_count": 179,
   "id": "00d0f2ca-65ed-48ff-962c-d471436af53c",
   "metadata": {},
   "outputs": [
    {
     "name": "stdout",
     "output_type": "stream",
     "text": [
      "Welcome to the CBC MILP Solver \n",
      "Version: 2.10.3 \n",
      "Build Date: Dec 15 2019 \n",
      "\n",
      "command line - /home/duasp/.local/lib/python3.8/site-packages/pulp/solverdir/cbc/linux/64/cbc /tmp/34b2c094cc674f2ca8c9149521bc772e-pulp.mps -max -timeMode elapsed -branch -printingOptions all -solution /tmp/34b2c094cc674f2ca8c9149521bc772e-pulp.sol (default strategy 1)\n",
      "At line 2 NAME          MODEL\n",
      "At line 3 ROWS\n",
      "At line 7 COLUMNS\n",
      "At line 14 RHS\n",
      "At line 17 BOUNDS\n",
      "At line 18 ENDATA\n",
      "Problem MODEL has 2 rows, 2 columns and 4 elements\n",
      "Coin0008I MODEL read with 0 errors\n",
      "Option for timeMode changed from cpu to elapsed\n",
      "Presolve 2 (0) rows, 2 (0) columns and 4 (0) elements\n",
      "0  Obj -0 Dual inf 70 (2)\n",
      "0  Obj -0 Dual inf 70 (2)\n",
      "1  Obj 1600\n",
      "Optimal - objective value 1600\n",
      "Optimal objective 1600 - 1 iterations time 0.002\n",
      "Option for printingOptions changed from normal to all\n",
      "Total time (CPU seconds):       0.00   (Wallclock seconds):       0.00\n",
      "\n"
     ]
    },
    {
     "data": {
      "text/plain": [
       "1"
      ]
     },
     "execution_count": 179,
     "metadata": {},
     "output_type": "execute_result"
    }
   ],
   "source": [
    "problem.solve()"
   ]
  },
  {
   "cell_type": "code",
   "execution_count": 180,
   "id": "0e143825-16a5-4311-ab16-d439651dbfad",
   "metadata": {},
   "outputs": [
    {
     "name": "stdout",
     "output_type": "stream",
     "text": [
      "Status: 1\n",
      "Optimal number of Product A to produce : 40.0\n",
      "Optimal number of Product B to produce : 0.0\n",
      "Total Profit: 1600.0\n"
     ]
    }
   ],
   "source": [
    "print(f\"Status: {problem.status}\")\n",
    "print(f\"Optimal number of Product A to produce : {x_A.varValue}\")\n",
    "print(f\"Optimal number of Product B to produce : {x_B.varValue}\")\n",
    "print(f\"Total Profit: {problem.objective.value()}\")"
   ]
  },
  {
   "cell_type": "code",
   "execution_count": null,
   "id": "b734d92e-ce0d-43db-b1aa-f938cf1452e9",
   "metadata": {},
   "outputs": [],
   "source": []
  },
  {
   "cell_type": "code",
   "execution_count": null,
   "id": "437bdded-92a2-4b5d-b385-55625db67fd7",
   "metadata": {},
   "outputs": [],
   "source": []
  },
  {
   "cell_type": "code",
   "execution_count": null,
   "id": "b97584c2-091e-4d47-b7e9-1a05a6f54a3d",
   "metadata": {},
   "outputs": [],
   "source": []
  }
 ],
 "metadata": {
  "kernelspec": {
   "display_name": "Python 3 (ipykernel)",
   "language": "python",
   "name": "python3"
  },
  "language_info": {
   "codemirror_mode": {
    "name": "ipython",
    "version": 3
   },
   "file_extension": ".py",
   "mimetype": "text/x-python",
   "name": "python",
   "nbconvert_exporter": "python",
   "pygments_lexer": "ipython3",
   "version": "3.8.10"
  }
 },
 "nbformat": 4,
 "nbformat_minor": 5
}
