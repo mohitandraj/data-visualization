{
 "cells": [
  {
   "cell_type": "markdown",
   "id": "823abbbc-40e3-4e26-84da-5bb347e99881",
   "metadata": {},
   "source": [
    "# Theoritical Probability"
   ]
  },
  {
   "cell_type": "code",
   "execution_count": 11,
   "id": "2932bb9b-af05-484c-b5fe-8c50c3b818ba",
   "metadata": {},
   "outputs": [],
   "source": [
    "def coin_flip_probability():\n",
    "    # Calculates the probability of Head in a fair coin flip.\n",
    "     heads_probability=1/2\n",
    "     return heads_probability"
   ]
  },
  {
   "cell_type": "code",
   "execution_count": 12,
   "id": "ed42d839-b9af-4d1c-8131-f41a07841d65",
   "metadata": {},
   "outputs": [],
   "source": [
    "def rolling_dice_probability(number):\n",
    "    # Calculates the probability of rollinga specific numbeer on a fair die.\n",
    "    if number not in range(1,7):\n",
    "        raise ValueError(\"Number must be between 1 & 6\")\n",
    "    probability = 1/6\n",
    "    return probability"
   ]
  },
  {
   "cell_type": "code",
   "execution_count": 13,
   "id": "b2d446c3-de19-4a46-bad6-519f6ac5d5fe",
   "metadata": {},
   "outputs": [],
   "source": [
    "coin_flip_result= coin_flip_probability()\n",
    "rolling_dice_result=rolling_dice_probability(3)"
   ]
  },
  {
   "cell_type": "code",
   "execution_count": 15,
   "id": "d1590c0a-2397-45e9-a759-b7cc6876515f",
   "metadata": {},
   "outputs": [
    {
     "name": "stdout",
     "output_type": "stream",
     "text": [
      "Coin flip probabilty: 0.5\n",
      "Rolling Dice probabilty:0.17\n"
     ]
    }
   ],
   "source": [
    "print('Coin flip probabilty:',coin_flip_result)\n",
    "print('Rolling Dice probabilty:%.2f'%rolling_dice_result)"
   ]
  },
  {
   "cell_type": "code",
   "execution_count": 16,
   "id": "001d9cdd-14e5-49c9-b5c2-94c4ba6d7c7b",
   "metadata": {},
   "outputs": [],
   "source": [
    "##### experimental probability"
   ]
  },
  {
   "cell_type": "code",
   "execution_count": 33,
   "id": "d2854c18-51c0-4cc8-bdd1-a01ea0b74a36",
   "metadata": {},
   "outputs": [],
   "source": [
    "import numpy as np\n",
    "import pandas as pd"
   ]
  },
  {
   "cell_type": "code",
   "execution_count": 34,
   "id": "888a2c76-72df-4f8b-ba05-8f1500c05b5a",
   "metadata": {},
   "outputs": [
    {
     "data": {
      "text/plain": [
       "'heads'"
      ]
     },
     "execution_count": 34,
     "metadata": {},
     "output_type": "execute_result"
    }
   ],
   "source": [
    "np.random.choice(['heads','tails'])"
   ]
  },
  {
   "cell_type": "code",
   "execution_count": 37,
   "id": "91198fdc-58d6-44ec-9ec8-8a6119c08fcf",
   "metadata": {},
   "outputs": [],
   "source": [
    "def simulate_coin_flips(num_flips):\n",
    "    results = []\n",
    "    for _ in range(num_flips):\n",
    "      flip = np.random.choice([\"heads\",\"tails\"])\n",
    "      results.append(flip)\n",
    "    return results"
   ]
  },
  {
   "cell_type": "code",
   "execution_count": 38,
   "id": "07ca1348-78e2-4167-b1f2-d483295afce8",
   "metadata": {},
   "outputs": [
    {
     "data": {
      "text/plain": [
       "tails    506\n",
       "heads    494\n",
       "Name: count, dtype: int64"
      ]
     },
     "execution_count": 38,
     "metadata": {},
     "output_type": "execute_result"
    }
   ],
   "source": [
    "pd.Series(simulate_coin_flips(1000)).value_counts()"
   ]
  },
  {
   "cell_type": "code",
   "execution_count": 40,
   "id": "dd27759b-f033-4887-88dd-2663dd5253fd",
   "metadata": {},
   "outputs": [],
   "source": [
    "def calculate_experimental_probabilty(results, event):\n",
    "    # Calculates the experimental probablity of a specific event\n",
    "    event_count=results.count(event)\n",
    "    total_flips=len(results)\n",
    "    probability=event_count/total_flips\n",
    "    return probability"
   ]
  },
  {
   "cell_type": "code",
   "execution_count": 46,
   "id": "ef7421be-5a4b-416c-a1b8-72d23f2e8f35",
   "metadata": {},
   "outputs": [
    {
     "data": {
      "text/plain": [
       "0.506"
      ]
     },
     "execution_count": 46,
     "metadata": {},
     "output_type": "execute_result"
    }
   ],
   "source": [
    "results=simulate_coin_flips(1000)\n",
    "\n",
    "calculate_experimental_probabilty(results, 'tails')\n"
   ]
  },
  {
   "cell_type": "code",
   "execution_count": 47,
   "id": "3cd45a87-9119-476f-88ce-efb1da0ba33e",
   "metadata": {},
   "outputs": [
    {
     "data": {
      "text/plain": [
       "'1'"
      ]
     },
     "execution_count": 47,
     "metadata": {},
     "output_type": "execute_result"
    }
   ],
   "source": [
    "np.random.choice([0,0,0,1,1,1,1,2,2,4,6,'W'])"
   ]
  },
  {
   "cell_type": "code",
   "execution_count": 53,
   "id": "edf4351d-11e4-49bd-8d1f-0f9eb6c17043",
   "metadata": {},
   "outputs": [
    {
     "data": {
      "text/plain": [
       "['W',\n",
       " '0',\n",
       " '2',\n",
       " '0',\n",
       " '6',\n",
       " 'W',\n",
       " '1',\n",
       " '6',\n",
       " '4',\n",
       " '2',\n",
       " '4',\n",
       " 'W',\n",
       " '2',\n",
       " '0',\n",
       " '2',\n",
       " '6',\n",
       " '0',\n",
       " '2',\n",
       " '0',\n",
       " '1',\n",
       " '0',\n",
       " '4',\n",
       " '2',\n",
       " 'W',\n",
       " '0',\n",
       " '1',\n",
       " '2',\n",
       " '1',\n",
       " '6',\n",
       " '1',\n",
       " '1',\n",
       " 'W',\n",
       " '6',\n",
       " '1',\n",
       " '4',\n",
       " '1',\n",
       " '0',\n",
       " '1',\n",
       " '0',\n",
       " '1',\n",
       " '0',\n",
       " '4',\n",
       " '0',\n",
       " '2',\n",
       " '6',\n",
       " '4',\n",
       " '1',\n",
       " '2',\n",
       " '0',\n",
       " '1',\n",
       " 'W',\n",
       " '0',\n",
       " '1',\n",
       " '0',\n",
       " 'W',\n",
       " '0',\n",
       " '0',\n",
       " '0',\n",
       " '2',\n",
       " '6',\n",
       " '1',\n",
       " '0',\n",
       " '1',\n",
       " 'W',\n",
       " '4',\n",
       " '4',\n",
       " '4',\n",
       " '4',\n",
       " '6',\n",
       " '0',\n",
       " '0',\n",
       " '0',\n",
       " '0',\n",
       " '1',\n",
       " '1',\n",
       " '1',\n",
       " '1',\n",
       " '1',\n",
       " '2',\n",
       " '2',\n",
       " '1',\n",
       " '0',\n",
       " '0',\n",
       " '0',\n",
       " '6',\n",
       " '0',\n",
       " '4',\n",
       " '2',\n",
       " '0',\n",
       " '2',\n",
       " '0',\n",
       " '1',\n",
       " '1',\n",
       " '0',\n",
       " '0',\n",
       " '1',\n",
       " '0',\n",
       " '0',\n",
       " 'W',\n",
       " '4']"
      ]
     },
     "execution_count": 53,
     "metadata": {},
     "output_type": "execute_result"
    }
   ],
   "source": [
    "[np.random.choice([0,0,0,0,1,1,1,1,2,2,4,6,'W']) for x in range(100)]"
   ]
  },
  {
   "cell_type": "code",
   "execution_count": 55,
   "id": "e1c3c153-1abe-48d8-8c56-112e35d92c36",
   "metadata": {},
   "outputs": [],
   "source": [
    "x=[np.random.choice([0,0,0,0,1,1,1,1,2,2,4,6,'W']) for x in range(100)]"
   ]
  },
  {
   "cell_type": "code",
   "execution_count": 56,
   "id": "5f89c181-5183-4ecb-bf0e-ee4b97151a7c",
   "metadata": {},
   "outputs": [
    {
     "data": {
      "text/plain": [
       "['2',\n",
       " '2',\n",
       " '4',\n",
       " '1',\n",
       " '0',\n",
       " '0',\n",
       " '1',\n",
       " '1',\n",
       " '1',\n",
       " '2',\n",
       " '1',\n",
       " '0',\n",
       " '4',\n",
       " '0',\n",
       " '4',\n",
       " '1',\n",
       " '2',\n",
       " '1',\n",
       " '2',\n",
       " '0',\n",
       " '6',\n",
       " '0',\n",
       " '4',\n",
       " '6',\n",
       " '0',\n",
       " '0',\n",
       " '0',\n",
       " '1',\n",
       " '4',\n",
       " '0',\n",
       " '0',\n",
       " '6',\n",
       " '0',\n",
       " '1',\n",
       " '0',\n",
       " '1',\n",
       " '1',\n",
       " '1',\n",
       " '0',\n",
       " '1',\n",
       " '0',\n",
       " '4',\n",
       " 'W',\n",
       " '1',\n",
       " '0',\n",
       " '1',\n",
       " '2',\n",
       " '1',\n",
       " '1',\n",
       " 'W',\n",
       " '1',\n",
       " '2',\n",
       " '6',\n",
       " '1',\n",
       " '0',\n",
       " 'W',\n",
       " '1',\n",
       " '0',\n",
       " '2',\n",
       " '0',\n",
       " '1',\n",
       " '0',\n",
       " '0',\n",
       " '1',\n",
       " '1',\n",
       " '2',\n",
       " '0',\n",
       " 'W',\n",
       " '1',\n",
       " '1',\n",
       " '0',\n",
       " '2',\n",
       " '2',\n",
       " '2',\n",
       " '6',\n",
       " '0',\n",
       " '4',\n",
       " '0',\n",
       " '1',\n",
       " '6',\n",
       " 'W',\n",
       " 'W',\n",
       " '2',\n",
       " '6',\n",
       " '0',\n",
       " '1',\n",
       " '0',\n",
       " '6',\n",
       " 'W',\n",
       " '4',\n",
       " '6',\n",
       " '1',\n",
       " '2',\n",
       " '6',\n",
       " '1',\n",
       " '0',\n",
       " 'W',\n",
       " '1',\n",
       " '0',\n",
       " '1']"
      ]
     },
     "execution_count": 56,
     "metadata": {},
     "output_type": "execute_result"
    }
   ],
   "source": [
    "x"
   ]
  },
  {
   "cell_type": "code",
   "execution_count": 108,
   "id": "c693c746-abea-42b7-a286-95dd0b676e0b",
   "metadata": {},
   "outputs": [],
   "source": [
    "scores =[]\n",
    "for i in range(10):\n",
    "  scores.append([np.random.choice([0,0,0,0,1,1,1,1,2,2,4,6,'W']) for x in range(100)])"
   ]
  },
  {
   "cell_type": "code",
   "execution_count": 109,
   "id": "4253cda0-f42d-493e-8b5a-ba9dc4501146",
   "metadata": {},
   "outputs": [],
   "source": [
    "final_scores = []\n",
    "for match in scores:\n",
    "    total_runs=0\n",
    "    for runs in match:\n",
    "        if runs == 'W':\n",
    "            break\n",
    "        total_runs += int(runs)\n",
    "    final_scores.append(total_runs)"
   ]
  },
  {
   "cell_type": "code",
   "execution_count": 110,
   "id": "134c62e6-f8cc-4453-9817-d38b5215eea6",
   "metadata": {},
   "outputs": [
    {
     "data": {
      "text/plain": [
       "17.0"
      ]
     },
     "execution_count": 110,
     "metadata": {},
     "output_type": "execute_result"
    }
   ],
   "source": [
    "sum(final_scores)/ len(final_scores)"
   ]
  },
  {
   "cell_type": "code",
   "execution_count": 111,
   "id": "8e7d72e4-5281-4f3d-bf03-b9a0698776f1",
   "metadata": {},
   "outputs": [
    {
     "data": {
      "text/plain": [
       "[2, 6, 38, 38, 0, 7, 28, 32, 19, 0]"
      ]
     },
     "execution_count": 111,
     "metadata": {},
     "output_type": "execute_result"
    }
   ],
   "source": [
    "final_scores"
   ]
  },
  {
   "cell_type": "code",
   "execution_count": 112,
   "id": "2ef65ef3-d3ba-415e-93ed-eb9117da35e8",
   "metadata": {},
   "outputs": [],
   "source": [
    "### Axiomatic probability"
   ]
  },
  {
   "cell_type": "code",
   "execution_count": 113,
   "id": "cb6ab348-35c6-418b-871c-b9a516c3c8a3",
   "metadata": {},
   "outputs": [],
   "source": [
    "# sample space\n",
    "S = ['Head','Tails']"
   ]
  },
  {
   "cell_type": "code",
   "execution_count": 115,
   "id": "573b5846-2ac1-4843-9077-947f1743cb4b",
   "metadata": {},
   "outputs": [],
   "source": [
    "#Define the probabilities of events A and B\n",
    "P_A = 0.5 #Heads\n",
    "P_B = 0.5 #Tails"
   ]
  },
  {
   "cell_type": "code",
   "execution_count": 116,
   "id": "c3f4c2e9-c1ac-4bc9-a403-83cb10b5635b",
   "metadata": {},
   "outputs": [],
   "source": [
    "#Axiom 1: Non-negativity\n",
    "assert P_A>=0 and P_B>=0, \"Axiom 1 (Non-negativity) violated\""
   ]
  },
  {
   "cell_type": "code",
   "execution_count": 120,
   "id": "8d59a403-f3fa-4393-88d0-a752d9117fe6",
   "metadata": {},
   "outputs": [],
   "source": [
    "#Axiom 2: Unit Measure\n",
    "P_S = P_A + P_B\n",
    "assert P_S == 1 , \"Axiom 1 (Unit Measure) violated\""
   ]
  },
  {
   "cell_type": "markdown",
   "id": "2e2c0bb0-af3a-4790-818e-462231a39c30",
   "metadata": {},
   "source": [
    "### Normal Distribution"
   ]
  },
  {
   "cell_type": "code",
   "execution_count": 122,
   "id": "17d01b33-51e8-49a8-9a99-13b633fa3310",
   "metadata": {},
   "outputs": [],
   "source": [
    "normal_distribution = np.random.normal(0,1,1000)\n"
   ]
  },
  {
   "cell_type": "code",
   "execution_count": 123,
   "id": "d5090f6d-4545-4560-9bcc-f75a48913488",
   "metadata": {
    "scrolled": true
   },
   "outputs": [
    {
     "data": {
      "text/plain": [
       "array([ 8.07208123e-01,  1.19296057e+00,  1.24361391e+00,  2.08171921e+00,\n",
       "       -2.96599320e-01,  6.43010789e-01, -3.58980387e-01,  1.70983717e-01,\n",
       "       -1.50585383e+00, -9.51331785e-01, -1.87191897e-01,  1.46056470e+00,\n",
       "        3.59548406e-01,  6.54664248e-01, -1.82398233e-01, -6.64012082e-01,\n",
       "        9.01767050e-01,  1.43271064e-01,  1.74351264e+00, -1.31618993e+00,\n",
       "        4.75818173e-01,  4.38712142e-01,  1.22323982e+00, -1.41550868e+00,\n",
       "        7.71013307e-01,  9.05118066e-01, -4.05135018e-01, -3.15877792e-01,\n",
       "       -2.39416584e-02,  1.75930109e+00, -3.45716977e-01, -1.45120790e+00,\n",
       "       -9.76228144e-01,  2.20976116e-01, -3.79962948e-01,  7.85155386e-01,\n",
       "        1.77600496e+00, -1.21814741e+00,  6.93652013e-01,  1.16313258e+00,\n",
       "       -2.74344524e-01, -2.88441558e-01, -1.76665192e+00, -1.48287109e+00,\n",
       "       -1.72152097e+00, -1.42942436e+00,  7.27074347e-01,  4.48387273e-01,\n",
       "        5.91423784e-01,  4.16922223e-01,  1.31478371e-01, -1.38472377e+00,\n",
       "        8.19733925e-01,  3.06114848e-01,  2.82584840e-01, -1.44516811e+00,\n",
       "       -4.24459243e-01,  2.85209090e-01, -1.12271454e+00, -7.16393908e-01,\n",
       "       -5.45818352e-01,  1.91761076e+00,  7.27290433e-02,  3.41901195e-01,\n",
       "       -3.53006655e-01,  7.70324327e-01, -4.76562945e-01, -3.21778735e-01,\n",
       "        7.59698544e-01,  4.05205162e-01, -5.26322843e-01,  1.13704000e-02,\n",
       "        5.87606726e-01,  1.29965296e-02,  8.56825545e-01, -2.71183357e-01,\n",
       "       -1.28839596e+00,  3.43611558e-01, -1.40257048e+00,  1.06849907e+00,\n",
       "        7.09025114e-01,  4.39532820e-01, -4.50448796e-01,  7.16552453e-03,\n",
       "        1.48875103e+00, -1.56367564e+00,  4.81238041e-01, -6.56193869e-02,\n",
       "       -8.36581607e-01, -4.73880200e-01,  5.64842318e-01, -2.62088259e-01,\n",
       "       -8.00561032e-01, -9.90699143e-01, -2.61248923e-01, -5.21066552e-01,\n",
       "        1.94040936e+00,  5.83776632e-01, -8.47698372e-01,  2.39040162e-01,\n",
       "       -9.25700579e-02, -4.64413957e-01, -1.83968841e-01,  3.38405323e-01,\n",
       "        1.64124999e+00,  4.34904815e-01, -1.74643700e+00, -2.05775258e-01,\n",
       "       -1.19924044e+00,  9.32708918e-02, -2.09454342e+00,  2.27750302e-02,\n",
       "       -1.07320951e-01, -1.56009862e+00,  1.58013477e+00, -6.68680710e-01,\n",
       "       -4.63582053e-01,  4.27359444e-01, -4.48524698e-01,  7.97937445e-01,\n",
       "        7.92956674e-01, -9.10869158e-01, -1.08721208e+00, -2.25912032e-01,\n",
       "       -2.77756607e-01, -1.03906970e+00,  5.18370370e-01,  1.48218039e+00,\n",
       "       -1.78084579e+00,  1.55637983e+00,  1.62768825e-01, -2.53561602e-01,\n",
       "       -3.87263422e-01,  1.47303880e-01, -6.99623222e-01,  9.45017323e-01,\n",
       "        2.25690530e-01, -1.02051689e+00,  7.94942753e-01, -4.91576256e-01,\n",
       "        8.05017734e-01, -1.76315060e+00,  1.41891089e-01,  1.51652650e+00,\n",
       "        5.46624365e-03, -1.42772110e+00,  3.38434514e-01, -1.76433793e-01,\n",
       "       -1.76141067e+00, -8.00587676e-01, -5.99592624e-01,  2.38189552e+00,\n",
       "       -4.21866757e-02,  1.07697439e+00,  4.62960688e-01,  1.13347634e+00,\n",
       "        7.21849352e-01, -6.18759845e-01, -2.89798488e-01,  1.88937848e-02,\n",
       "       -5.49066966e-01, -1.81071778e+00, -8.22947846e-01, -7.82122336e-02,\n",
       "        3.76383189e-01, -2.94574041e+00,  7.25007453e-01, -1.14782186e+00,\n",
       "        8.19981265e-01,  1.54839905e-01, -1.89340990e-02, -2.16346887e-01,\n",
       "       -1.73720276e-01, -1.47442800e+00,  5.94393598e-01, -6.95304948e-01,\n",
       "        1.59832703e+00,  4.08308040e-01, -6.38659257e-01,  8.18309235e-01,\n",
       "       -3.57221523e-01, -1.83216130e+00, -4.21597686e-01,  1.62278028e+00,\n",
       "        2.10805971e-01, -3.22729640e-01, -3.48675434e-01, -1.84962220e-01,\n",
       "       -1.14086322e+00,  1.92939242e+00, -2.63906674e-01, -6.94183356e-01,\n",
       "       -9.32062903e-01,  1.35385843e+00, -6.66773401e-01,  2.20072911e-01,\n",
       "       -5.64794262e-01,  4.88073539e-01,  2.15437242e-01,  1.56675565e-01,\n",
       "       -1.00011856e+00, -6.66165772e-01, -1.11651515e+00, -2.84137855e-01,\n",
       "        6.94620949e-01,  7.46664247e-01,  1.28987201e+00,  3.14688923e-01,\n",
       "        5.80316458e-02,  1.21554186e+00, -4.16052135e-01,  4.73244642e-01,\n",
       "        8.07015517e-01, -7.31038827e-01,  1.99923688e+00,  9.81209142e-01,\n",
       "       -6.77614719e-01,  9.74034175e-01,  1.09178802e+00, -3.19121420e-01,\n",
       "        1.26147533e+00, -1.79266792e+00,  1.12173821e+00,  1.18452413e+00,\n",
       "       -1.11813561e+00,  2.00587325e-01, -9.12199449e-01,  3.34864927e-01,\n",
       "        1.66707710e+00, -3.90081040e-01, -3.99308533e-01, -1.00801489e+00,\n",
       "        8.58012628e-01, -1.42791087e+00, -2.46193821e-01, -1.36114038e-01,\n",
       "        4.55901524e-01, -1.79319279e+00, -1.20595271e-01, -6.09027266e-01,\n",
       "        1.30861031e+00, -1.21927408e-02,  8.30775221e-01,  6.72220803e-01,\n",
       "        6.52498627e-01, -4.72121771e-01, -3.08773748e-01,  9.87482366e-01,\n",
       "       -1.03237175e-01,  1.37429696e+00,  4.60769314e-01, -3.14030154e-01,\n",
       "        7.95190765e-01, -1.42047522e-01, -1.12703298e-01,  3.72671689e-01,\n",
       "        1.10679904e+00, -8.20836843e-01,  4.72160114e-02,  6.08048224e-01,\n",
       "       -6.27099315e-01,  8.86821486e-01, -8.94663430e-01,  2.17606490e-01,\n",
       "        1.65267363e+00,  9.80673564e-02,  5.81086232e-01,  2.27759292e-01,\n",
       "        3.16907079e-01, -6.77376904e-01, -9.21976801e-01,  1.08944162e+00,\n",
       "       -1.21496467e+00, -5.37829652e-01,  9.94055948e-02,  1.27696503e+00,\n",
       "       -6.54724798e-01,  6.99527326e-02, -4.17518110e-02, -8.57646297e-01,\n",
       "       -4.81728424e-01, -1.01313332e+00,  3.31804018e-01,  7.23047433e-02,\n",
       "        1.03302577e+00, -1.29271522e+00,  8.09272580e-01,  1.82807268e+00,\n",
       "       -7.34752122e-01,  5.54887033e-01, -1.03825026e+00,  1.80572631e-01,\n",
       "        6.59589018e-01,  8.82103398e-01,  6.91604579e-01, -1.25451098e+00,\n",
       "       -1.71852322e+00, -1.46692381e-01, -1.60294675e+00, -1.66529727e-01,\n",
       "       -8.97853682e-01, -6.28094436e-01,  9.20501917e-01,  4.70486982e-01,\n",
       "       -1.46187845e+00, -1.78056207e-01, -4.41265889e-01,  4.51915425e-01,\n",
       "       -8.94917234e-01, -1.20750210e+00,  1.45107609e+00, -7.17604311e-01,\n",
       "        6.94429648e-01,  5.49287040e-01,  8.01040075e-01,  1.27245517e+00,\n",
       "        1.37099685e+00,  2.78888221e+00,  1.60447063e+00,  3.46037771e-01,\n",
       "        1.34206885e+00, -1.01246094e+00, -1.68812128e+00, -1.25118159e+00,\n",
       "       -1.89262070e+00, -6.38945609e-01, -1.34500864e+00,  1.27887449e+00,\n",
       "        6.46814042e-01, -3.51629338e-01,  4.07506739e-01, -4.23530632e-01,\n",
       "        1.08960805e-01,  1.32629897e+00,  1.56466515e+00, -7.50154596e-02,\n",
       "        5.63665357e-01,  2.16033631e+00, -6.01067123e-01, -1.45619913e+00,\n",
       "        1.20435193e+00,  2.45965033e-01, -8.79318471e-01,  4.40099090e-02,\n",
       "       -7.71101034e-01,  1.12445310e+00,  3.22099007e-01, -1.67624904e-01,\n",
       "       -2.01348536e-01, -4.85512397e-02,  1.36160308e+00,  1.05227765e+00,\n",
       "       -3.60113944e-01, -1.31635331e+00,  1.22619243e+00, -1.95685969e+00,\n",
       "        6.01142271e-01,  4.90437360e-01, -7.30513968e-01, -9.79072026e-02,\n",
       "       -3.94689504e-01,  1.97156724e+00, -4.86192710e-01, -7.98942041e-01,\n",
       "        1.06323992e-01, -7.03512753e-01, -3.30120889e-01, -4.74260615e-01,\n",
       "        1.24184351e-01, -8.26501019e-01,  5.47399551e-01,  1.45370519e+00,\n",
       "        1.96124629e+00,  1.22104789e+00, -1.43359149e+00, -4.17606790e-01,\n",
       "        1.80335572e-01, -4.70456139e-01, -9.25078040e-02, -5.71797992e-01,\n",
       "       -3.31284299e-01,  4.29628867e-01, -2.44296068e+00, -1.55180775e-01,\n",
       "        5.60717252e-01,  1.55855825e+00,  2.30563168e+00, -2.08566491e-01,\n",
       "        2.24696077e-01,  4.18129759e-01, -1.38065188e+00, -6.28630003e-01,\n",
       "        3.59509530e-01,  9.59834450e-01,  3.42031994e-01,  2.92278278e+00,\n",
       "       -1.37702956e+00,  7.87269860e-01, -1.38861352e+00,  1.93423297e-01,\n",
       "        5.84996008e-01, -1.44535388e+00,  3.45570966e-01,  1.11909795e+00,\n",
       "        1.08605511e+00,  1.76373647e+00,  2.65400280e+00, -1.01332401e+00,\n",
       "       -1.45985844e+00, -1.28928060e+00,  5.35893265e-01, -1.34765622e+00,\n",
       "        1.48256073e+00,  1.20624406e+00,  1.71548536e-01,  2.96354017e-01,\n",
       "       -2.60700358e+00,  1.31859762e-01,  1.07954335e+00, -8.93385515e-01,\n",
       "        1.81351530e+00,  5.31929182e-01, -8.94513048e-01,  2.17733735e+00,\n",
       "       -6.61673912e-01, -8.66253285e-01,  8.27314664e-01,  9.53303849e-01,\n",
       "        2.41359258e+00,  1.10794410e-01,  2.34980629e-01,  2.91296823e-01,\n",
       "       -7.84729944e-01,  8.77866590e-01,  1.76711565e+00, -2.68468027e-01,\n",
       "        2.36298766e-01,  1.09796579e+00,  7.42430788e-01,  8.67810414e-01,\n",
       "       -5.54299910e-01, -1.30289983e+00,  1.14121942e+00, -7.87284644e-01,\n",
       "       -1.81585018e-01,  8.49783042e-01,  1.23582141e+00,  5.42555763e-01,\n",
       "        3.38320799e-01,  6.05368482e-01, -2.47728719e-01, -7.81900763e-01,\n",
       "        6.21655998e-01, -4.75799663e-01,  1.03644632e+00, -1.17120688e+00,\n",
       "        2.96103055e-01,  3.96123638e-01, -3.61057747e-01, -3.63814629e-01,\n",
       "       -2.28353285e-01,  5.62176172e-01,  8.32753161e-01,  7.64398564e-01,\n",
       "       -6.37512633e-01, -2.22305041e+00,  2.31701097e-01, -2.27358428e-01,\n",
       "        7.12370774e-01, -1.21920631e+00,  3.18107738e-02, -1.12426589e+00,\n",
       "       -4.62431195e-01, -2.46946476e-01,  2.93159855e+00, -1.04729973e+00,\n",
       "        6.06172468e-02, -4.54283056e-01,  2.50291957e-01,  5.03873962e-01,\n",
       "       -1.78953192e+00,  1.36601683e+00, -6.43744434e-01,  9.77924706e-01,\n",
       "       -5.98113656e-01,  2.00634734e+00, -6.80423330e-01, -3.42462670e-01,\n",
       "        1.29378422e+00,  7.80659051e-01, -5.88645938e-01, -8.47828626e-01,\n",
       "        1.31097961e+00, -8.01126270e-01,  6.85020800e-01, -4.63488257e-01,\n",
       "        6.60381154e-01,  1.24767332e+00, -2.51067570e+00,  7.32338413e-01,\n",
       "        1.28506613e+00, -1.21564066e+00,  8.58630170e-01,  1.76153550e+00,\n",
       "       -7.45237728e-01, -6.55857754e-01,  8.19801180e-01, -6.11766221e-01,\n",
       "        8.65796678e-01,  2.97175845e-01, -1.49967477e+00, -1.18115188e+00,\n",
       "       -2.39602982e-01,  1.05237702e+00, -1.19390233e+00, -1.33344857e-01,\n",
       "        2.06961155e-01,  2.93882227e-01,  3.75636342e-01, -2.89519759e-01,\n",
       "       -1.23564559e+00,  1.77688606e-01, -2.94763752e-02, -8.35229615e-01,\n",
       "        9.86573512e-02,  4.00801150e-01, -1.07475187e+00, -4.05574320e-01,\n",
       "        1.45128154e+00,  9.07770096e-01,  1.41519299e+00,  5.16520546e-01,\n",
       "        9.76905469e-02,  5.29582644e-01, -6.18260660e-01, -4.43883241e-01,\n",
       "        5.32363992e-01, -5.68493702e-01,  1.87941644e+00, -1.50508343e-01,\n",
       "       -6.27051561e-01,  1.57927750e+00,  5.89684881e-01, -4.36569282e-01,\n",
       "       -4.39484748e-01, -4.76953845e-01, -1.95275298e+00, -1.18010785e+00,\n",
       "       -6.76001427e-01,  1.26318883e+00, -1.30867745e-01,  5.35340048e-02,\n",
       "        4.39856114e-01,  1.07940757e+00,  1.96296372e+00,  2.15272723e+00,\n",
       "        9.07042077e-01, -4.54999491e-01, -9.37951864e-01, -1.91375024e-01,\n",
       "       -6.58057750e-01,  1.05318657e+00,  4.98343760e-01, -7.97121966e-01,\n",
       "        4.91509924e-01, -3.32117916e-01,  7.95517225e-01,  3.84928463e-01,\n",
       "        1.84214896e+00,  2.60551630e-01,  1.27290570e+00,  3.26978031e-01,\n",
       "       -6.71262072e-02,  8.84531924e-01, -2.77594468e-01,  1.50092520e+00,\n",
       "        2.25837753e+00,  6.65071956e-01,  4.13483057e-02, -1.85775287e+00,\n",
       "        9.18393534e-01, -2.29603622e-01, -1.44992629e+00, -1.12106424e+00,\n",
       "       -2.65469810e-01, -7.44812350e-01, -3.62900381e-01, -9.19201939e-01,\n",
       "        1.52348016e+00, -1.54190343e+00,  1.75998617e+00,  8.61536670e-01,\n",
       "        2.25909639e+00,  1.33340510e+00, -5.27664936e-01,  3.11548488e+00,\n",
       "        1.63324615e-01, -4.98329711e-01,  1.59307728e+00, -1.18049032e+00,\n",
       "        1.39837549e+00,  2.33148677e+00, -8.62215486e-02, -4.11982252e-01,\n",
       "       -6.81240630e-01, -7.26543613e-01,  7.72750636e-01, -2.07444875e+00,\n",
       "       -4.88257766e-01,  7.40185983e-01,  1.89006247e+00,  1.80087774e+00,\n",
       "        5.69869878e-01,  9.47463779e-01, -9.04294788e-01,  2.36991201e-01,\n",
       "        6.36872485e-01,  1.14651850e+00, -1.80881162e+00,  5.19409786e-01,\n",
       "       -9.90471075e-01,  1.59915891e+00,  2.00002518e+00, -1.07846812e+00,\n",
       "       -2.43446285e-01, -2.03891409e-01, -1.44379388e+00,  8.32115926e-01,\n",
       "       -4.17752593e-01, -5.42922135e-01, -8.80756067e-01,  1.37631052e+00,\n",
       "        1.14877802e+00, -2.77876470e-01, -1.40896025e+00,  1.58551922e-01,\n",
       "        5.47947470e-01, -1.46117673e-01,  9.00855524e-01,  9.23081713e-01,\n",
       "        3.69592379e-01,  1.04758694e+00,  1.20800855e+00, -4.48410304e-01,\n",
       "        1.63792757e-01,  1.45138998e-01, -8.20992287e-01,  7.37738612e-01,\n",
       "        1.09332749e+00, -8.11462149e-01,  6.41554386e-01, -1.91645712e+00,\n",
       "        2.76581188e-02, -2.94047528e-01, -1.26500611e+00, -2.63483105e-01,\n",
       "       -1.79422135e+00, -6.77322055e-01, -8.33480878e-01,  8.02799672e-01,\n",
       "       -4.05780156e-01,  6.19062249e-01,  1.88684564e-01, -7.54697407e-01,\n",
       "        1.11727279e+00, -1.40203296e-01,  1.01598279e+00, -8.09197247e-01,\n",
       "       -1.53906935e+00,  4.64745978e-01, -3.05020749e+00,  1.54881463e+00,\n",
       "       -1.22770449e-02,  1.08562346e-01,  1.24503319e+00,  6.00101592e-01,\n",
       "       -9.23842060e-01, -1.39449411e-01,  4.82890558e-02, -1.53167468e-01,\n",
       "        1.56566667e+00,  9.76439520e-01, -1.11582630e+00,  7.63683320e-01,\n",
       "       -5.27093395e-02,  8.41765188e-01, -4.90809238e-01, -7.10199276e-01,\n",
       "        9.40113631e-01,  4.20739096e-01,  8.13449749e-01,  1.33652070e+00,\n",
       "        1.80623185e-01, -6.35128845e-02,  1.52400796e-01, -1.19898333e+00,\n",
       "        5.39185849e-01, -1.74795037e-01,  1.09880380e-01,  9.03722479e-01,\n",
       "        4.62248570e-01,  1.08752780e+00, -1.70744994e-02,  6.39279508e-01,\n",
       "        9.20806998e-01,  7.18996460e-01, -8.41556223e-01,  4.24794915e-01,\n",
       "        3.50096087e-05,  1.14846868e+00, -2.28696171e-01,  4.76870112e-01,\n",
       "       -1.01037854e+00, -1.17786170e+00,  3.00849575e-01,  6.19332678e-01,\n",
       "        2.33285121e+00,  1.41251161e+00, -9.41163551e-01, -1.16763244e-01,\n",
       "       -8.57491362e-01,  6.31994221e-01, -2.54984532e+00, -5.19935145e-01,\n",
       "       -1.71098915e+00, -1.74080207e-01,  7.15241074e-01, -1.38230971e+00,\n",
       "        1.96403272e+00, -5.10134119e-01, -1.88062349e-01, -2.66810362e-01,\n",
       "       -9.85494381e-01, -1.78227118e+00,  1.87914663e+00, -3.76570977e-01,\n",
       "       -7.51287375e-01, -2.44135820e+00,  3.94473007e-01,  1.19567257e+00,\n",
       "       -4.19440088e-01,  1.83189781e-01, -7.51217002e-01, -4.10838554e-01,\n",
       "       -7.93805553e-01,  1.15730425e+00, -4.56222535e-01, -6.06883709e-01,\n",
       "       -1.91465361e+00, -9.87225658e-01,  6.60246663e-02, -6.44180432e-01,\n",
       "        1.16525231e-01, -1.66070641e-01, -7.08751437e-01,  1.14938790e+00,\n",
       "        1.53274729e+00,  5.69306493e-02, -6.65075310e-02,  2.29123128e+00,\n",
       "        1.70099834e+00, -1.40367265e+00,  7.57930037e-02,  4.05034630e-01,\n",
       "       -3.84469417e-01, -1.18588337e-01, -1.84025246e-01, -2.41549005e-01,\n",
       "       -8.00784204e-02, -3.90753683e-01, -5.81610371e-01,  2.38919837e-01,\n",
       "        6.60215367e-01,  9.41728050e-01,  2.07254125e+00,  7.62227740e-01,\n",
       "       -1.89694033e-01, -9.34151494e-01, -4.91901661e-02, -1.76596918e-01,\n",
       "        6.88999117e-01, -2.38070769e-01, -1.73358371e-01, -2.00033858e-01,\n",
       "       -6.71690351e-01,  6.29074746e-01, -8.37122230e-01,  9.35931242e-01,\n",
       "       -4.11361256e-01,  2.14984546e+00,  1.60843612e-01,  9.30999069e-01,\n",
       "        9.78423121e-01, -7.45781542e-01,  1.40540314e-01, -1.50570823e+00,\n",
       "        1.12153805e+00, -9.99996551e-01, -4.82437869e-01,  4.47672610e-01,\n",
       "       -5.79542326e-01, -1.91876406e-01, -2.22611267e-01, -4.42735926e-01,\n",
       "        6.11113821e-01,  1.11864356e-01, -1.70460871e-02, -2.09944177e-01,\n",
       "       -6.27770771e-01, -1.50517777e+00, -1.43092959e+00,  5.73111166e-01,\n",
       "       -1.02528070e+00, -3.72912287e-02, -1.59735450e-01, -6.72114309e-01,\n",
       "       -4.27499505e-01, -8.78042708e-01, -1.20841506e+00,  6.81127384e-02,\n",
       "       -1.18784550e+00, -7.08133887e-01,  1.72387608e+00, -1.25594069e-01,\n",
       "       -4.00379537e-01,  1.39281620e-02,  7.06213381e-01, -3.31097023e-01,\n",
       "       -6.73863591e-01, -1.33990926e+00,  1.45619291e+00,  2.15630583e-01,\n",
       "        2.76632430e-01,  3.13934188e-01,  6.41119162e-01, -8.75979106e-01,\n",
       "        7.10470970e-01,  1.86965587e-01,  1.05171495e+00,  2.10227039e+00,\n",
       "        1.97253016e-01, -3.28966294e-02, -2.24168226e+00,  1.02712843e-02,\n",
       "        1.16819453e+00, -5.61837887e-02,  1.13788368e+00,  1.69102013e-02,\n",
       "       -5.09234270e-01,  1.55724482e+00,  6.29048999e-01,  7.06619712e-02,\n",
       "        3.80790109e-01,  5.24742524e-01,  1.40657424e+00,  1.28273647e+00,\n",
       "        5.30217521e-02, -8.75274850e-01, -4.23152784e-01, -6.31246609e-01,\n",
       "        9.28227168e-01, -1.88218342e-01, -6.81757544e-01, -2.57555915e-01,\n",
       "        2.87232379e-01, -1.74850780e+00,  3.47553358e-01, -1.55688955e+00,\n",
       "       -2.50541181e-01,  6.94822941e-03, -1.23762295e+00,  1.22407899e+00,\n",
       "       -4.83033986e-01, -1.21176243e+00,  5.65559876e-01,  9.37269368e-01,\n",
       "       -8.63704371e-01, -2.13137677e-01,  4.30719580e-02, -2.01129843e-01,\n",
       "        1.30845954e+00,  7.27221987e-01,  1.15604944e+00,  1.30187942e+00,\n",
       "        2.13089918e+00,  4.57305039e-01,  6.74790926e-02,  2.12645137e-01,\n",
       "       -4.38787399e-01, -9.41789644e-01, -4.05865160e-02,  1.46700447e-02,\n",
       "       -1.18798972e+00,  3.70105506e-01,  1.06092145e+00, -5.22507147e-01,\n",
       "        1.38606815e+00, -2.53262651e-01, -4.00324005e-01,  9.52386356e-01,\n",
       "        2.60167719e-01,  7.00381990e-01, -4.71463512e-01, -2.33092934e+00,\n",
       "        1.55645674e+00,  6.41266451e-01,  1.81469314e-01, -2.16372927e-01,\n",
       "        4.42420338e-01,  1.08107322e+00, -5.42413727e-01,  8.61463891e-01,\n",
       "        7.95453041e-01,  9.04937146e-02,  1.54420301e+00,  1.42387512e+00,\n",
       "       -7.91115196e-01, -2.68789050e-01, -1.93140261e-01,  3.63400644e-01,\n",
       "       -1.46644025e+00, -5.34759178e-01,  1.19666090e-01,  2.49609446e-01,\n",
       "       -6.80519375e-01,  1.19998849e+00,  7.93349767e-01,  7.80945468e-01,\n",
       "       -1.03194950e+00,  4.80931018e-01, -7.30090902e-01,  1.93394846e+00,\n",
       "        1.14964906e+00, -4.33421557e-01,  6.64980149e-01, -2.47828249e+00,\n",
       "       -1.33048889e-01,  5.23183922e-03,  1.17971395e+00,  3.21293349e-01,\n",
       "       -1.44660159e+00,  4.97177405e-01, -2.36777445e+00,  4.15119013e-01,\n",
       "       -2.23930109e-02, -1.00950372e+00, -8.42040819e-01,  1.43603996e+00,\n",
       "       -4.82909243e-01,  4.61924861e-01,  7.38011383e-01,  6.68898027e-01,\n",
       "        5.75801028e-01,  1.41228414e+00, -1.97816956e+00,  7.95553526e-02,\n",
       "       -3.44825836e-01, -2.15724753e+00,  4.64434682e-01, -3.73743741e-01,\n",
       "        1.32968880e+00, -8.54895448e-01, -1.51195180e+00,  9.48993423e-03,\n",
       "       -1.77602589e+00, -8.16478081e-01, -7.51339397e-01,  2.83110321e-01,\n",
       "       -2.62977515e+00,  5.47242863e-01,  1.47466754e+00, -1.59081096e+00,\n",
       "       -2.15871350e+00, -8.34239593e-02, -1.32189523e-01,  2.93845500e+00,\n",
       "       -1.81605224e+00,  1.18385863e+00, -3.99560495e-01, -1.55728806e+00,\n",
       "        3.82038831e-01, -2.85889506e-01,  5.17926936e-01,  4.38573213e-01,\n",
       "        7.82361277e-01,  1.28547921e+00,  1.15598378e+00,  9.01442131e-01,\n",
       "        3.39052899e-01, -1.19243067e+00,  1.38008302e+00, -6.75158312e-01,\n",
       "       -3.32946804e-01, -1.00236625e+00, -1.90571195e-01, -5.35854901e-01,\n",
       "        5.14854554e-01, -6.48863020e-01,  6.21912828e-02,  1.11511556e-01])"
      ]
     },
     "execution_count": 123,
     "metadata": {},
     "output_type": "execute_result"
    }
   ],
   "source": [
    "normal_distribution"
   ]
  },
  {
   "cell_type": "code",
   "execution_count": 127,
   "id": "435feff4-ff38-40ed-b561-6f11f06f585a",
   "metadata": {},
   "outputs": [],
   "source": [
    "import matplotlib.pyplot as plt\n",
    "import seaborn as sns"
   ]
  },
  {
   "cell_type": "code",
   "execution_count": 125,
   "id": "739e2a32-b3d5-4d31-a6e2-61cbb2dd230f",
   "metadata": {},
   "outputs": [
    {
     "data": {
      "image/png": "[encoded data removed]",
      "text/plain": [
       "<Figure size 640x480 with 1 Axes>"
      ]
     },
     "metadata": {},
     "output_type": "display_data"
    }
   ],
   "source": [
    "plt.hist(normal_distribution);"
   ]
  },
  {
   "cell_type": "code",
   "execution_count": 128,
   "id": "7218c0dd-68b8-43e9-8878-27e768ba3e3d",
   "metadata": {},
   "outputs": [
    {
     "data": {
      "text/plain": [
       "<Axes: ylabel='Density'>"
      ]
     },
     "execution_count": 128,
     "metadata": {},
     "output_type": "execute_result"
    },
    {
     "data": {
      "image/png": "[encoded data removed]",
      "text/plain": [
       "<Figure size 640x480 with 1 Axes>"
      ]
     },
     "metadata": {},
     "output_type": "display_data"
    }
   ],
   "source": [
    "sns.kdeplot(normal_distribution)"
   ]
  },
  {
   "cell_type": "code",
   "execution_count": 130,
   "id": "c368f247-4463-4c77-b165-70edfa028b64",
   "metadata": {},
   "outputs": [
    {
     "data": {
      "text/plain": [
       "<Axes: ylabel='Count'>"
      ]
     },
     "execution_count": 130,
     "metadata": {},
     "output_type": "execute_result"
    },
    {
     "data": {
      "image/png": "[encoded data removed]",
      "text/plain": [
       "<Figure size 640x480 with 1 Axes>"
      ]
     },
     "metadata": {},
     "output_type": "display_data"
    }
   ],
   "source": [
    "sns.histplot(normal_distribution, kde=True)"
   ]
  },
  {
   "cell_type": "markdown",
   "id": "1a525e29-c0c1-4d66-abad-6bbde6341642",
   "metadata": {},
   "source": [
    "#### Binomial Distribution"
   ]
  },
  {
   "cell_type": "code",
   "execution_count": 131,
   "id": "9a0c32ba-f6b9-4828-97ad-83d7dedeb889",
   "metadata": {},
   "outputs": [],
   "source": [
    "# Calculate the probability of getting 7 Heads in 10 flips of a coin."
   ]
  },
  {
   "cell_type": "code",
   "execution_count": 137,
   "id": "8c8e4e23-d391-4c20-bb44-116e04c181cb",
   "metadata": {},
   "outputs": [],
   "source": [
    "p=0.5\n",
    "n=10 "
   ]
  },
  {
   "cell_type": "code",
   "execution_count": 138,
   "id": "7c997d58-c15c-4926-9d68-139ee530edb8",
   "metadata": {},
   "outputs": [
    {
     "name": "stdout",
     "output_type": "stream",
     "text": [
      "3\n"
     ]
    }
   ],
   "source": [
    "probability = np.random.binomial(n,p)\n",
    "print(probability)"
   ]
  },
  {
   "cell_type": "code",
   "execution_count": 154,
   "id": "f2bef92a-0d03-4247-b672-12f60682d1ee",
   "metadata": {},
   "outputs": [],
   "source": [
    "lamb = 5"
   ]
  },
  {
   "cell_type": "code",
   "execution_count": 155,
   "id": "74d80be4-6a26-4be8-991c-8bdb4e4e34bd",
   "metadata": {},
   "outputs": [
    {
     "name": "stdout",
     "output_type": "stream",
     "text": [
      "5\n"
     ]
    }
   ],
   "source": [
    "probability = np.random.poisson(lamb)\n",
    "print(lamb)"
   ]
  },
  {
   "cell_type": "code",
   "execution_count": 156,
   "id": "a16e9640-45e4-4575-af69-ec4efd5c967b",
   "metadata": {},
   "outputs": [],
   "source": [
    "events = [np.random.poisson(lamb) for x in range(1000)]"
   ]
  },
  {
   "cell_type": "code",
   "execution_count": 157,
   "id": "571cd382-9b64-4e73-bb4a-94b24079ee14",
   "metadata": {},
   "outputs": [
    {
     "data": {
      "image/png": "[encoded data removed]",
      "text/plain": [
       "<Figure size 640x480 with 1 Axes>"
      ]
     },
     "metadata": {},
     "output_type": "display_data"
    }
   ],
   "source": [
    "plt.xticks(range(1,21))\n",
    "plt.hist(events);"
   ]
  },
  {
   "cell_type": "code",
   "execution_count": 158,
   "id": "34ca8f4e-dcd2-4438-adc1-26529ef401a2",
   "metadata": {},
   "outputs": [
    {
     "data": {
      "text/plain": [
       "0.168"
      ]
     },
     "execution_count": 158,
     "metadata": {},
     "output_type": "execute_result"
    }
   ],
   "source": [
    "events.count(5)/1000"
   ]
  },
  {
   "cell_type": "code",
   "execution_count": 159,
   "id": "dbee8973-cdb6-4ad3-a23d-4eb60054d0d2",
   "metadata": {},
   "outputs": [
    {
     "data": {
      "text/plain": [
       "0.176"
      ]
     },
     "execution_count": 159,
     "metadata": {},
     "output_type": "execute_result"
    }
   ],
   "source": [
    "events.count(4)/1000"
   ]
  },
  {
   "cell_type": "code",
   "execution_count": 160,
   "id": "56b07312-43be-4d43-a5ff-7117987349dd",
   "metadata": {},
   "outputs": [
    {
     "data": {
      "text/plain": [
       "0.008"
      ]
     },
     "execution_count": 160,
     "metadata": {},
     "output_type": "execute_result"
    }
   ],
   "source": [
    "events.count(0)/1000"
   ]
  },
  {
   "cell_type": "code",
   "execution_count": 161,
   "id": "48ae78cb-2b7e-4c40-be76-09be6f47ee76",
   "metadata": {},
   "outputs": [
    {
     "data": {
      "text/plain": [
       "0.014"
      ]
     },
     "execution_count": 161,
     "metadata": {},
     "output_type": "execute_result"
    }
   ],
   "source": [
    "events.count(10)/1000"
   ]
  },
  {
   "cell_type": "code",
   "execution_count": null,
   "id": "ae4d15ac-eaa8-45f0-abf2-cdfab6d44a0c",
   "metadata": {},
   "outputs": [],
   "source": []
  }
 ],
 "metadata": {
  "kernelspec": {
   "display_name": "Python 3 (ipykernel)",
   "language": "python",
   "name": "python3"
  },
  "language_info": {
   "codemirror_mode": {
    "name": "ipython",
    "version": 3
   },
   "file_extension": ".py",
   "mimetype": "text/x-python",
   "name": "python",
   "nbconvert_exporter": "python",
   "pygments_lexer": "ipython3",
   "version": "3.8.10"
  }
 },
 "nbformat": 4,
 "nbformat_minor": 5
}
