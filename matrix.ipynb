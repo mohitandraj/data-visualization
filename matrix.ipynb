{
 "cells": [
  {
   "cell_type": "markdown",
   "id": "3ff54bc4-6444-41fe-85b9-bc3b720e0433",
   "metadata": {},
   "source": [
    "# "
   ]
  },
  {
   "cell_type": "code",
   "execution_count": 1,
   "id": "bbffe37f-33a6-4964-a2f1-55a8a3accd8b",
   "metadata": {},
   "outputs": [
    {
     "data": {
      "text/plain": [
       "array([[5, 4, 3],\n",
       "       [1, 7, 8],\n",
       "       [0, 2, 3],\n",
       "       [7, 5, 1]])"
      ]
     },
     "execution_count": 1,
     "metadata": {},
     "output_type": "execute_result"
    }
   ],
   "source": [
    "import numpy as np\n",
    "import matplotlib.pyplot as plt\n",
    "M = np.array([[5,4,3],[1,7,8],[0,2,3],[7,5,1]])\n",
    "M\n"
   ]
  },
  {
   "cell_type": "code",
   "execution_count": 2,
   "id": "d03bb17b-0b26-49d8-920c-89dc59fc5d40",
   "metadata": {},
   "outputs": [
    {
     "data": {
      "text/plain": [
       "dtype('int64')"
      ]
     },
     "execution_count": 2,
     "metadata": {},
     "output_type": "execute_result"
    }
   ],
   "source": [
    "M.dtype"
   ]
  },
  {
   "cell_type": "code",
   "execution_count": 3,
   "id": "a92d1e30-ea11-4a25-a237-5edab0458d92",
   "metadata": {},
   "outputs": [
    {
     "data": {
      "text/plain": [
       "array([[5, 4, 3],\n",
       "       [1, 7, 8],\n",
       "       [0, 2, 3],\n",
       "       [7, 5, 1]], dtype=int8)"
      ]
     },
     "execution_count": 3,
     "metadata": {},
     "output_type": "execute_result"
    }
   ],
   "source": [
    "M = np.array([[5,4,3],[1,7,8],[0,2,3],[7,5,1]], dtype = np.int8)\n",
    "M"
   ]
  },
  {
   "cell_type": "code",
   "execution_count": 5,
   "id": "94fdc288-655e-49a2-b5dc-814ce36770c4",
   "metadata": {},
   "outputs": [
    {
     "data": {
      "text/plain": [
       "(4, 3)"
      ]
     },
     "execution_count": 5,
     "metadata": {},
     "output_type": "execute_result"
    }
   ],
   "source": [
    "M.shape\n"
   ]
  },
  {
   "cell_type": "markdown",
   "id": "33780fd3-0d4d-487d-a2b4-b2cbc2e478b7",
   "metadata": {},
   "source": [
    "M.size"
   ]
  },
  {
   "cell_type": "code",
   "execution_count": 6,
   "id": "f1068ff9-121f-4f29-b79c-683902708fbb",
   "metadata": {},
   "outputs": [
    {
     "data": {
      "text/plain": [
       "12"
      ]
     },
     "execution_count": 6,
     "metadata": {},
     "output_type": "execute_result"
    }
   ],
   "source": [
    "M.size"
   ]
  },
  {
   "cell_type": "code",
   "execution_count": 7,
   "id": "ce1ff12a-7401-43f2-8407-eda209261da2",
   "metadata": {},
   "outputs": [
    {
     "data": {
      "text/plain": [
       "2"
      ]
     },
     "execution_count": 7,
     "metadata": {},
     "output_type": "execute_result"
    }
   ],
   "source": [
    "M.ndim"
   ]
  },
  {
   "cell_type": "code",
   "execution_count": 8,
   "id": "d8f53ce0-2ba4-4001-97f1-863ff5a4c32c",
   "metadata": {},
   "outputs": [
    {
     "data": {
      "text/plain": [
       "array([5, 4, 3], dtype=int8)"
      ]
     },
     "execution_count": 8,
     "metadata": {},
     "output_type": "execute_result"
    }
   ],
   "source": [
    "M[0]"
   ]
  },
  {
   "cell_type": "code",
   "execution_count": 9,
   "id": "8d565f32-13df-46f3-8494-abdf44ec5997",
   "metadata": {},
   "outputs": [
    {
     "data": {
      "text/plain": [
       "4"
      ]
     },
     "execution_count": 9,
     "metadata": {},
     "output_type": "execute_result"
    }
   ],
   "source": [
    "M[0,1]"
   ]
  },
  {
   "cell_type": "code",
   "execution_count": 11,
   "id": "29fda2a1-1482-4656-947b-be2fff68a5bd",
   "metadata": {},
   "outputs": [
    {
     "data": {
      "text/plain": [
       "array([[5, 4, 3],\n",
       "       [1, 7, 9],\n",
       "       [0, 2, 3],\n",
       "       [7, 5, 1]], dtype=int8)"
      ]
     },
     "execution_count": 11,
     "metadata": {},
     "output_type": "execute_result"
    }
   ],
   "source": [
    "M[1,2]=9\n",
    "M"
   ]
  },
  {
   "cell_type": "code",
   "execution_count": 12,
   "id": "0ce22025-8f67-4a10-a14c-5d6f2f0c881d",
   "metadata": {},
   "outputs": [
    {
     "name": "stdout",
     "output_type": "stream",
     "text": [
      "[[5 4 3]\n",
      " [1 7 9]\n",
      " [0 2 3]\n",
      " [7 5 1]]\n"
     ]
    }
   ],
   "source": [
    "print(M)"
   ]
  },
  {
   "cell_type": "code",
   "execution_count": 15,
   "id": "a9cb933d-b110-47e9-ad23-ece65b121ec6",
   "metadata": {},
   "outputs": [
    {
     "data": {
      "text/plain": [
       "array([[5, 4, 3, 1, 7, 9],\n",
       "       [0, 2, 3, 7, 5, 1]], dtype=int8)"
      ]
     },
     "execution_count": 15,
     "metadata": {},
     "output_type": "execute_result"
    }
   ],
   "source": [
    "M.reshape(2,6)\n"
   ]
  },
  {
   "cell_type": "code",
   "execution_count": 16,
   "id": "f5e0edf8-452d-4fe3-ad70-c6a9dce6aa1f",
   "metadata": {},
   "outputs": [
    {
     "data": {
      "text/plain": [
       "array([[5, 4],\n",
       "       [3, 1],\n",
       "       [7, 9],\n",
       "       [0, 2],\n",
       "       [3, 7],\n",
       "       [5, 1]], dtype=int8)"
      ]
     },
     "execution_count": 16,
     "metadata": {},
     "output_type": "execute_result"
    }
   ],
   "source": [
    "M.reshape(-1,2)"
   ]
  },
  {
   "cell_type": "code",
   "execution_count": 17,
   "id": "89f066c4-9700-4886-921c-8696b0b031b6",
   "metadata": {},
   "outputs": [
    {
     "data": {
      "text/plain": [
       "array([[5, 4, 3, 1, 7, 9],\n",
       "       [0, 2, 3, 7, 5, 1]], dtype=int8)"
      ]
     },
     "execution_count": 17,
     "metadata": {},
     "output_type": "execute_result"
    }
   ],
   "source": [
    "M.reshape(2,-1)"
   ]
  },
  {
   "cell_type": "code",
   "execution_count": 18,
   "id": "6715160a-2fb1-4e1f-aa30-1f806314d735",
   "metadata": {},
   "outputs": [
    {
     "data": {
      "text/plain": [
       "array([5, 4, 3, 1, 7, 9, 0, 2, 3, 7, 5, 1], dtype=int8)"
      ]
     },
     "execution_count": 18,
     "metadata": {},
     "output_type": "execute_result"
    }
   ],
   "source": [
    "M.reshape(-1)"
   ]
  },
  {
   "cell_type": "code",
   "execution_count": 19,
   "id": "f664f8be-4c27-416b-8672-e04ac101e69a",
   "metadata": {},
   "outputs": [
    {
     "data": {
      "text/plain": [
       "array([5, 4, 3, 1, 7, 9, 0, 2, 3, 7, 5, 1], dtype=int8)"
      ]
     },
     "execution_count": 19,
     "metadata": {},
     "output_type": "execute_result"
    }
   ],
   "source": [
    "M.flatten()"
   ]
  },
  {
   "cell_type": "code",
   "execution_count": 20,
   "id": "055dfcf8-3d34-4f93-a613-40fd02a26b60",
   "metadata": {},
   "outputs": [
    {
     "data": {
      "text/plain": [
       "(9,)"
      ]
     },
     "execution_count": 20,
     "metadata": {},
     "output_type": "execute_result"
    }
   ],
   "source": [
    "v1= np.array([3,4,2,1,6,5,4,7,8])\n",
    "v1.shape"
   ]
  },
  {
   "cell_type": "code",
   "execution_count": 22,
   "id": "4c9160ea-a75c-4c78-a5dd-f42dc62a1faa",
   "metadata": {},
   "outputs": [
    {
     "data": {
      "text/plain": [
       "array([[3, 4, 2],\n",
       "       [1, 6, 5],\n",
       "       [4, 7, 8]])"
      ]
     },
     "execution_count": 22,
     "metadata": {},
     "output_type": "execute_result"
    }
   ],
   "source": [
    "v1.reshape(3,3)"
   ]
  },
  {
   "cell_type": "code",
   "execution_count": 23,
   "id": "884a6f89-0213-4d91-a232-0d2395d4b29d",
   "metadata": {},
   "outputs": [
    {
     "data": {
      "text/plain": [
       "array([[1, 2, 3],\n",
       "       [4, 5, 6],\n",
       "       [7, 8, 9]])"
      ]
     },
     "execution_count": 23,
     "metadata": {},
     "output_type": "execute_result"
    }
   ],
   "source": [
    "np.arange(1,10).reshape(3,3)"
   ]
  },
  {
   "cell_type": "code",
   "execution_count": 24,
   "id": "007a5765-82e8-46bb-900d-bb71ad681611",
   "metadata": {},
   "outputs": [
    {
     "data": {
      "text/plain": [
       "array([[5., 4., 3.],\n",
       "       [1., 7., 9.],\n",
       "       [0., 2., 3.],\n",
       "       [7., 5., 1.]], dtype=float16)"
      ]
     },
     "execution_count": 24,
     "metadata": {},
     "output_type": "execute_result"
    }
   ],
   "source": [
    "M.astype(np.float16)"
   ]
  },
  {
   "cell_type": "code",
   "execution_count": 25,
   "id": "09660e74-fd9a-4e04-a961-de838178a632",
   "metadata": {},
   "outputs": [
    {
     "data": {
      "text/plain": [
       "array([[ True,  True,  True],\n",
       "       [ True,  True,  True],\n",
       "       [False,  True,  True],\n",
       "       [ True,  True,  True]])"
      ]
     },
     "execution_count": 25,
     "metadata": {},
     "output_type": "execute_result"
    }
   ],
   "source": [
    "M.astype(np.bool_)"
   ]
  },
  {
   "cell_type": "code",
   "execution_count": 28,
   "id": "5308a321-df5d-44de-a964-915b108811ef",
   "metadata": {},
   "outputs": [
    {
     "data": {
      "text/plain": [
       "array([['5', '4', '3'],\n",
       "       ['1', '7', '9'],\n",
       "       ['0', '2', '3'],\n",
       "       ['7', '5', '1']], dtype='<U4')"
      ]
     },
     "execution_count": 28,
     "metadata": {},
     "output_type": "execute_result"
    }
   ],
   "source": [
    "M.astype(np.unicode_)"
   ]
  },
  {
   "cell_type": "code",
   "execution_count": 49,
   "id": "d2dc0049-25fb-473d-a4f6-bbb9cda19b33",
   "metadata": {},
   "outputs": [
    {
     "name": "stdout",
     "output_type": "stream",
     "text": [
      "5 4 3 \n",
      "1 7 9 \n",
      "0 2 3 \n",
      "7 5 1 \n"
     ]
    }
   ],
   "source": [
    "for row in M:\n",
    "    for value in row:\n",
    "     print(value, end = ' ')\n",
    "    print()\n",
    "      \n",
    "        \n",
    "    \n"
   ]
  },
  {
   "cell_type": "code",
   "execution_count": 50,
   "id": "6c8f599a-180a-44c0-91b1-6c14087c85fc",
   "metadata": {},
   "outputs": [
    {
     "name": "stdin",
     "output_type": "stream",
     "text": [
      "Enter a number 1\n"
     ]
    },
    {
     "name": "stdout",
     "output_type": "stream",
     "text": [
      "1\n"
     ]
    }
   ],
   "source": [
    "var=int(input(\"Enter a number\"))\n",
    "print(var)"
   ]
  },
  {
   "cell_type": "code",
   "execution_count": 51,
   "id": "c93a314d-e0c5-46fe-b4c1-46cf3988cd15",
   "metadata": {},
   "outputs": [
    {
     "data": {
      "text/plain": [
       "9"
      ]
     },
     "execution_count": 51,
     "metadata": {},
     "output_type": "execute_result"
    }
   ],
   "source": [
    "M.max()"
   ]
  },
  {
   "cell_type": "code",
   "execution_count": 52,
   "id": "b5fbaa3d-c915-494a-9236-3d6765702df4",
   "metadata": {},
   "outputs": [
    {
     "data": {
      "text/plain": [
       "0"
      ]
     },
     "execution_count": 52,
     "metadata": {},
     "output_type": "execute_result"
    }
   ],
   "source": [
    "M.min()"
   ]
  },
  {
   "cell_type": "code",
   "execution_count": 53,
   "id": "c9c02ea6-3e8e-44cc-b5f7-297dfc5276b7",
   "metadata": {},
   "outputs": [
    {
     "data": {
      "text/plain": [
       "3.9166666666666665"
      ]
     },
     "execution_count": 53,
     "metadata": {},
     "output_type": "execute_result"
    }
   ],
   "source": [
    "M.mean()"
   ]
  },
  {
   "cell_type": "code",
   "execution_count": 54,
   "id": "3fcfe81a-16c9-4600-895f-12f75c448b5d",
   "metadata": {},
   "outputs": [
    {
     "data": {
      "text/plain": [
       "2.6601482832520613"
      ]
     },
     "execution_count": 54,
     "metadata": {},
     "output_type": "execute_result"
    }
   ],
   "source": [
    "M.std()"
   ]
  },
  {
   "cell_type": "code",
   "execution_count": 55,
   "id": "2b2a6124-7383-40fd-8082-440af8cfd540",
   "metadata": {},
   "outputs": [
    {
     "data": {
      "text/plain": [
       "7.076388888888888"
      ]
     },
     "execution_count": 55,
     "metadata": {},
     "output_type": "execute_result"
    }
   ],
   "source": [
    "M.var()"
   ]
  },
  {
   "cell_type": "code",
   "execution_count": 56,
   "id": "d1f35cd2-e412-4e47-ad46-d548c49152fa",
   "metadata": {},
   "outputs": [
    {
     "data": {
      "text/plain": [
       "3.5"
      ]
     },
     "execution_count": 56,
     "metadata": {},
     "output_type": "execute_result"
    }
   ],
   "source": [
    "np.median(M)\n"
   ]
  },
  {
   "cell_type": "code",
   "execution_count": 57,
   "id": "09901964-10fb-4684-83c2-4af49b43f7d4",
   "metadata": {},
   "outputs": [
    {
     "data": {
      "text/plain": [
       "47"
      ]
     },
     "execution_count": 57,
     "metadata": {},
     "output_type": "execute_result"
    }
   ],
   "source": [
    "M.sum()"
   ]
  },
  {
   "cell_type": "code",
   "execution_count": 60,
   "id": "5d88e835-4331-45fb-8dc2-e2c1ea3a0713",
   "metadata": {},
   "outputs": [
    {
     "data": {
      "text/plain": [
       "array([[0, 0, 0],\n",
       "       [0, 0, 0],\n",
       "       [0, 0, 0]], dtype=int8)"
      ]
     },
     "execution_count": 60,
     "metadata": {},
     "output_type": "execute_result"
    }
   ],
   "source": [
    "Z=np.zeros([3,3],dtype=np.int8)\n",
    "Z"
   ]
  },
  {
   "cell_type": "code",
   "execution_count": 63,
   "id": "cb8c10e1-4e01-4f83-810a-0c0a00a69859",
   "metadata": {},
   "outputs": [
    {
     "data": {
      "text/plain": [
       "array([[1., 1., 1.],\n",
       "       [1., 1., 1.],\n",
       "       [1., 1., 1.]])"
      ]
     },
     "execution_count": 63,
     "metadata": {},
     "output_type": "execute_result"
    }
   ],
   "source": [
    "o=np.ones([3,3])\n",
    "o"
   ]
  },
  {
   "cell_type": "code",
   "execution_count": 68,
   "id": "065384e8-cd00-458c-b73c-effd86ce8b07",
   "metadata": {},
   "outputs": [
    {
     "data": {
      "text/plain": [
       "array([[ 0,  1,  2,  3,  4],\n",
       "       [ 5,  6,  7,  8,  9],\n",
       "       [10, 11, 12, 13, 14],\n",
       "       [15, 16, 17, 18, 19],\n",
       "       [20, 21, 22, 23, 24]])"
      ]
     },
     "execution_count": 68,
     "metadata": {},
     "output_type": "execute_result"
    }
   ],
   "source": [
    "S=np.arange(25).reshape(5,5)\n",
    "S"
   ]
  },
  {
   "cell_type": "code",
   "execution_count": 65,
   "id": "44214cfa-b9c2-4bf0-85d6-cb2bdbce11c4",
   "metadata": {},
   "outputs": [
    {
     "data": {
      "text/plain": [
       "array([[ 7,  8],\n",
       "       [12, 13]])"
      ]
     },
     "execution_count": 65,
     "metadata": {},
     "output_type": "execute_result"
    }
   ],
   "source": [
    "S[1:3,2:4]"
   ]
  },
  {
   "cell_type": "code",
   "execution_count": 70,
   "id": "6958ee2f-63d0-476b-93a7-5e948f126ff5",
   "metadata": {},
   "outputs": [
    {
     "data": {
      "text/plain": [
       "array([[ 7,  8,  9],\n",
       "       [12, 13, 14],\n",
       "       [17, 18, 19],\n",
       "       [22, 23, 24]])"
      ]
     },
     "execution_count": 70,
     "metadata": {},
     "output_type": "execute_result"
    }
   ],
   "source": [
    "S[1:,2:]"
   ]
  },
  {
   "cell_type": "markdown",
   "id": "656dc625-8fc8-4ba8-b46f-60469f1c0b6d",
   "metadata": {},
   "source": [
    "M<4"
   ]
  },
  {
   "cell_type": "code",
   "execution_count": 71,
   "id": "3697fcaf-c28c-4b41-b9be-6941ee842b7a",
   "metadata": {},
   "outputs": [
    {
     "data": {
      "text/plain": [
       "array([[ True, False, False],\n",
       "       [False,  True,  True],\n",
       "       [False, False, False],\n",
       "       [ True,  True, False]])"
      ]
     },
     "execution_count": 71,
     "metadata": {},
     "output_type": "execute_result"
    }
   ],
   "source": [
    "M>4"
   ]
  },
  {
   "cell_type": "code",
   "execution_count": 72,
   "id": "0007ee8b-2ff7-4e74-b8d9-4579b9d41048",
   "metadata": {},
   "outputs": [
    {
     "data": {
      "text/plain": [
       "array([5, 7, 9, 7, 5], dtype=int8)"
      ]
     },
     "execution_count": 72,
     "metadata": {},
     "output_type": "execute_result"
    }
   ],
   "source": [
    "M[M>4]"
   ]
  },
  {
   "cell_type": "code",
   "execution_count": 74,
   "id": "cb358e56-d440-41fc-8b0e-6e2ac25106be",
   "metadata": {},
   "outputs": [
    {
     "data": {
      "text/plain": [
       "array([5, 3, 1, 7, 9, 3, 7, 5, 1], dtype=int8)"
      ]
     },
     "execution_count": 74,
     "metadata": {},
     "output_type": "execute_result"
    }
   ],
   "source": [
    "M[ M%2 ==1]"
   ]
  },
  {
   "cell_type": "code",
   "execution_count": 75,
   "id": "115baa82-c315-4e37-ba4c-e9e349a3d36c",
   "metadata": {},
   "outputs": [
    {
     "data": {
      "text/plain": [
       "array([[6, 8, 7],\n",
       "       [4, 1, 3],\n",
       "       [5, 2, 9]])"
      ]
     },
     "execution_count": 75,
     "metadata": {},
     "output_type": "execute_result"
    }
   ],
   "source": [
    "M1= np.array([[6,8,7],[4,1,3],[5,2,9]])\n",
    "M1"
   ]
  },
  {
   "cell_type": "code",
   "execution_count": 85,
   "id": "0628b2cb-e7e9-401f-8060-b6b53d7f8641",
   "metadata": {},
   "outputs": [
    {
     "data": {
      "text/plain": [
       "array([[0, 0, 7],\n",
       "       [0, 1, 3],\n",
       "       [5, 0, 9]])"
      ]
     },
     "execution_count": 85,
     "metadata": {},
     "output_type": "execute_result"
    }
   ],
   "source": [
    "for i in range (M1.shape[0]):\n",
    "  for j in range (M1.shape[1]):\n",
    "   if M1[i,j]%2==0:\n",
    "      M1[i,j]=0\n",
    "M1     \n"
   ]
  },
  {
   "cell_type": "code",
   "execution_count": 86,
   "id": "2e31305e-9910-4058-884f-bccb4f25fd35",
   "metadata": {
    "jupyter": {
     "source_hidden": true
    }
   },
   "outputs": [],
   "source": [
    "##MATRIX OPERATION\n"
   ]
  },
  {
   "cell_type": "code",
   "execution_count": 101,
   "id": "40188384-4446-4fc0-806b-509c1f00236e",
   "metadata": {},
   "outputs": [
    {
     "data": {
      "text/plain": [
       "((4, 3), (4, 3))"
      ]
     },
     "execution_count": 101,
     "metadata": {},
     "output_type": "execute_result"
    }
   ],
   "source": [
    "M1= np.array([[5,4,3],[1,7,8],[0,2,3],[7,5,1]], dtype= np.uint8)\n",
    "M2= np.array([[2,8,1],[0,2,5],[1,9,4],[6,2,6]], dtype= np.uint8)\n",
    "M1.shape, M2.shape"
   ]
  },
  {
   "cell_type": "code",
   "execution_count": 102,
   "id": "3c164ca5-8dc2-443c-9503-318bddd4d9e5",
   "metadata": {},
   "outputs": [
    {
     "data": {
      "text/plain": [
       "array([[ 7, 12,  4],\n",
       "       [ 1,  9, 13],\n",
       "       [ 1, 11,  7],\n",
       "       [13,  7,  7]], dtype=uint8)"
      ]
     },
     "execution_count": 102,
     "metadata": {},
     "output_type": "execute_result"
    }
   ],
   "source": [
    "M3=M1+M2\n",
    "M3"
   ]
  },
  {
   "cell_type": "code",
   "execution_count": 110,
   "id": "bee5a5b3-f707-49cb-b6af-e434379e72ee",
   "metadata": {},
   "outputs": [
    {
     "data": {
      "text/plain": [
       "array([[  3, 252,   2],\n",
       "       [  1,   5,   3],\n",
       "       [255, 249, 255],\n",
       "       [  1,   3, 251]], dtype=uint8)"
      ]
     },
     "execution_count": 110,
     "metadata": {},
     "output_type": "execute_result"
    }
   ],
   "source": [
    "M4 = M1-M2\n",
    "M4"
   ]
  },
  {
   "cell_type": "code",
   "execution_count": 111,
   "id": "bcff7563-5ef7-4e1e-931e-569056d8f407",
   "metadata": {},
   "outputs": [
    {
     "data": {
      "text/plain": [
       "array([[15, 14, 13],\n",
       "       [11, 17, 18],\n",
       "       [10, 12, 13],\n",
       "       [17, 15, 11]], dtype=uint8)"
      ]
     },
     "execution_count": 111,
     "metadata": {},
     "output_type": "execute_result"
    }
   ],
   "source": [
    "M1+10"
   ]
  },
  {
   "cell_type": "code",
   "execution_count": 105,
   "id": "a039c4f0-3418-4fdf-bfe6-fa4cc4958ced",
   "metadata": {},
   "outputs": [
    {
     "data": {
      "text/plain": [
       "array([[ 7,  7,  4],\n",
       "       [ 3, 10,  9],\n",
       "       [ 2,  5,  4],\n",
       "       [ 9,  8,  2]])"
      ]
     },
     "execution_count": 105,
     "metadata": {},
     "output_type": "execute_result"
    }
   ],
   "source": [
    "M1+[2,3,1]"
   ]
  },
  {
   "cell_type": "code",
   "execution_count": 106,
   "id": "acee90de-95f2-48e5-bed8-04011426b9a3",
   "metadata": {},
   "outputs": [
    {
     "data": {
      "text/plain": [
       "array([[5, 4, 3],\n",
       "       [1, 7, 8],\n",
       "       [0, 2, 3],\n",
       "       [7, 5, 1]], dtype=uint8)"
      ]
     },
     "execution_count": 106,
     "metadata": {},
     "output_type": "execute_result"
    }
   ],
   "source": [
    "M1"
   ]
  },
  {
   "cell_type": "code",
   "execution_count": 107,
   "id": "485fd8a5-5bc3-4471-b83f-aa1c880720b3",
   "metadata": {},
   "outputs": [
    {
     "data": {
      "text/plain": [
       "array([[253,   4, 254],\n",
       "       [255, 251, 253],\n",
       "       [  1,   7,   1],\n",
       "       [255, 253,   5]], dtype=uint8)"
      ]
     },
     "execution_count": 107,
     "metadata": {},
     "output_type": "execute_result"
    }
   ],
   "source": [
    "M2-M1\n"
   ]
  },
  {
   "cell_type": "code",
   "execution_count": 108,
   "id": "7b07846c-d30c-4ae2-8144-b7ad959ae111",
   "metadata": {},
   "outputs": [
    {
     "data": {
      "text/plain": [
       "array([[253,   4, 254],\n",
       "       [255, 251, 253],\n",
       "       [  1,   7,   1],\n",
       "       [255, 253,   5]], dtype=uint8)"
      ]
     },
     "execution_count": 108,
     "metadata": {},
     "output_type": "execute_result"
    }
   ],
   "source": [
    "abs(M2-M1)"
   ]
  },
  {
   "cell_type": "code",
   "execution_count": 109,
   "id": "294d667a-cbd1-43fa-9d7c-b8c9e3808701",
   "metadata": {},
   "outputs": [
    {
     "data": {
      "text/plain": [
       "array([[  3, 252,   2],\n",
       "       [  1,   5,   3],\n",
       "       [255, 249, 255],\n",
       "       [  1,   3, 251]], dtype=uint8)"
      ]
     },
     "execution_count": 109,
     "metadata": {},
     "output_type": "execute_result"
    }
   ],
   "source": [
    "M1-M2"
   ]
  },
  {
   "cell_type": "code",
   "execution_count": 112,
   "id": "6f36e691-e71e-40de-80ae-c110c89d12fa",
   "metadata": {},
   "outputs": [],
   "source": [
    "#SCALAR MULTIPLICATION"
   ]
  },
  {
   "cell_type": "code",
   "execution_count": 113,
   "id": "e29bb44a-b161-4d96-a120-925a2f891a1c",
   "metadata": {},
   "outputs": [
    {
     "data": {
      "text/plain": [
       "array([[15, 12,  9],\n",
       "       [ 3, 21, 27],\n",
       "       [ 0,  6,  9],\n",
       "       [21, 15,  3]], dtype=int8)"
      ]
     },
     "execution_count": 113,
     "metadata": {},
     "output_type": "execute_result"
    }
   ],
   "source": [
    "3*M"
   ]
  },
  {
   "cell_type": "code",
   "execution_count": 114,
   "id": "cdb2685b-0ffb-4cee-a405-d2df926503b1",
   "metadata": {},
   "outputs": [
    {
     "data": {
      "text/plain": [
       "array([[21, 36, 12],\n",
       "       [ 3, 27, 39],\n",
       "       [ 3, 33, 21],\n",
       "       [39, 21, 21]], dtype=uint8)"
      ]
     },
     "execution_count": 114,
     "metadata": {},
     "output_type": "execute_result"
    }
   ],
   "source": [
    "3*(M1+M2)"
   ]
  },
  {
   "cell_type": "code",
   "execution_count": 115,
   "id": "b40ee627-8cef-4703-bf78-ed3b83441939",
   "metadata": {},
   "outputs": [
    {
     "data": {
      "text/plain": [
       "array([[21, 36, 12],\n",
       "       [ 3, 27, 39],\n",
       "       [ 3, 33, 21],\n",
       "       [39, 21, 21]], dtype=uint8)"
      ]
     },
     "execution_count": 115,
     "metadata": {},
     "output_type": "execute_result"
    }
   ],
   "source": [
    "3*M1 + 3*M2"
   ]
  },
  {
   "cell_type": "code",
   "execution_count": 116,
   "id": "ea072fcc-2245-47c9-af30-0441f2985bab",
   "metadata": {},
   "outputs": [
    {
     "data": {
      "text/plain": [
       "array([[35, 28, 21],\n",
       "       [ 7, 49, 56],\n",
       "       [ 0, 14, 21],\n",
       "       [49, 35,  7]], dtype=uint8)"
      ]
     },
     "execution_count": 116,
     "metadata": {},
     "output_type": "execute_result"
    }
   ],
   "source": [
    "(3+4)*M1"
   ]
  },
  {
   "cell_type": "code",
   "execution_count": 117,
   "id": "0abe6f1c-e51f-4795-9ac1-7cd285d06615",
   "metadata": {},
   "outputs": [
    {
     "data": {
      "text/plain": [
       "array([[35, 28, 21],\n",
       "       [ 7, 49, 56],\n",
       "       [ 0, 14, 21],\n",
       "       [49, 35,  7]], dtype=uint8)"
      ]
     },
     "execution_count": 117,
     "metadata": {},
     "output_type": "execute_result"
    }
   ],
   "source": [
    "3*M1 + 4*M1"
   ]
  },
  {
   "cell_type": "code",
   "execution_count": 119,
   "id": "a328a5a8-6b0b-4aa3-a822-97e6c9e9e88b",
   "metadata": {},
   "outputs": [
    {
     "data": {
      "text/plain": [
       "(array([[60, 48, 36],\n",
       "        [12, 84, 96],\n",
       "        [ 0, 24, 36],\n",
       "        [84, 60, 12]], dtype=uint8),\n",
       " array([[60, 48, 36],\n",
       "        [12, 84, 96],\n",
       "        [ 0, 24, 36],\n",
       "        [84, 60, 12]], dtype=uint8),\n",
       " array([[60, 48, 36],\n",
       "        [12, 84, 96],\n",
       "        [ 0, 24, 36],\n",
       "        [84, 60, 12]], dtype=uint8))"
      ]
     },
     "execution_count": 119,
     "metadata": {},
     "output_type": "execute_result"
    }
   ],
   "source": [
    "3*4*M1,M1*4*3,4*M1*3"
   ]
  },
  {
   "cell_type": "code",
   "execution_count": 120,
   "id": "f3074e5f-b823-465c-b074-cffa8c09037b",
   "metadata": {},
   "outputs": [
    {
     "data": {
      "text/plain": [
       "array([[-15, -12,  -9],\n",
       "       [ -3, -21, -24],\n",
       "       [  0,  -6,  -9],\n",
       "       [-21, -15,  -3]], dtype=int16)"
      ]
     },
     "execution_count": 120,
     "metadata": {},
     "output_type": "execute_result"
    }
   ],
   "source": [
    "-3*M1"
   ]
  },
  {
   "cell_type": "code",
   "execution_count": 121,
   "id": "e5397c82-bb54-4556-b686-56534bfe6106",
   "metadata": {},
   "outputs": [
    {
     "data": {
      "text/plain": [
       "array([[241, 244, 247],\n",
       "       [253, 235, 232],\n",
       "       [  0, 250, 247],\n",
       "       [235, 241, 253]], dtype=uint8)"
      ]
     },
     "execution_count": 121,
     "metadata": {},
     "output_type": "execute_result"
    }
   ],
   "source": [
    "-(3*M1)"
   ]
  },
  {
   "cell_type": "code",
   "execution_count": 122,
   "id": "05c68dfd-fe40-40ed-be81-b7dfd2488a1e",
   "metadata": {},
   "outputs": [
    {
     "data": {
      "text/plain": [
       "array([[-5, -4, -3],\n",
       "       [-1, -7, -8],\n",
       "       [ 0, -2, -3],\n",
       "       [-7, -5, -1]], dtype=int16)"
      ]
     },
     "execution_count": 122,
     "metadata": {},
     "output_type": "execute_result"
    }
   ],
   "source": [
    "-1*M1"
   ]
  },
  {
   "cell_type": "code",
   "execution_count": 123,
   "id": "e37a7731-6200-47a8-a779-1a33b8985054",
   "metadata": {},
   "outputs": [],
   "source": [
    "#MATRIX MULTIPLICATION"
   ]
  },
  {
   "cell_type": "code",
   "execution_count": 125,
   "id": "450df8af-b6e9-4fc4-9719-8162ce8c8585",
   "metadata": {},
   "outputs": [
    {
     "data": {
      "text/plain": [
       "(array([[ 79, 284],\n",
       "        [179, 644]]),\n",
       " array([[ 79, 284],\n",
       "        [179, 644]]))"
      ]
     },
     "execution_count": 125,
     "metadata": {},
     "output_type": "execute_result"
    }
   ],
   "source": [
    "A= np.array([[1,2],[3,4]])\n",
    "B= np.array([[5,6],[7,8]])\n",
    "c= np.array([[3,8],[1,6]])\n",
    "A@(B@c), (A@B)@c"
   ]
  },
  {
   "cell_type": "code",
   "execution_count": 128,
   "id": "5000df45-7af8-48c1-b865-c22a5a94f5f1",
   "metadata": {},
   "outputs": [
    {
     "data": {
      "text/plain": [
       "(array([[24, 42],\n",
       "        [56, 98]]),\n",
       " array([[24, 42],\n",
       "        [56, 98]]))"
      ]
     },
     "execution_count": 128,
     "metadata": {},
     "output_type": "execute_result"
    }
   ],
   "source": [
    "A@(B + c), A@B + A@c"
   ]
  },
  {
   "cell_type": "code",
   "execution_count": 129,
   "id": "b14063a0-eeaa-40c8-94e9-373145e72ffa",
   "metadata": {},
   "outputs": [
    {
     "data": {
      "text/plain": [
       "array([[5, 1, 0, 7],\n",
       "       [4, 7, 2, 5],\n",
       "       [3, 9, 3, 1]], dtype=int8)"
      ]
     },
     "execution_count": 129,
     "metadata": {},
     "output_type": "execute_result"
    }
   ],
   "source": [
    "np.transpose(M)"
   ]
  },
  {
   "cell_type": "code",
   "execution_count": 130,
   "id": "0a4a7c99-cabb-4b16-b00a-cdc3eb7f7a20",
   "metadata": {},
   "outputs": [
    {
     "data": {
      "text/plain": [
       "array([[5, 4, 3, 1],\n",
       "       [7, 9, 0, 2],\n",
       "       [3, 7, 5, 1]], dtype=int8)"
      ]
     },
     "execution_count": 130,
     "metadata": {},
     "output_type": "execute_result"
    }
   ],
   "source": [
    "M.reshape(3,4)"
   ]
  },
  {
   "cell_type": "code",
   "execution_count": 131,
   "id": "13d6d686-6f14-4685-886c-2c59cc590ed5",
   "metadata": {},
   "outputs": [
    {
     "data": {
      "text/plain": [
       "array([[5, 1, 0, 7],\n",
       "       [4, 7, 2, 5],\n",
       "       [3, 9, 3, 1]], dtype=int8)"
      ]
     },
     "execution_count": 131,
     "metadata": {},
     "output_type": "execute_result"
    }
   ],
   "source": [
    "M.T"
   ]
  },
  {
   "cell_type": "code",
   "execution_count": 132,
   "id": "20b8a25d-8c2a-437e-9677-ead1d3b9c7d2",
   "metadata": {},
   "outputs": [
    {
     "data": {
      "text/plain": [
       "(array([[5, 4, 3],\n",
       "        [1, 7, 9],\n",
       "        [0, 2, 3],\n",
       "        [7, 5, 1]], dtype=int8),\n",
       " array([[5, 4, 3],\n",
       "        [1, 7, 9],\n",
       "        [0, 2, 3],\n",
       "        [7, 5, 1]], dtype=int8))"
      ]
     },
     "execution_count": 132,
     "metadata": {},
     "output_type": "execute_result"
    }
   ],
   "source": [
    "M,M.T.T"
   ]
  },
  {
   "cell_type": "code",
   "execution_count": 133,
   "id": "7c10963c-c7b8-49f5-96f7-660d95a6b1f8",
   "metadata": {},
   "outputs": [
    {
     "data": {
      "text/plain": [
       "array([[ 6, 10],\n",
       "       [ 8, 12]])"
      ]
     },
     "execution_count": 133,
     "metadata": {},
     "output_type": "execute_result"
    }
   ],
   "source": [
    "A.T + B.T"
   ]
  },
  {
   "cell_type": "code",
   "execution_count": 135,
   "id": "7e68ba66-44a6-495f-a5fa-5858330b9150",
   "metadata": {},
   "outputs": [
    {
     "data": {
      "text/plain": [
       "(array([[15,  3,  0, 21],\n",
       "        [12, 21,  6, 15],\n",
       "        [ 9, 27,  9,  3]], dtype=int8),\n",
       " array([[15,  3,  0, 21],\n",
       "        [12, 21,  6, 15],\n",
       "        [ 9, 27,  9,  3]], dtype=int8))"
      ]
     },
     "execution_count": 135,
     "metadata": {},
     "output_type": "execute_result"
    }
   ],
   "source": [
    "(3*M).T ,3* M.T"
   ]
  },
  {
   "cell_type": "code",
   "execution_count": 138,
   "id": "62bc3018-d68b-4c0d-9bca-9dee6b40f460",
   "metadata": {},
   "outputs": [
    {
     "data": {
      "text/plain": [
       "(array([[19, 43],\n",
       "        [22, 50]]),\n",
       " array([[19, 43],\n",
       "        [22, 50]]))"
      ]
     },
     "execution_count": 138,
     "metadata": {},
     "output_type": "execute_result"
    }
   ],
   "source": [
    "(A@B).T, B.T@A.T"
   ]
  },
  {
   "cell_type": "code",
   "execution_count": 165,
   "id": "f2b9ac79-a8b8-450c-985d-99072efdd662",
   "metadata": {},
   "outputs": [
    {
     "name": "stdin",
     "output_type": "stream",
     "text": [
      "Enter the no of Rows :  2\n",
      "Enter the no of Cols :  3\n",
      "Enter the Elements :  1\n",
      "Enter the Elements :  2\n",
      "Enter the Elements :  3\n",
      "Enter the Elements :  4\n",
      "Enter the Elements :  5\n",
      "Enter the Elements :  5\n"
     ]
    },
    {
     "name": "stdout",
     "output_type": "stream",
     "text": [
      "OG Matrix\n",
      " [[1 2 3]\n",
      " [4 5 5]]\n",
      "Transpose Matrix\n",
      " [[1 4]\n",
      " [2 5]\n",
      " [3 5]]\n"
     ]
    }
   ],
   "source": [
    "rows=(int(input(\"Enter the no of Rows : \")))\n",
    "cols=(int(input(\"Enter the no of Cols : \")))\n",
    "m0= np.zeros([rows,cols], dtype=np.int16)\n",
    "for i in range(rows):\n",
    "    for j in range(cols):\n",
    "        num=int(input(\"Enter the Elements : \"))\n",
    "        m0[i,j]=num\n",
    "print(\"OG Matrix\\n\",m0)\n",
    "print(\"Transpose Matrix\\n\",m0.T)\n",
    "      "
   ]
  },
  {
   "cell_type": "code",
   "execution_count": 166,
   "id": "78a8efdd-fa51-45a7-8dda-866a517a0204",
   "metadata": {},
   "outputs": [],
   "source": [
    "M1= np.array([[5,4,3],[1,7,8],[0,2,3],[7,5,1]], dtype= np.int8)\n",
    "M2= np.array([[2,8,1],[0,2,5],[1,9,4]], dtype= np.int8)"
   ]
  },
  {
   "cell_type": "code",
   "execution_count": 167,
   "id": "bed57a6b-1f9e-425e-b9ee-97dac5cf8e09",
   "metadata": {},
   "outputs": [
    {
     "data": {
      "text/plain": [
       "array([[2, 8, 1],\n",
       "       [0, 2, 5],\n",
       "       [1, 9, 4]], dtype=int8)"
      ]
     },
     "execution_count": 167,
     "metadata": {},
     "output_type": "execute_result"
    }
   ],
   "source": [
    "M1\n",
    "M2"
   ]
  },
  {
   "cell_type": "code",
   "execution_count": 178,
   "id": "aec2a63f-be57-4f0e-b995-44a50788bcf2",
   "metadata": {},
   "outputs": [],
   "source": [
    "M1\n",
    "sum=0\n"
   ]
  },
  {
   "cell_type": "code",
   "execution_count": 184,
   "id": "e6dcb584-c1bc-4cfe-ad42-7e165c4ce715",
   "metadata": {},
   "outputs": [
    {
     "name": "stdout",
     "output_type": "stream",
     "text": [
      "90\n"
     ]
    }
   ],
   "source": [
    "for i in range(M1.shape[0]):\n",
    "    for j in range(M1.shape[1]):\n",
    "        if i==j:\n",
    "\n",
    "            \n",
    "          sum += M1[i,j]     \n",
    "print(sum)"
   ]
  },
  {
   "cell_type": "code",
   "execution_count": 185,
   "id": "c887c22e-8fac-4bad-8f59-899df518f8f1",
   "metadata": {},
   "outputs": [
    {
     "data": {
      "text/plain": [
       "15"
      ]
     },
     "execution_count": 185,
     "metadata": {},
     "output_type": "execute_result"
    }
   ],
   "source": [
    "add=0\n",
    "for i in range(min(M1.shape)):\n",
    "    add=M1[i,i]+add\n",
    "add"
   ]
  },
  {
   "cell_type": "code",
   "execution_count": 191,
   "id": "d94db5df-42aa-4357-9230-a27f7dcc8bb9",
   "metadata": {},
   "outputs": [
    {
     "data": {
      "text/plain": [
       "15"
      ]
     },
     "execution_count": 191,
     "metadata": {},
     "output_type": "execute_result"
    }
   ],
   "source": [
    "M1.diagonal().sum()"
   ]
  },
  {
   "cell_type": "markdown",
   "id": "c71d1b7f-805d-4a52-b9d3-56fb19b56aad",
   "metadata": {},
   "source": []
  },
  {
   "cell_type": "code",
   "execution_count": 189,
   "id": "72fb6d03-4a0a-4362-baca-b1b7e5cd862e",
   "metadata": {},
   "outputs": [
    {
     "data": {
      "text/plain": [
       "8"
      ]
     },
     "execution_count": 189,
     "metadata": {},
     "output_type": "execute_result"
    }
   ],
   "source": [
    "M2.diagonal().sum()\n"
   ]
  },
  {
   "cell_type": "code",
   "execution_count": 193,
   "id": "70dfc73b-3982-4c75-8ef7-91481b40287c",
   "metadata": {},
   "outputs": [
    {
     "data": {
      "text/plain": [
       "15"
      ]
     },
     "execution_count": 193,
     "metadata": {},
     "output_type": "execute_result"
    }
   ],
   "source": [
    "M1.trace()"
   ]
  },
  {
   "cell_type": "code",
   "execution_count": 194,
   "id": "3bbc6abf-d275-418e-98fb-785e442d70a1",
   "metadata": {},
   "outputs": [
    {
     "data": {
      "text/plain": [
       "8"
      ]
     },
     "execution_count": 194,
     "metadata": {},
     "output_type": "execute_result"
    }
   ],
   "source": [
    "M2.trace()"
   ]
  },
  {
   "cell_type": "code",
   "execution_count": 195,
   "id": "ced3ca49-6a2e-49d0-a8aa-8d47d3bfda52",
   "metadata": {},
   "outputs": [
    {
     "data": {
      "text/plain": [
       "(69, 69)"
      ]
     },
     "execution_count": 195,
     "metadata": {},
     "output_type": "execute_result"
    }
   ],
   "source": [
    "np.trace(A @ B), np.trace(B @ A)"
   ]
  },
  {
   "cell_type": "code",
   "execution_count": 197,
   "id": "70c73860-802b-4b72-b89a-5eb0d0138a69",
   "metadata": {},
   "outputs": [
    {
     "data": {
      "text/plain": [
       "(15, 15)"
      ]
     },
     "execution_count": 197,
     "metadata": {},
     "output_type": "execute_result"
    }
   ],
   "source": [
    "M1.trace(), M.T.trace()"
   ]
  },
  {
   "cell_type": "code",
   "execution_count": 198,
   "id": "80fefbbf-471f-445d-a3e6-a9a731075317",
   "metadata": {},
   "outputs": [
    {
     "data": {
      "text/plain": [
       "(45, 45)"
      ]
     },
     "execution_count": 198,
     "metadata": {},
     "output_type": "execute_result"
    }
   ],
   "source": [
    "np.trace(M1 * 3), 3*M1.trace()"
   ]
  },
  {
   "cell_type": "code",
   "execution_count": 199,
   "id": "6d2c9e6c-e5bd-4458-abc2-47cba0ee908e",
   "metadata": {},
   "outputs": [
    {
     "data": {
      "text/plain": [
       "(18, 18)"
      ]
     },
     "execution_count": 199,
     "metadata": {},
     "output_type": "execute_result"
    }
   ],
   "source": [
    "A.trace()+B.trace(), np.trace(A+B)"
   ]
  },
  {
   "cell_type": "code",
   "execution_count": 200,
   "id": "80cc5dcc-343e-4606-875a-11a16ed66f17",
   "metadata": {},
   "outputs": [
    {
     "data": {
      "text/plain": [
       "-36.0"
      ]
     },
     "execution_count": 200,
     "metadata": {},
     "output_type": "execute_result"
    }
   ],
   "source": [
    "np.linalg.det(M2)"
   ]
  },
  {
   "cell_type": "code",
   "execution_count": 202,
   "id": "766e56e2-6859-458c-a5e6-19a18a066af8",
   "metadata": {},
   "outputs": [
    {
     "data": {
      "text/plain": [
       "-2.0000000000000004"
      ]
     },
     "execution_count": 202,
     "metadata": {},
     "output_type": "execute_result"
    }
   ],
   "source": [
    "np.linalg.det(A)"
   ]
  },
  {
   "cell_type": "code",
   "execution_count": 203,
   "id": "d163bfa9-8bfb-43bb-b31a-e61066ff4ff0",
   "metadata": {},
   "outputs": [
    {
     "data": {
      "text/plain": [
       "array([[2, 8, 1],\n",
       "       [0, 2, 5],\n",
       "       [1, 9, 4]], dtype=int8)"
      ]
     },
     "execution_count": 203,
     "metadata": {},
     "output_type": "execute_result"
    }
   ],
   "source": [
    "M2"
   ]
  },
  {
   "cell_type": "code",
   "execution_count": 205,
   "id": "60ad546d-ebf1-480c-b896-2c6a27a98e34",
   "metadata": {},
   "outputs": [
    {
     "data": {
      "text/plain": [
       "array([[ 1.03,  0.64, -1.06],\n",
       "       [-0.14, -0.19,  0.28],\n",
       "       [ 0.06,  0.28, -0.11]])"
      ]
     },
     "execution_count": 205,
     "metadata": {},
     "output_type": "execute_result"
    }
   ],
   "source": [
    "%precision 2\n",
    "np.linalg.inv(M2)"
   ]
  },
  {
   "cell_type": "code",
   "execution_count": 207,
   "id": "7c12425c-f259-4131-a096-9ebe9a9d898d",
   "metadata": {},
   "outputs": [
    {
     "data": {
      "text/plain": [
       "array([[-2. ,  1. ],\n",
       "       [ 1.5, -0.5]])"
      ]
     },
     "execution_count": 207,
     "metadata": {},
     "output_type": "execute_result"
    }
   ],
   "source": [
    "np.linalg.inv(A)"
   ]
  },
  {
   "cell_type": "code",
   "execution_count": 208,
   "id": "caf21e94-5218-42d0-ba7b-dc374716d1a3",
   "metadata": {},
   "outputs": [
    {
     "data": {
      "text/plain": [
       "3"
      ]
     },
     "execution_count": 208,
     "metadata": {},
     "output_type": "execute_result"
    }
   ],
   "source": [
    "np.linalg.matrix_rank(M1)"
   ]
  },
  {
   "cell_type": "code",
   "execution_count": 215,
   "id": "2b9573a7-f044-45a2-8b04-7b400234bd27",
   "metadata": {},
   "outputs": [
    {
     "data": {
      "text/plain": [
       "(2,\n",
       " array([[ 1,  2,  3],\n",
       "        [ 4,  5, 12],\n",
       "        [ 2,  7,  6]]))"
      ]
     },
     "execution_count": 215,
     "metadata": {},
     "output_type": "execute_result"
    }
   ],
   "source": [
    "M3=np.array([[1,2,3],[4,5,12],[2,7,6]])\n",
    "np.linalg.matrix_rank(M3) , M3\n"
   ]
  },
  {
   "cell_type": "code",
   "execution_count": 216,
   "id": "12ef096e-6a9b-47ea-a286-81d12dbdd66b",
   "metadata": {},
   "outputs": [
    {
     "data": {
      "text/plain": [
       "array([ 3, 12,  6])"
      ]
     },
     "execution_count": 216,
     "metadata": {},
     "output_type": "execute_result"
    }
   ],
   "source": [
    "M3[:,0]*3"
   ]
  },
  {
   "cell_type": "code",
   "execution_count": 217,
   "id": "8e88bf0b-004a-48f4-8588-fc98a313eb47",
   "metadata": {},
   "outputs": [
    {
     "data": {
      "text/plain": [
       "2"
      ]
     },
     "execution_count": 217,
     "metadata": {},
     "output_type": "execute_result"
    }
   ],
   "source": [
    "np.linalg.matrix_rank(M3)"
   ]
  },
  {
   "cell_type": "code",
   "execution_count": 218,
   "id": "6f32d207-2052-4c05-9e5a-f5f398f797e7",
   "metadata": {},
   "outputs": [],
   "source": [
    "M4=np.array([[1,2,3],[4,8,12],[2,4,6]])"
   ]
  },
  {
   "cell_type": "code",
   "execution_count": 219,
   "id": "94db1200-095f-40a5-aad2-0642b60b463b",
   "metadata": {},
   "outputs": [
    {
     "data": {
      "text/plain": [
       "array([[ 1,  2,  3],\n",
       "       [ 4,  8, 12],\n",
       "       [ 2,  4,  6]])"
      ]
     },
     "execution_count": 219,
     "metadata": {},
     "output_type": "execute_result"
    }
   ],
   "source": [
    "M4"
   ]
  },
  {
   "cell_type": "code",
   "execution_count": 220,
   "id": "4c722eac-bf3a-4036-aead-19cafd2e22ad",
   "metadata": {},
   "outputs": [
    {
     "data": {
      "text/plain": [
       "1"
      ]
     },
     "execution_count": 220,
     "metadata": {},
     "output_type": "execute_result"
    }
   ],
   "source": [
    "np.linalg.matrix_rank(M4)"
   ]
  },
  {
   "cell_type": "code",
   "execution_count": 224,
   "id": "54e221f9-fde2-451c-a095-9a54ce6f296c",
   "metadata": {},
   "outputs": [],
   "source": [
    "R=np.array([[3,4,5,1,3,8]])"
   ]
  },
  {
   "cell_type": "code",
   "execution_count": 225,
   "id": "ed20c8df-9ae3-4e3b-9b81-42d69fdf7e32",
   "metadata": {},
   "outputs": [
    {
     "data": {
      "text/plain": [
       "(1, 6)"
      ]
     },
     "execution_count": 225,
     "metadata": {},
     "output_type": "execute_result"
    }
   ],
   "source": [
    "R.shape"
   ]
  },
  {
   "cell_type": "code",
   "execution_count": 226,
   "id": "d6e66884-ef3b-49e7-a102-330f03d245af",
   "metadata": {},
   "outputs": [
    {
     "data": {
      "text/plain": [
       "array([[3, 4, 5, 1, 3, 8]])"
      ]
     },
     "execution_count": 226,
     "metadata": {},
     "output_type": "execute_result"
    }
   ],
   "source": [
    "R"
   ]
  },
  {
   "cell_type": "code",
   "execution_count": 227,
   "id": "76cadbd6-b516-4759-a57b-92389d77921b",
   "metadata": {},
   "outputs": [
    {
     "data": {
      "text/plain": [
       "array([[3],\n",
       "       [4],\n",
       "       [5],\n",
       "       [1],\n",
       "       [3],\n",
       "       [8]])"
      ]
     },
     "execution_count": 227,
     "metadata": {},
     "output_type": "execute_result"
    }
   ],
   "source": [
    "C=np.array([[3,4,5,1,3,8]])\n",
    "C.reshape(-1,1)"
   ]
  },
  {
   "cell_type": "code",
   "execution_count": 229,
   "id": "7ebe99fe-f183-46b5-a7f7-e7250139c34e",
   "metadata": {},
   "outputs": [
    {
     "data": {
      "text/plain": [
       "(1, 6)"
      ]
     },
     "execution_count": 229,
     "metadata": {},
     "output_type": "execute_result"
    }
   ],
   "source": [
    "C.shape"
   ]
  },
  {
   "cell_type": "code",
   "execution_count": 231,
   "id": "e032dae0-8bf0-46cb-9b77-4b45d878f23a",
   "metadata": {},
   "outputs": [
    {
     "data": {
      "text/plain": [
       "array([[3],\n",
       "       [4],\n",
       "       [5],\n",
       "       [1],\n",
       "       [3],\n",
       "       [8]])"
      ]
     },
     "execution_count": 231,
     "metadata": {},
     "output_type": "execute_result"
    }
   ],
   "source": [
    "C.T"
   ]
  },
  {
   "cell_type": "code",
   "execution_count": 232,
   "id": "ab2f076d-ceda-4916-bc01-752b974dcdf9",
   "metadata": {},
   "outputs": [
    {
     "data": {
      "text/plain": [
       "array([[3],\n",
       "       [4],\n",
       "       [5],\n",
       "       [1],\n",
       "       [3],\n",
       "       [8]])"
      ]
     },
     "execution_count": 232,
     "metadata": {},
     "output_type": "execute_result"
    }
   ],
   "source": [
    "R.T"
   ]
  },
  {
   "cell_type": "code",
   "execution_count": 233,
   "id": "ff3da081-18cd-4372-a612-2958d4ec9dfd",
   "metadata": {},
   "outputs": [
    {
     "data": {
      "text/plain": [
       "array([[3, 4, 5, 1, 3, 8]])"
      ]
     },
     "execution_count": 233,
     "metadata": {},
     "output_type": "execute_result"
    }
   ],
   "source": [
    "C"
   ]
  },
  {
   "cell_type": "code",
   "execution_count": 234,
   "id": "db7ffee0-f7f9-4098-a81b-9e9296159dd2",
   "metadata": {},
   "outputs": [
    {
     "data": {
      "text/plain": [
       "array([[3],\n",
       "       [4],\n",
       "       [5],\n",
       "       [1],\n",
       "       [3],\n",
       "       [8]])"
      ]
     },
     "execution_count": 234,
     "metadata": {},
     "output_type": "execute_result"
    }
   ],
   "source": [
    "C.T"
   ]
  },
  {
   "cell_type": "code",
   "execution_count": 235,
   "id": "002ef6c3-29a0-46ad-959b-7a49e58d90b1",
   "metadata": {},
   "outputs": [
    {
     "data": {
      "text/plain": [
       "array([[3, 4, 5, 1, 3, 8]])"
      ]
     },
     "execution_count": 235,
     "metadata": {},
     "output_type": "execute_result"
    }
   ],
   "source": [
    "R"
   ]
  },
  {
   "cell_type": "code",
   "execution_count": 236,
   "id": "e978bce0-a44c-4e0f-be77-7223191c2cc8",
   "metadata": {},
   "outputs": [
    {
     "data": {
      "text/plain": [
       "array([[3],\n",
       "       [4],\n",
       "       [5],\n",
       "       [1],\n",
       "       [3],\n",
       "       [8]])"
      ]
     },
     "execution_count": 236,
     "metadata": {},
     "output_type": "execute_result"
    }
   ],
   "source": [
    "R.T"
   ]
  },
  {
   "cell_type": "code",
   "execution_count": 250,
   "id": "af0ea749-6ef7-4e7f-b9e0-0e22bfad9f2f",
   "metadata": {},
   "outputs": [
    {
     "data": {
      "text/plain": [
       "array([[3, 4, 5],\n",
       "       [1, 3, 8],\n",
       "       [9, 0, 2]])"
      ]
     },
     "execution_count": 250,
     "metadata": {},
     "output_type": "execute_result"
    }
   ],
   "source": [
    "S=np.array([[3,4,5],[1,3,8],[9,0,2]])\n",
    "S"
   ]
  },
  {
   "cell_type": "code",
   "execution_count": 251,
   "id": "f3eb346e-8adf-45b2-9559-b8b65afe3aa5",
   "metadata": {},
   "outputs": [
    {
     "name": "stdout",
     "output_type": "stream",
     "text": [
      "yeah\n"
     ]
    }
   ],
   "source": [
    "def isSquareMatrix(M):\n",
    "    if M.shape[0]==M.shape[1]:\n",
    "     print(\"yeah\")\n",
    "    else:\n",
    "        print (\"No\");\n",
    "        \n",
    "isSquareMatrix(S)\n",
    "        "
   ]
  },
  {
   "cell_type": "code",
   "execution_count": 253,
   "id": "12f23534-528c-4b29-a32e-d3ccef8ba082",
   "metadata": {},
   "outputs": [
    {
     "name": "stdout",
     "output_type": "stream",
     "text": [
      "No\n"
     ]
    }
   ],
   "source": [
    "def isRectangularMatrix(M):\n",
    "    if M.shape[0]!=M.shape[1]:\n",
    "     print(\"yeah\")\n",
    "    else:\n",
    "        print (\"No\");\n",
    "        \n",
    "isRectangularMatrix(S)\n",
    "        "
   ]
  },
  {
   "cell_type": "code",
   "execution_count": 254,
   "id": "53227f5a-7341-456c-8ea5-25cd7ce3c1ac",
   "metadata": {},
   "outputs": [
    {
     "data": {
      "text/plain": [
       "3"
      ]
     },
     "execution_count": 254,
     "metadata": {},
     "output_type": "execute_result"
    }
   ],
   "source": [
    "#Diagonal Matrix\n",
    "np.random.randint(1,10)"
   ]
  },
  {
   "cell_type": "code",
   "execution_count": 282,
   "id": "f915481b-86c9-4287-8a4b-de3d150df864",
   "metadata": {},
   "outputs": [
    {
     "name": "stdin",
     "output_type": "stream",
     "text": [
      "Enter the no of Rows :  5\n"
     ]
    },
    {
     "data": {
      "text/plain": [
       "array([[2, 0, 0, 0, 0],\n",
       "       [0, 4, 0, 0, 0],\n",
       "       [0, 0, 6, 0, 0],\n",
       "       [0, 0, 0, 6, 0],\n",
       "       [0, 0, 0, 0, 2]], dtype=int16)"
      ]
     },
     "execution_count": 282,
     "metadata": {},
     "output_type": "execute_result"
    }
   ],
   "source": [
    "#Create Diagonal Square Matrix with n rows/colums\n",
    "n=(int(input(\"Enter the no of Rows : \")))\n",
    "\n",
    "m0= np.zeros([n,n], dtype=np.int16)\n",
    "m0\n",
    "for i in range(n):\n",
    "   m0[i,i]=np.random.randint(1,10)\n",
    "m0\n",
    "\n",
    "   \n",
    "\n",
    "\n",
    "  "
   ]
  },
  {
   "cell_type": "code",
   "execution_count": 289,
   "id": "6a8cebbe-dfa8-4d56-909e-9e0ab461cd25",
   "metadata": {},
   "outputs": [
    {
     "data": {
      "text/plain": [
       "5"
      ]
     },
     "execution_count": 289,
     "metadata": {},
     "output_type": "execute_result"
    }
   ],
   "source": [
    "\n",
    "(m0 >0).flatten().sum()\n",
    "\n",
    "  "
   ]
  },
  {
   "cell_type": "code",
   "execution_count": 291,
   "id": "d708b4e6-adfb-4456-8ee7-48bed5da002b",
   "metadata": {},
   "outputs": [
    {
     "data": {
      "text/plain": [
       "True"
      ]
     },
     "execution_count": 291,
     "metadata": {},
     "output_type": "execute_result"
    }
   ],
   "source": [
    "def isDiagonalMatrix(M):\n",
    "    if (m0>0).flatten().sum()==m0.shape[0]:\n",
    "        return True\n",
    "    else:\n",
    "        return False"
   ]
  },
  {
   "cell_type": "code",
   "execution_count": 293,
   "id": "51f1fe46-23fc-4e08-be1a-9e0d7a4c0bcf",
   "metadata": {},
   "outputs": [],
   "source": [
    "# Identity Matrix"
   ]
  },
  {
   "cell_type": "code",
   "execution_count": 311,
   "id": "9259a132-0507-4f35-959f-d2b8c6eabb67",
   "metadata": {},
   "outputs": [
    {
     "name": "stdin",
     "output_type": "stream",
     "text": [
      "Enter the no of Rows :  5\n"
     ]
    },
    {
     "data": {
      "text/plain": [
       "array([[1, 0, 0, 0, 0],\n",
       "       [0, 1, 0, 0, 0],\n",
       "       [0, 0, 1, 0, 0],\n",
       "       [0, 0, 0, 1, 0],\n",
       "       [0, 0, 0, 0, 1]], dtype=int16)"
      ]
     },
     "execution_count": 311,
     "metadata": {},
     "output_type": "execute_result"
    }
   ],
   "source": [
    "var1=(int(input(\"Enter the no of Rows : \")))\n",
    "\n",
    "idn= np.zeros([n,n], dtype=np.int16)\n",
    "idn\n",
    "for i in range(n):\n",
    "   idn[i,i]=1\n",
    "idn"
   ]
  },
  {
   "cell_type": "code",
   "execution_count": 314,
   "id": "3ee15c19-e4cd-43b8-9eed-2e435aafdf27",
   "metadata": {},
   "outputs": [
    {
     "data": {
      "text/plain": [
       "True"
      ]
     },
     "execution_count": 314,
     "metadata": {},
     "output_type": "execute_result"
    }
   ],
   "source": [
    "def isIdentityMatrix(M):\n",
    "    if (idn>0).flatten().sum()==idn.shape[0]:\n",
    "    # if idn[i]==1:\n",
    "        return True\n",
    "    else:\n",
    "        return False\n",
    "isDiagonalMatrix(M)"
   ]
  },
  {
   "cell_type": "code",
   "execution_count": 319,
   "id": "e4642277-b279-4821-bf69-d9af623ab195",
   "metadata": {},
   "outputs": [
    {
     "data": {
      "text/plain": [
       "True"
      ]
     },
     "execution_count": 319,
     "metadata": {},
     "output_type": "execute_result"
    }
   ],
   "source": [
    "isIdentityMatrix(M2)"
   ]
  },
  {
   "cell_type": "code",
   "execution_count": 320,
   "id": "c0ffda73-d8a4-46fe-965c-282420560ead",
   "metadata": {},
   "outputs": [],
   "source": [
    "#Symmetric Matrix"
   ]
  },
  {
   "cell_type": "code",
   "execution_count": 361,
   "id": "ae2d40cc-2be4-4dac-9c88-8a25d18345b3",
   "metadata": {},
   "outputs": [
    {
     "data": {
      "text/plain": [
       "array([[-2, -3, -6],\n",
       "       [-3, -4, -5],\n",
       "       [-6, -5, -9]], dtype=int8)"
      ]
     },
     "execution_count": 361,
     "metadata": {},
     "output_type": "execute_result"
    }
   ],
   "source": [
    "S = np.array([[2,3,6],[3,4,5],[6,5,9]], dtype = np.int8)\n",
    "skew = -1 * S\n"
   ]
  },
  {
   "cell_type": "code",
   "execution_count": 323,
   "id": "48664e81-8688-44fb-a865-8d294b7a4663",
   "metadata": {},
   "outputs": [
    {
     "data": {
      "text/plain": [
       "array([[2, 3, 6],\n",
       "       [3, 4, 5],\n",
       "       [6, 5, 9]], dtype=int8)"
      ]
     },
     "execution_count": 323,
     "metadata": {},
     "output_type": "execute_result"
    }
   ],
   "source": [
    "S"
   ]
  },
  {
   "cell_type": "code",
   "execution_count": 332,
   "id": "ff66bd11-cdc1-4ebb-95b9-551df5b65396",
   "metadata": {},
   "outputs": [
    {
     "data": {
      "text/plain": [
       "array([[2, 3, 6],\n",
       "       [3, 4, 5],\n",
       "       [6, 5, 9]], dtype=int8)"
      ]
     },
     "execution_count": 332,
     "metadata": {},
     "output_type": "execute_result"
    }
   ],
   "source": [
    "S.T"
   ]
  },
  {
   "cell_type": "code",
   "execution_count": 334,
   "id": "9aecc27a-36a7-45e4-989c-77fdff4776b8",
   "metadata": {},
   "outputs": [
    {
     "name": "stdout",
     "output_type": "stream",
     "text": [
      "True\n"
     ]
    }
   ],
   "source": [
    "def isSymmetricMatrix(S):\n",
    "        if S.all()==S.T.all():\n",
    "            print(\"True\")\n",
    "        else:\n",
    "            print(\"False\")\n",
    "isSymmetricMatrix(M)"
   ]
  },
  {
   "cell_type": "code",
   "execution_count": 362,
   "id": "1648ad40-8132-4424-a0a8-2b706f75be34",
   "metadata": {},
   "outputs": [
    {
     "name": "stdout",
     "output_type": "stream",
     "text": [
      "True\n"
     ]
    }
   ],
   "source": [
    "# def isSkewSymmetricMatrix(S):\n",
    "\n",
    "\n",
    "#      if skew.all()==S.T.all():\n",
    "#           print(\"True\")\n",
    "#      else:\n",
    "#           print(\"False\")\n",
    "# isSkewSymmetricMatrix(S)"
   ]
  },
  {
   "cell_type": "code",
   "execution_count": 363,
   "id": "ef9ad733-a8ea-4684-841f-638160b44022",
   "metadata": {},
   "outputs": [
    {
     "data": {
      "text/plain": [
       "array([[ 0,  3],\n",
       "       [-3,  0]])"
      ]
     },
     "execution_count": 363,
     "metadata": {},
     "output_type": "execute_result"
    }
   ],
   "source": [
    "s1= np.array([[0,3],[-3,0]])\n",
    "s1"
   ]
  },
  {
   "cell_type": "code",
   "execution_count": 364,
   "id": "d09dce88-aeb5-4f73-ac07-d9badda462ff",
   "metadata": {},
   "outputs": [
    {
     "data": {
      "text/plain": [
       "array([[ 0,  3],\n",
       "       [-3,  0]])"
      ]
     },
     "execution_count": 364,
     "metadata": {},
     "output_type": "execute_result"
    }
   ],
   "source": [
    "-s1.T"
   ]
  },
  {
   "cell_type": "code",
   "execution_count": 368,
   "id": "cf8bd2f6-2bb8-4491-a2fc-32835b109729",
   "metadata": {},
   "outputs": [
    {
     "ename": "TypeError",
     "evalue": "'int' object is not callable",
     "output_type": "error",
     "traceback": [
      "\u001b[0;31m---------------------------------------------------------------------------\u001b[0m",
      "\u001b[0;31mTypeError\u001b[0m                                 Traceback (most recent call last)",
      "Cell \u001b[0;32mIn[368], line 6\u001b[0m\n\u001b[1;32m      4\u001b[0m     \u001b[38;5;28;01melse\u001b[39;00m:\n\u001b[1;32m      5\u001b[0m         \u001b[38;5;28;01mreturn\u001b[39;00m \u001b[38;5;28;01mFalse\u001b[39;00m\n\u001b[0;32m----> 6\u001b[0m \u001b[43misSkewSymmetricMatrix\u001b[49m\u001b[43m(\u001b[49m\u001b[43ms1\u001b[49m\u001b[43m)\u001b[49m\n",
      "Cell \u001b[0;32mIn[368], line 2\u001b[0m, in \u001b[0;36misSkewSymmetricMatrix\u001b[0;34m(S)\u001b[0m\n\u001b[1;32m      1\u001b[0m \u001b[38;5;28;01mdef\u001b[39;00m \u001b[38;5;21misSkewSymmetricMatrix\u001b[39m(S):\n\u001b[0;32m----> 2\u001b[0m     \u001b[38;5;28;01mif\u001b[39;00m(\u001b[38;5;241m-\u001b[39mS\u001b[38;5;241m==\u001b[39mS\u001b[38;5;241m.\u001b[39mT)\u001b[38;5;241m.\u001b[39mflatten()\u001b[38;5;241m.\u001b[39msum()\u001b[38;5;241m==\u001b[39m \u001b[43mS\u001b[49m\u001b[38;5;241;43m.\u001b[39;49m\u001b[43msize\u001b[49m\u001b[43m(\u001b[49m\u001b[43m)\u001b[49m:\n\u001b[1;32m      3\u001b[0m         \u001b[38;5;28;01mreturn\u001b[39;00m \u001b[38;5;28;01mTrue\u001b[39;00m\n\u001b[1;32m      4\u001b[0m     \u001b[38;5;28;01melse\u001b[39;00m:\n",
      "\u001b[0;31mTypeError\u001b[0m: 'int' object is not callable"
     ]
    }
   ],
   "source": [
    "def isSkewSymmetricMatrix(S):\n",
    "    if(-S==S.T).flatten().sum()== S.size():\n",
    "        return True\n",
    "    else:\n",
    "        return False\n",
    "isSkewSymmetricMatrix(s1)"
   ]
  },
  {
   "cell_type": "code",
   "execution_count": 369,
   "id": "48660536-16b4-44e4-ac46-1f1921e775d5",
   "metadata": {},
   "outputs": [
    {
     "name": "stdin",
     "output_type": "stream",
     "text": [
      "Enter the no of Rows :  5\n"
     ]
    },
    {
     "data": {
      "text/plain": [
       "array([[1, 0, 0, 0, 0],\n",
       "       [0, 1, 0, 0, 0],\n",
       "       [0, 0, 1, 0, 0],\n",
       "       [0, 0, 0, 1, 0],\n",
       "       [0, 0, 0, 0, 1]], dtype=int16)"
      ]
     },
     "execution_count": 369,
     "metadata": {},
     "output_type": "execute_result"
    }
   ],
   "source": []
  },
  {
   "cell_type": "code",
   "execution_count": 370,
   "id": "34b2a523-b546-45eb-af04-1f4ebe61a552",
   "metadata": {},
   "outputs": [
    {
     "data": {
      "text/plain": [
       "array([[1, 0, 0, 0, 0],\n",
       "       [0, 1, 0, 0, 0],\n",
       "       [0, 0, 1, 0, 0],\n",
       "       [0, 0, 0, 1, 0],\n",
       "       [0, 0, 0, 0, 1]], dtype=int16)"
      ]
     },
     "execution_count": 370,
     "metadata": {},
     "output_type": "execute_result"
    }
   ],
   "source": [
    "idn.T"
   ]
  },
  {
   "cell_type": "code",
   "execution_count": 372,
   "id": "d7b008aa-1420-426e-bd4c-51c71b73fc70",
   "metadata": {},
   "outputs": [
    {
     "data": {
      "text/plain": [
       "array([[1., 0., 0., 0., 0.],\n",
       "       [0., 1., 0., 0., 0.],\n",
       "       [0., 0., 1., 0., 0.],\n",
       "       [0., 0., 0., 1., 0.],\n",
       "       [0., 0., 0., 0., 1.]])"
      ]
     },
     "execution_count": 372,
     "metadata": {},
     "output_type": "execute_result"
    }
   ],
   "source": [
    "np.linalg.inv(idn)"
   ]
  },
  {
   "cell_type": "code",
   "execution_count": 375,
   "id": "5215c8ee-fa38-4a43-b424-e2f199deab97",
   "metadata": {},
   "outputs": [],
   "source": [
    "Rm=np.array([[np.cos(50),-np.sin(50)],[np.sin(50),np.cos(50)]])"
   ]
  },
  {
   "cell_type": "code",
   "execution_count": 376,
   "id": "c70352ac-2dcd-4b5b-ab58-c8adcec10b4c",
   "metadata": {},
   "outputs": [
    {
     "data": {
      "text/plain": [
       "array([[ 0.96,  0.26],\n",
       "       [-0.26,  0.96]])"
      ]
     },
     "execution_count": 376,
     "metadata": {},
     "output_type": "execute_result"
    }
   ],
   "source": [
    "Rm"
   ]
  },
  {
   "cell_type": "code",
   "execution_count": 377,
   "id": "c7ba0e5c-c0a4-4955-8e85-98b9378c2d4c",
   "metadata": {},
   "outputs": [
    {
     "data": {
      "text/plain": [
       "array([[ 0.96, -0.26],\n",
       "       [ 0.26,  0.96]])"
      ]
     },
     "execution_count": 377,
     "metadata": {},
     "output_type": "execute_result"
    }
   ],
   "source": [
    "Rm.T"
   ]
  },
  {
   "cell_type": "code",
   "execution_count": 378,
   "id": "3de4bfba-be02-4ab0-969e-44b3c04529ca",
   "metadata": {},
   "outputs": [
    {
     "data": {
      "text/plain": [
       "array([[ 0.96, -0.26],\n",
       "       [ 0.26,  0.96]])"
      ]
     },
     "execution_count": 378,
     "metadata": {},
     "output_type": "execute_result"
    }
   ],
   "source": [
    "np.linalg.inv(Rm)"
   ]
  },
  {
   "cell_type": "code",
   "execution_count": 379,
   "id": "c1974f66-804d-4500-96bb-8d3def3ec63f",
   "metadata": {},
   "outputs": [],
   "source": [
    "P = np.array([[0,1,0],[1,0,0],[0,0,1]])"
   ]
  },
  {
   "cell_type": "code",
   "execution_count": 380,
   "id": "91fcc55a-186f-4887-ae71-21086aece4e3",
   "metadata": {},
   "outputs": [
    {
     "data": {
      "text/plain": [
       "array([[0, 1, 0],\n",
       "       [1, 0, 0],\n",
       "       [0, 0, 1]])"
      ]
     },
     "execution_count": 380,
     "metadata": {},
     "output_type": "execute_result"
    }
   ],
   "source": [
    "P"
   ]
  },
  {
   "cell_type": "code",
   "execution_count": 381,
   "id": "a54a9159-da1a-4566-9900-f19eff1ea5e7",
   "metadata": {},
   "outputs": [
    {
     "data": {
      "text/plain": [
       "array([[0, 1, 0],\n",
       "       [1, 0, 0],\n",
       "       [0, 0, 1]])"
      ]
     },
     "execution_count": 381,
     "metadata": {},
     "output_type": "execute_result"
    }
   ],
   "source": [
    "P.T"
   ]
  },
  {
   "cell_type": "code",
   "execution_count": 382,
   "id": "24c82de4-e49f-4759-b70b-bc04ac54c5eb",
   "metadata": {},
   "outputs": [
    {
     "data": {
      "text/plain": [
       "array([[0., 1., 0.],\n",
       "       [1., 0., 0.],\n",
       "       [0., 0., 1.]])"
      ]
     },
     "execution_count": 382,
     "metadata": {},
     "output_type": "execute_result"
    }
   ],
   "source": [
    "np.linalg.inv(P)"
   ]
  },
  {
   "cell_type": "code",
   "execution_count": 383,
   "id": "9647cd00-4b8b-493a-be22-38bf052dbfdb",
   "metadata": {},
   "outputs": [
    {
     "data": {
      "text/plain": [
       "array([[5, 4, 1, 3],\n",
       "       [8, 9, 0, 3],\n",
       "       [2, 1, 4, 9],\n",
       "       [7, 3, 1, 4]])"
      ]
     },
     "execution_count": 383,
     "metadata": {},
     "output_type": "execute_result"
    }
   ],
   "source": [
    "M5=np.array([[5,4,1,3],[8,9,0,3],[2,1,4,9],[7,3,1,4]])\n",
    "M5"
   ]
  },
  {
   "cell_type": "code",
   "execution_count": 391,
   "id": "ad15c1e3-127a-4bbf-a635-3185de875dee",
   "metadata": {},
   "outputs": [],
   "source": [
    "#Eigenvalues & Eigenvectors\n",
    "A = np.array([[1,2],[3,4]], dtype=np.int8)"
   ]
  },
  {
   "cell_type": "code",
   "execution_count": 392,
   "id": "1a4273ae-3f24-4afe-9a9d-cf95179cd2d7",
   "metadata": {},
   "outputs": [
    {
     "data": {
      "text/plain": [
       "array([[1, 2],\n",
       "       [3, 4]], dtype=int8)"
      ]
     },
     "execution_count": 392,
     "metadata": {},
     "output_type": "execute_result"
    }
   ],
   "source": [
    "A"
   ]
  },
  {
   "cell_type": "code",
   "execution_count": 393,
   "id": "64a795c9-9411-4c62-bd0e-d8c2d99d6df1",
   "metadata": {},
   "outputs": [],
   "source": [
    "value, vector = np.linalg.eig(A)"
   ]
  },
  {
   "cell_type": "code",
   "execution_count": 394,
   "id": "d7738175-6c6c-45b5-a6be-39c25a472908",
   "metadata": {},
   "outputs": [
    {
     "data": {
      "text/plain": [
       "array([-0.37,  5.37])"
      ]
     },
     "execution_count": 394,
     "metadata": {},
     "output_type": "execute_result"
    }
   ],
   "source": [
    "value"
   ]
  },
  {
   "cell_type": "code",
   "execution_count": 395,
   "id": "4fac8d2f-ec25-45d4-bfa3-ccb57fb7aaea",
   "metadata": {},
   "outputs": [
    {
     "data": {
      "text/plain": [
       "array([[-0.82, -0.42],\n",
       "       [ 0.57, -0.91]])"
      ]
     },
     "execution_count": 395,
     "metadata": {},
     "output_type": "execute_result"
    }
   ],
   "source": [
    "vector"
   ]
  },
  {
   "cell_type": "code",
   "execution_count": 396,
   "id": "82a5913a-ea2b-4816-a88f-29c7f1ae5bc2",
   "metadata": {},
   "outputs": [
    {
     "data": {
      "text/plain": [
       "array([[ 0.31, -2.23],\n",
       "       [-0.21, -4.89]])"
      ]
     },
     "execution_count": 396,
     "metadata": {},
     "output_type": "execute_result"
    }
   ],
   "source": [
    "A @ vector"
   ]
  },
  {
   "cell_type": "code",
   "execution_count": 397,
   "id": "e4870b52-e777-4f20-a74d-e3a1c94da00d",
   "metadata": {},
   "outputs": [
    {
     "data": {
      "text/plain": [
       "array([[ 0.31, -2.23],\n",
       "       [-0.21, -4.89]])"
      ]
     },
     "execution_count": 397,
     "metadata": {},
     "output_type": "execute_result"
    }
   ],
   "source": [
    "value * vector"
   ]
  },
  {
   "cell_type": "code",
   "execution_count": 418,
   "id": "e2c4c1ca-5020-43da-b2c5-e2aab3fea990",
   "metadata": {},
   "outputs": [
    {
     "data": {
      "text/plain": [
       "array([[1, 2, 3, 4],\n",
       "       [3, 4, 5, 6],\n",
       "       [1, 7, 3, 9],\n",
       "       [8, 7, 3, 5]], dtype=int8)"
      ]
     },
     "execution_count": 418,
     "metadata": {},
     "output_type": "execute_result"
    }
   ],
   "source": [
    "A = np.array([[1,2,3,4],[3,4,5,6],[1,7,3,9],[8,7,3,5]],dtype=np.int8)\n",
    "A"
   ]
  },
  {
   "cell_type": "code",
   "execution_count": 419,
   "id": "23145d10-23fc-4836-ab74-1bc1370ccfb6",
   "metadata": {},
   "outputs": [],
   "source": [
    "value, vectors = np.linalg.eig(A)"
   ]
  },
  {
   "cell_type": "code",
   "execution_count": 420,
   "id": "bb49587a-348d-4cb0-a19f-e923165f73b9",
   "metadata": {},
   "outputs": [
    {
     "data": {
      "text/plain": [
       "array([18.33+0.j ,  0.25+0.j , -2.79+2.3j, -2.79-2.3j])"
      ]
     },
     "execution_count": 420,
     "metadata": {},
     "output_type": "execute_result"
    }
   ],
   "source": [
    "value"
   ]
  },
  {
   "cell_type": "code",
   "execution_count": 421,
   "id": "66d4ae51-7389-43fa-91a5-2fac4f96eb79",
   "metadata": {},
   "outputs": [
    {
     "data": {
      "text/plain": [
       "array([[ 0.29+0.j  ,  0.36+0.j  , -0.06+0.27j, -0.06-0.27j],\n",
       "       [ 0.5 +0.j  , -0.6 +0.j  ,  0.1 +0.31j,  0.1 -0.31j],\n",
       "       [ 0.58+0.j  , -0.44+0.j  , -0.69+0.j  , -0.69-0.j  ],\n",
       "       [ 0.57+0.j  ,  0.56+0.j  ,  0.37-0.45j,  0.37+0.45j]])"
      ]
     },
     "execution_count": 421,
     "metadata": {},
     "output_type": "execute_result"
    }
   ],
   "source": [
    "vectors"
   ]
  },
  {
   "cell_type": "code",
   "execution_count": 422,
   "id": "d0d699c2-444d-4d8d-8fbf-c3308340217d",
   "metadata": {},
   "outputs": [
    {
     "data": {
      "text/plain": [
       "array([[ 5.32e+00+0.j  ,  8.96e-02+0.j  , -4.44e-01-0.9j ,\n",
       "        -4.44e-01+0.9j ],\n",
       "       [ 9.21e+00+0.j  , -1.51e-01+0.j  , -1.00e+00-0.63j,\n",
       "        -1.00e+00+0.63j],\n",
       "       [ 1.07e+01+0.j  , -1.10e-01+0.j  ,  1.92e+00-1.59j,\n",
       "         1.92e+00+1.59j],\n",
       "       [ 1.04e+01+0.j  ,  1.41e-01+0.j  , -3.45e-03+2.1j ,\n",
       "        -3.45e-03-2.1j ]])"
      ]
     },
     "execution_count": 422,
     "metadata": {},
     "output_type": "execute_result"
    }
   ],
   "source": [
    "A @ vectors\n",
    "\n"
   ]
  },
  {
   "cell_type": "code",
   "execution_count": 423,
   "id": "df81d127-4ab6-48e0-838e-cde7d51d906e",
   "metadata": {},
   "outputs": [
    {
     "data": {
      "text/plain": [
       "array([ 2.23+0.03j,  6.05-2.3j , -1.28+3.85j,  0.78-8.73j])"
      ]
     },
     "execution_count": 423,
     "metadata": {},
     "output_type": "execute_result"
    }
   ],
   "source": [
    "value @ vectors"
   ]
  },
  {
   "cell_type": "code",
   "execution_count": 425,
   "id": "8b30f1af-5865-4c1d-a4e3-e13be321d587",
   "metadata": {},
   "outputs": [
    {
     "data": {
      "text/plain": [
       "dtype('float64')"
      ]
     },
     "execution_count": 425,
     "metadata": {},
     "output_type": "execute_result"
    }
   ],
   "source": [
    "vector.dtype"
   ]
  },
  {
   "cell_type": "code",
   "execution_count": null,
   "id": "6624213c-50d3-4505-9b71-815d77b58a0c",
   "metadata": {},
   "outputs": [],
   "source": []
  },
  {
   "cell_type": "code",
   "execution_count": null,
   "id": "843243e2-a03a-4f09-8ae1-eaab2711fe90",
   "metadata": {},
   "outputs": [],
   "source": []
  }
 ],
 "metadata": {
  "kernelspec": {
   "display_name": "Python 3 (ipykernel)",
   "language": "python",
   "name": "python3"
  },
  "language_info": {
   "codemirror_mode": {
    "name": "ipython",
    "version": 3
   },
   "file_extension": ".py",
   "mimetype": "text/x-python",
   "name": "python",
   "nbconvert_exporter": "python",
   "pygments_lexer": "ipython3",
   "version": "3.8.10"
  }
 },
 "nbformat": 4,
 "nbformat_minor": 5
}
