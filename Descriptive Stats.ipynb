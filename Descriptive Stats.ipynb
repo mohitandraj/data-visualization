{
 "cells": [
  {
   "cell_type": "code",
   "execution_count": 2,
   "id": "938bc6b6-b7cb-4c22-9e64-a9e61207bb32",
   "metadata": {},
   "outputs": [],
   "source": [
    "import pandas as pd\n",
    "import numpy as np\n",
    "import matplotlib.pyplot as plt"
   ]
  },
  {
   "cell_type": "markdown",
   "id": "9ae63a57-e7c7-4a93-a492-86d676881214",
   "metadata": {},
   "source": [
    "### Measure of Central Tendency"
   ]
  },
  {
   "cell_type": "markdown",
   "id": "8dfd525c-2aac-4977-9c36-b514169e4f27",
   "metadata": {},
   "source": [
    "##### Mean"
   ]
  },
  {
   "cell_type": "code",
   "execution_count": 3,
   "id": "8de6506e-b768-4d4f-9622-3bb94940aaff",
   "metadata": {},
   "outputs": [],
   "source": [
    "runs = np.array([67,34,12,62,98,123,54,22,16,54,11,6,103])"
   ]
  },
  {
   "cell_type": "code",
   "execution_count": 4,
   "id": "99647bf4-cd4b-4436-b1f7-7f73151096e1",
   "metadata": {},
   "outputs": [
    {
     "data": {
      "text/plain": [
       "50.92307692307692"
      ]
     },
     "execution_count": 4,
     "metadata": {},
     "output_type": "execute_result"
    }
   ],
   "source": [
    "runs.mean()"
   ]
  },
  {
   "cell_type": "code",
   "execution_count": 5,
   "id": "b2beceb7-2961-4a23-a2dc-abd92635737b",
   "metadata": {},
   "outputs": [
    {
     "data": {
      "text/plain": [
       "50.92307692307692"
      ]
     },
     "execution_count": 5,
     "metadata": {},
     "output_type": "execute_result"
    }
   ],
   "source": [
    "np.mean(runs)"
   ]
  },
  {
   "cell_type": "markdown",
   "id": "cecc413f-3645-4a2b-af9b-024c7a1fabb3",
   "metadata": {},
   "source": [
    "#### Meadian"
   ]
  },
  {
   "cell_type": "code",
   "execution_count": 6,
   "id": "b09acf67-04d5-4f32-a6ce-2f2938e91867",
   "metadata": {},
   "outputs": [],
   "source": [
    "iq = np.array([103,105,100,84,95,115,88,98,101,99,110])"
   ]
  },
  {
   "cell_type": "code",
   "execution_count": 9,
   "id": "674ad8b5-97f2-4cc3-b8f1-2846766593cc",
   "metadata": {},
   "outputs": [
    {
     "data": {
      "text/plain": [
       "100.0"
      ]
     },
     "execution_count": 9,
     "metadata": {},
     "output_type": "execute_result"
    }
   ],
   "source": [
    "np.median(iq)"
   ]
  },
  {
   "cell_type": "code",
   "execution_count": 13,
   "id": "ba904819-4557-4869-b80e-14410d1f03a1",
   "metadata": {},
   "outputs": [
    {
     "data": {
      "text/plain": [
       "array([ 84,  88,  95,  98,  99, 100, 101, 103, 105, 110, 115])"
      ]
     },
     "execution_count": 13,
     "metadata": {},
     "output_type": "execute_result"
    }
   ],
   "source": [
    "np.sort(iq)"
   ]
  },
  {
   "cell_type": "markdown",
   "id": "c167ac83-fbca-4b0f-9ee8-5fd76609bbf4",
   "metadata": {},
   "source": [
    "#### Mode (Ka Function Nahi Hai)"
   ]
  },
  {
   "cell_type": "code",
   "execution_count": 14,
   "id": "30b3a289-08d0-467c-9f2a-6783ca79534f",
   "metadata": {},
   "outputs": [],
   "source": [
    "from scipy.stats import mode"
   ]
  },
  {
   "cell_type": "code",
   "execution_count": 15,
   "id": "719ace6e-8677-44c3-8aa2-cfa9dbf00ead",
   "metadata": {},
   "outputs": [],
   "source": [
    "cars = ['R','W','W','Bk','W','R','G','W','W','Bl','Bk','W','R','W','Bk','G','Bl','W','R','R','Bl','W','W','Bk']"
   ]
  },
  {
   "cell_type": "code",
   "execution_count": 16,
   "id": "c785c038-4ae0-4ecf-82c4-9da2aeea464d",
   "metadata": {},
   "outputs": [],
   "source": [
    "cars=pd.Series(cars)"
   ]
  },
  {
   "cell_type": "code",
   "execution_count": 17,
   "id": "69da6fd8-b2a1-44fe-8aa1-c997ebc78368",
   "metadata": {},
   "outputs": [
    {
     "data": {
      "text/plain": [
       "0    W\n",
       "dtype: object"
      ]
     },
     "execution_count": 17,
     "metadata": {},
     "output_type": "execute_result"
    }
   ],
   "source": [
    "cars.mode()"
   ]
  },
  {
   "cell_type": "code",
   "execution_count": 18,
   "id": "a6138d27-145e-45e8-ab34-b14df4dd6431",
   "metadata": {},
   "outputs": [],
   "source": [
    "runs = np.array([67,34,12,62,98,123,54,22,16,54,11,6,103,225])"
   ]
  },
  {
   "cell_type": "code",
   "execution_count": 19,
   "id": "1d0db94f-5291-4751-bc2f-e6ba02e80002",
   "metadata": {},
   "outputs": [
    {
     "data": {
      "text/plain": [
       "63.357142857142854"
      ]
     },
     "execution_count": 19,
     "metadata": {},
     "output_type": "execute_result"
    }
   ],
   "source": [
    "runs.mean()"
   ]
  },
  {
   "cell_type": "code",
   "execution_count": 20,
   "id": "e27a048b-2d8b-441e-a0c9-510a0a076f82",
   "metadata": {},
   "outputs": [
    {
     "data": {
      "text/plain": [
       "54.0"
      ]
     },
     "execution_count": 20,
     "metadata": {},
     "output_type": "execute_result"
    }
   ],
   "source": [
    "np.median(runs)"
   ]
  },
  {
   "cell_type": "code",
   "execution_count": 21,
   "id": "0300134b-f007-46f0-84bf-1006adc7393f",
   "metadata": {},
   "outputs": [],
   "source": [
    "runs=pd.Series(runs)"
   ]
  },
  {
   "cell_type": "code",
   "execution_count": 22,
   "id": "b9ab19ec-e428-4d8c-93e0-f94ffacbedd1",
   "metadata": {},
   "outputs": [
    {
     "data": {
      "text/plain": [
       "0    54\n",
       "dtype: int64"
      ]
     },
     "execution_count": 22,
     "metadata": {},
     "output_type": "execute_result"
    }
   ],
   "source": [
    "runs.mode()"
   ]
  },
  {
   "cell_type": "markdown",
   "id": "58b89762-56e6-471c-beb4-175c01e8e841",
   "metadata": {},
   "source": [
    "#### Measure of Dispersion"
   ]
  },
  {
   "cell_type": "markdown",
   "id": "fc9bc7c6-242e-4bbc-a4d4-30fb670bd3bc",
   "metadata": {},
   "source": [
    "#### Mean Absolute Deviation"
   ]
  },
  {
   "cell_type": "code",
   "execution_count": 23,
   "id": "4f50d303-299f-45ba-96d0-22f181c05b5e",
   "metadata": {},
   "outputs": [],
   "source": [
    "num = np.array([67,44,23,64,17,42,59,81,52])"
   ]
  },
  {
   "cell_type": "code",
   "execution_count": 24,
   "id": "8f620ed7-35cd-49e3-a906-ae79285e6a5d",
   "metadata": {},
   "outputs": [
    {
     "data": {
      "text/plain": [
       "array([67, 44, 23, 64, 17, 42, 59, 81, 52])"
      ]
     },
     "execution_count": 24,
     "metadata": {},
     "output_type": "execute_result"
    }
   ],
   "source": [
    "num"
   ]
  },
  {
   "cell_type": "code",
   "execution_count": 32,
   "id": "24656b94-6b7e-41f6-9204-34492e9c6f7c",
   "metadata": {},
   "outputs": [],
   "source": [
    "mad = 1/len(num)"
   ]
  },
  {
   "cell_type": "code",
   "execution_count": 33,
   "id": "ed405aa8-8bdb-4b9d-a61f-cebc1686fa71",
   "metadata": {},
   "outputs": [
    {
     "data": {
      "text/plain": [
       "0.1111111111111111"
      ]
     },
     "execution_count": 33,
     "metadata": {},
     "output_type": "execute_result"
    }
   ],
   "source": [
    "mad"
   ]
  },
  {
   "cell_type": "code",
   "execution_count": 34,
   "id": "571765c5-3f6f-43f6-87ac-c1b2c1f1a527",
   "metadata": {},
   "outputs": [],
   "source": [
    "uplimit=num.max()"
   ]
  },
  {
   "cell_type": "code",
   "execution_count": 35,
   "id": "78d68303-b78e-4a1f-a73c-2df7766fb100",
   "metadata": {},
   "outputs": [
    {
     "data": {
      "text/plain": [
       "81"
      ]
     },
     "execution_count": 35,
     "metadata": {},
     "output_type": "execute_result"
    }
   ],
   "source": [
    "uplimit"
   ]
  },
  {
   "cell_type": "code",
   "execution_count": 36,
   "id": "c949aab7-ae5b-467a-82f9-4b44901b04e0",
   "metadata": {},
   "outputs": [],
   "source": [
    "ll=num.min()"
   ]
  },
  {
   "cell_type": "code",
   "execution_count": 37,
   "id": "d0a6dab0-c83f-4bb3-9fff-d495cf319636",
   "metadata": {},
   "outputs": [
    {
     "data": {
      "text/plain": [
       "17"
      ]
     },
     "execution_count": 37,
     "metadata": {},
     "output_type": "execute_result"
    }
   ],
   "source": [
    "ll"
   ]
  },
  {
   "cell_type": "code",
   "execution_count": 38,
   "id": "b65e314e-80b9-40b5-a1ef-3ce2f4139681",
   "metadata": {},
   "outputs": [
    {
     "data": {
      "text/plain": [
       "89.5"
      ]
     },
     "execution_count": 38,
     "metadata": {},
     "output_type": "execute_result"
    }
   ],
   "source": [
    "uplimit+ll/2"
   ]
  },
  {
   "cell_type": "code",
   "execution_count": 39,
   "id": "eedb02d3-879b-4a20-858e-61fea4bdbf8a",
   "metadata": {},
   "outputs": [
    {
     "data": {
      "text/plain": [
       "16.34567901234568"
      ]
     },
     "execution_count": 39,
     "metadata": {},
     "output_type": "execute_result"
    }
   ],
   "source": [
    "np.mean(abs(num-num.mean()))"
   ]
  },
  {
   "cell_type": "code",
   "execution_count": 41,
   "id": "afca978d-81ef-4b7e-b5a6-fd835de290b4",
   "metadata": {},
   "outputs": [
    {
     "data": {
      "text/plain": [
       "160591.52751105008"
      ]
     },
     "execution_count": 41,
     "metadata": {},
     "output_type": "execute_result"
    }
   ],
   "source": [
    "np.var((num-num.mean())**2)"
   ]
  },
  {
   "cell_type": "code",
   "execution_count": 42,
   "id": "59624103-8fd2-41cf-981b-8e8f03bcfe6e",
   "metadata": {},
   "outputs": [
    {
     "data": {
      "text/plain": [
       "383.2098765432099"
      ]
     },
     "execution_count": 42,
     "metadata": {},
     "output_type": "execute_result"
    }
   ],
   "source": [
    "np.mean((num-num.mean())**2)"
   ]
  },
  {
   "cell_type": "markdown",
   "id": "bbf47b39-2dde-40d0-8f7b-c3b6437cee46",
   "metadata": {},
   "source": [
    "#### Standard Deviation"
   ]
  },
  {
   "cell_type": "code",
   "execution_count": 46,
   "id": "96dd1793-8410-4cc9-9c47-087d76c829bc",
   "metadata": {},
   "outputs": [
    {
     "data": {
      "text/plain": [
       "19.57574715159577"
      ]
     },
     "execution_count": 46,
     "metadata": {},
     "output_type": "execute_result"
    }
   ],
   "source": [
    "np.sqrt(np.mean((num-num.mean())**2))"
   ]
  },
  {
   "cell_type": "code",
   "execution_count": 47,
   "id": "b115cd1f-10eb-4b39-9441-82d4cd320c88",
   "metadata": {},
   "outputs": [
    {
     "data": {
      "text/plain": [
       "19.57574715159577"
      ]
     },
     "execution_count": 47,
     "metadata": {},
     "output_type": "execute_result"
    }
   ],
   "source": [
    "num.std()"
   ]
  },
  {
   "cell_type": "markdown",
   "id": "238967a8-14fc-41d9-a6d0-23c7c46ffe5a",
   "metadata": {},
   "source": [
    "#### Range"
   ]
  },
  {
   "cell_type": "code",
   "execution_count": 48,
   "id": "7b4447e3-a2a9-4455-8e76-d24f551fe27e",
   "metadata": {},
   "outputs": [
    {
     "data": {
      "text/plain": [
       "64"
      ]
     },
     "execution_count": 48,
     "metadata": {},
     "output_type": "execute_result"
    }
   ],
   "source": [
    "num.max()-num.min()"
   ]
  },
  {
   "cell_type": "code",
   "execution_count": 49,
   "id": "9bfc38a3-ac6b-4e54-b21e-a5d3d1e27f70",
   "metadata": {},
   "outputs": [],
   "source": [
    "###Symmetrical data"
   ]
  },
  {
   "cell_type": "code",
   "execution_count": 50,
   "id": "802de821-9aef-406b-99cc-c141fc43cd5e",
   "metadata": {},
   "outputs": [],
   "source": [
    "iq = np.array([85,90,90,95,95,95,100,100,100,100,105,105,105,110,110,115])"
   ]
  },
  {
   "cell_type": "code",
   "execution_count": 51,
   "id": "de8f8dd5-b695-4ab4-8656-1f27d62f3aba",
   "metadata": {},
   "outputs": [],
   "source": [
    "import seaborn as sns"
   ]
  },
  {
   "cell_type": "code",
   "execution_count": 52,
   "id": "d3335111-9976-4876-a43b-5414f5d2b1f8",
   "metadata": {},
   "outputs": [
    {
     "data": {
      "image/png": "[encoded data removed]",
      "text/plain": [
       "<Figure size 640x480 with 1 Axes>"
      ]
     },
     "metadata": {},
     "output_type": "display_data"
    }
   ],
   "source": [
    "sns.kdeplot(iq);"
   ]
  },
  {
   "cell_type": "code",
   "execution_count": 53,
   "id": "28f8a45b-0cea-4219-b643-def85f1d88bb",
   "metadata": {},
   "outputs": [
    {
     "data": {
      "text/plain": [
       "100.0"
      ]
     },
     "execution_count": 53,
     "metadata": {},
     "output_type": "execute_result"
    }
   ],
   "source": [
    "iq.mean()"
   ]
  },
  {
   "cell_type": "code",
   "execution_count": 55,
   "id": "a5a8aeb6-4a26-4541-ac72-6cc9985de999",
   "metadata": {},
   "outputs": [
    {
     "data": {
      "text/plain": [
       "100.0"
      ]
     },
     "execution_count": 55,
     "metadata": {},
     "output_type": "execute_result"
    }
   ],
   "source": [
    "np.median(iq)"
   ]
  },
  {
   "cell_type": "code",
   "execution_count": 57,
   "id": "7af86ed5-30fd-4b78-aaee-63a57e9c3f94",
   "metadata": {},
   "outputs": [
    {
     "name": "stderr",
     "output_type": "stream",
     "text": [
      "/tmp/ipykernel_144343/3212758239.py:1: FutureWarning: Unlike other reduction functions (e.g. `skew`, `kurtosis`), the default behavior of `mode` typically preserves the axis it acts along. In SciPy 1.11.0, this behavior will change: the default value of `keepdims` will become False, the `axis` over which the statistic is taken will be eliminated, and the value None will no longer be accepted. Set `keepdims` to True or False to avoid this warning.\n",
      "  mode(iq).mode\n"
     ]
    },
    {
     "data": {
      "text/plain": [
       "array([100])"
      ]
     },
     "execution_count": 57,
     "metadata": {},
     "output_type": "execute_result"
    }
   ],
   "source": [
    "mode(iq).mode"
   ]
  },
  {
   "cell_type": "markdown",
   "id": "db1f27d3-7a14-4304-908c-4ef6189d6351",
   "metadata": {},
   "source": [
    "#### Skewness"
   ]
  },
  {
   "cell_type": "code",
   "execution_count": 58,
   "id": "a4399f97-71d0-4182-bf43-d96ef39fe58b",
   "metadata": {},
   "outputs": [],
   "source": [
    "from scipy.stats import skew"
   ]
  },
  {
   "cell_type": "code",
   "execution_count": 59,
   "id": "f188839b-e9e1-4b38-9ec0-7903f83d599b",
   "metadata": {},
   "outputs": [
    {
     "data": {
      "text/plain": [
       "0.0"
      ]
     },
     "execution_count": 59,
     "metadata": {},
     "output_type": "execute_result"
    }
   ],
   "source": [
    "skew(iq)"
   ]
  },
  {
   "cell_type": "code",
   "execution_count": 61,
   "id": "f097539c-1aa1-4bcd-ac67-d10251c31be1",
   "metadata": {},
   "outputs": [],
   "source": [
    "iq1 = np.array([95,95,95,95,95,95,100,100,100,100,105,105,105,110,110,115])"
   ]
  },
  {
   "cell_type": "code",
   "execution_count": 62,
   "id": "76ada7bc-9010-427f-84d9-930a6e7860b5",
   "metadata": {},
   "outputs": [
    {
     "data": {
      "image/png": "[encoded data removed]",
      "text/plain": [
       "<Figure size 640x480 with 1 Axes>"
      ]
     },
     "metadata": {},
     "output_type": "display_data"
    }
   ],
   "source": [
    "sns.kdeplot(iq1);"
   ]
  },
  {
   "cell_type": "code",
   "execution_count": 74,
   "id": "5e29b2a4-c120-48f9-bd45-fce5ea907abb",
   "metadata": {},
   "outputs": [
    {
     "name": "stderr",
     "output_type": "stream",
     "text": [
      "/tmp/ipykernel_144343/575797913.py:1: FutureWarning: Unlike other reduction functions (e.g. `skew`, `kurtosis`), the default behavior of `mode` typically preserves the axis it acts along. In SciPy 1.11.0, this behavior will change: the default value of `keepdims` will become False, the `axis` over which the statistic is taken will be eliminated, and the value None will no longer be accepted. Set `keepdims` to True or False to avoid this warning.\n",
      "  mode(iq1).mode[0], np.median(iq1),iq1.mean()\n"
     ]
    },
    {
     "data": {
      "text/plain": [
       "(95, 100.0, 101.25)"
      ]
     },
     "execution_count": 74,
     "metadata": {},
     "output_type": "execute_result"
    }
   ],
   "source": [
    "mode(iq1).mode[0], np.median(iq1),iq1.mean()"
   ]
  },
  {
   "cell_type": "code",
   "execution_count": 75,
   "id": "2b7732ad-aa84-4604-921d-03acc0b3ff99",
   "metadata": {},
   "outputs": [],
   "source": [
    "iq2 = np.array([85,90,90,95,95,95,100,100,100,100,105,105,105,105,105,105])"
   ]
  },
  {
   "cell_type": "code",
   "execution_count": 67,
   "id": "620b728e-2729-4aaa-9e87-f3db98c87c45",
   "metadata": {},
   "outputs": [
    {
     "data": {
      "text/plain": [
       "<Axes: ylabel='Density'>"
      ]
     },
     "execution_count": 67,
     "metadata": {},
     "output_type": "execute_result"
    },
    {
     "data": {
      "image/png": "[encoded data removed]",
      "text/plain": [
       "<Figure size 640x480 with 1 Axes>"
      ]
     },
     "metadata": {},
     "output_type": "display_data"
    }
   ],
   "source": [
    "sns.kdeplot(iq2)"
   ]
  },
  {
   "cell_type": "code",
   "execution_count": 68,
   "id": "fd91dbdd-bc19-452b-b4f8-ab3e772cd109",
   "metadata": {},
   "outputs": [
    {
     "data": {
      "text/plain": [
       "-0.672"
      ]
     },
     "execution_count": 68,
     "metadata": {},
     "output_type": "execute_result"
    }
   ],
   "source": [
    "skew(iq2)"
   ]
  },
  {
   "cell_type": "code",
   "execution_count": 73,
   "id": "167ab291-4d7b-46da-bb5f-8efb2bb9e789",
   "metadata": {},
   "outputs": [
    {
     "name": "stderr",
     "output_type": "stream",
     "text": [
      "/tmp/ipykernel_144343/3906868272.py:1: FutureWarning: Unlike other reduction functions (e.g. `skew`, `kurtosis`), the default behavior of `mode` typically preserves the axis it acts along. In SciPy 1.11.0, this behavior will change: the default value of `keepdims` will become False, the `axis` over which the statistic is taken will be eliminated, and the value None will no longer be accepted. Set `keepdims` to True or False to avoid this warning.\n",
      "  mode(iq2).mode[0], np.median(iq2),iq2.mean()\n"
     ]
    },
    {
     "data": {
      "text/plain": [
       "(105, 100.0, 98.75)"
      ]
     },
     "execution_count": 73,
     "metadata": {},
     "output_type": "execute_result"
    }
   ],
   "source": [
    "mode(iq2).mode[0], np.median(iq2),iq2.mean()"
   ]
  },
  {
   "cell_type": "code",
   "execution_count": 72,
   "id": "2f621b64-7772-432d-ae03-aa0001be9070",
   "metadata": {},
   "outputs": [
    {
     "name": "stderr",
     "output_type": "stream",
     "text": [
      "/tmp/ipykernel_144343/3233074868.py:1: FutureWarning: Unlike other reduction functions (e.g. `skew`, `kurtosis`), the default behavior of `mode` typically preserves the axis it acts along. In SciPy 1.11.0, this behavior will change: the default value of `keepdims` will become False, the `axis` over which the statistic is taken will be eliminated, and the value None will no longer be accepted. Set `keepdims` to True or False to avoid this warning.\n",
      "  mode(iq1)\n"
     ]
    },
    {
     "data": {
      "text/plain": [
       "ModeResult(mode=array([95]), count=array([6]))"
      ]
     },
     "execution_count": 72,
     "metadata": {},
     "output_type": "execute_result"
    }
   ],
   "source": [
    "mode(iq1)"
   ]
  },
  {
   "cell_type": "markdown",
   "id": "d22ff37b-6208-46e9-a806-57fbb8b7fcf1",
   "metadata": {},
   "source": [
    "#### Kurtosis\n"
   ]
  },
  {
   "cell_type": "code",
   "execution_count": 76,
   "id": "1ee9be40-8cdb-4be9-9070-351a420cf0ac",
   "metadata": {},
   "outputs": [],
   "source": [
    "iq = np.array([85,90,90,95,95,95,100,100,100,100,105,105,105,110,110,115])"
   ]
  },
  {
   "cell_type": "code",
   "execution_count": 78,
   "id": "e4342ddd-3fbe-4603-acea-5e3f92748870",
   "metadata": {},
   "outputs": [],
   "source": [
    "from scipy.stats import kurtosis"
   ]
  },
  {
   "cell_type": "code",
   "execution_count": 79,
   "id": "fb13a46c-5a83-4c60-8347-1ec816a51733",
   "metadata": {},
   "outputs": [
    {
     "data": {
      "text/plain": [
       "-0.6800000000000002"
      ]
     },
     "execution_count": 79,
     "metadata": {},
     "output_type": "execute_result"
    }
   ],
   "source": [
    "kurtosis(iq)"
   ]
  },
  {
   "cell_type": "code",
   "execution_count": 80,
   "id": "f111839c-dd31-4a84-9667-17ba2263eb3b",
   "metadata": {},
   "outputs": [],
   "source": [
    "iq3 = np.array([85,90,90,100,100,100,100,100,100,100,100,100,100,110,110,115])"
   ]
  },
  {
   "cell_type": "code",
   "execution_count": 81,
   "id": "d85a7f6f-706d-46ed-b170-a87fbeb3fc9c",
   "metadata": {},
   "outputs": [
    {
     "data": {
      "text/plain": [
       "0.12802768166089962"
      ]
     },
     "execution_count": 81,
     "metadata": {},
     "output_type": "execute_result"
    }
   ],
   "source": [
    "kurtosis(iq3)"
   ]
  },
  {
   "cell_type": "code",
   "execution_count": 82,
   "id": "a6e01215-b680-43a1-b6d8-ad8398a6c43a",
   "metadata": {},
   "outputs": [],
   "source": [
    "iq4 = np.array([85,90,90,95,95,95,98,99,101,102,105,105,105,110,110,115])"
   ]
  },
  {
   "cell_type": "code",
   "execution_count": 83,
   "id": "5106048a-a772-402f-8036-ee838be298c1",
   "metadata": {},
   "outputs": [
    {
     "data": {
      "text/plain": [
       "-0.7251798843250663"
      ]
     },
     "execution_count": 83,
     "metadata": {},
     "output_type": "execute_result"
    }
   ],
   "source": [
    "kurtosis(iq4)"
   ]
  },
  {
   "cell_type": "code",
   "execution_count": 85,
   "id": "63027c39-0a13-4fe8-bf5c-b9f59dbcf777",
   "metadata": {},
   "outputs": [
    {
     "data": {
      "text/plain": [
       "<Axes: ylabel='Density'>"
      ]
     },
     "execution_count": 85,
     "metadata": {},
     "output_type": "execute_result"
    },
    {
     "data": {
      "image/png": "[encoded data removed]",
      "text/plain": [
       "<Figure size 640x480 with 1 Axes>"
      ]
     },
     "metadata": {},
     "output_type": "display_data"
    }
   ],
   "source": [
    "sns.kdeplot(iq3)\n",
    "sns.kdeplot(iq)\n",
    "sns.kdeplot(iq4)"
   ]
  },
  {
   "cell_type": "code",
   "execution_count": 86,
   "id": "ad9efebe-8f0f-45ff-9a0b-4bdc960b2313",
   "metadata": {},
   "outputs": [
    {
     "data": {
      "text/plain": [
       "<Axes: ylabel='Density'>"
      ]
     },
     "execution_count": 86,
     "metadata": {},
     "output_type": "execute_result"
    },
    {
     "data": {
      "image/png": "[encoded data removed]",
      "text/plain": [
       "<Figure size 640x480 with 1 Axes>"
      ]
     },
     "metadata": {},
     "output_type": "display_data"
    }
   ],
   "source": [
    "sns.kdeplot(iq3)\n",
    "sns.kdeplot(iq)\n",
    "sns.kdeplot(iq4)"
   ]
  },
  {
   "cell_type": "code",
   "execution_count": null,
   "id": "dfa03e44-1ced-49dc-8bbf-e6f0218b9e1f",
   "metadata": {},
   "outputs": [],
   "source": []
  }
 ],
 "metadata": {
  "kernelspec": {
   "display_name": "Python 3 (ipykernel)",
   "language": "python",
   "name": "python3"
  },
  "language_info": {
   "codemirror_mode": {
    "name": "ipython",
    "version": 3
   },
   "file_extension": ".py",
   "mimetype": "text/x-python",
   "name": "python",
   "nbconvert_exporter": "python",
   "pygments_lexer": "ipython3",
   "version": "3.8.10"
  }
 },
 "nbformat": 4,
 "nbformat_minor": 5
}
