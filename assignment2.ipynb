{
 "cells": [
  {
   "cell_type": "code",
   "execution_count": 4,
   "id": "38a9cf5b-c08d-4f33-b3cd-0543b752a308",
   "metadata": {},
   "outputs": [
    {
     "name": "stdout",
     "output_type": "stream",
     "text": [
      "Original  matrix\n",
      "[[1 3]\n",
      " [3 6]]\n",
      "Determinant of the matrix:\n",
      "-3.0000000000000004\n"
     ]
    }
   ],
   "source": [
    "\n",
    "import numpy as np \n",
    "from numpy import linalg \n",
    "  \n",
    "\n",
    "matrix = np.array([[1, 3], [3, 6]]) \n",
    "print(\"Original  matrix\") \n",
    "print(matrix) \n",
    "  \n",
    "\n",
    "print(\"Determinant of the matrix:\") \n",
    "print(np.linalg.det(matrix))"
   ]
  },
  {
   "cell_type": "code",
   "execution_count": 5,
   "id": "b055ccd6-9838-491d-b08f-6f9be2129019",
   "metadata": {},
   "outputs": [
    {
     "name": "stdout",
     "output_type": "stream",
     "text": [
      "[[ 0.02898551  0.14009662 -0.07729469]\n",
      " [-0.2173913   0.11594203  0.24637681]\n",
      " [ 0.11594203 -0.10628019  0.02415459]]\n"
     ]
    }
   ],
   "source": [
    "\n",
    "\n",
    "A = np.array([[6, 1, 9],\n",
    "              [7, 2, 2],\n",
    "              [2, 4, 7]])\n",
    " \n",
    "\n",
    "print(np.linalg.inv(A))"
   ]
  },
  {
   "cell_type": "code",
   "execution_count": 7,
   "id": "b143557c-d9ff-4d64-96a2-e6c9cda193e3",
   "metadata": {},
   "outputs": [
    {
     "name": "stdout",
     "output_type": "stream",
     "text": [
      "Printing the Original square array:\n",
      " [[1 2]\n",
      " [2 3]]\n",
      " Eigen values of the given square array:\n",
      " [-0.23606798  4.23606798]\n",
      " eigenvectors of the given square array:\n",
      " [[-0.85065081 -0.52573111]\n",
      " [ 0.52573111 -0.85065081]]\n"
     ]
    }
   ],
   "source": [
    "\n",
    "m = np.array([[1, 2], \n",
    "              [2, 3]]) \n",
    "  \n",
    "print(\"Printing the Original square array:\\n\", \n",
    "      m) \n",
    "  \n",
    "w, v = np.linalg.eig(m) \n",
    "\n",
    "print(\" Eigen values of the given square array:\\n\", \n",
    "      w) \n",
    "  \n",
    "\n",
    "print(\" eigenvectors of the given square array:\\n\",\n",
    "      v)"
   ]
  },
  {
   "cell_type": "code",
   "execution_count": 17,
   "id": "c50f6541-a22c-4cff-bd50-76424ae85dab",
   "metadata": {},
   "outputs": [
    {
     "name": "stdout",
     "output_type": "stream",
     "text": [
      "[[ 91  84  80]\n",
      " [ 60  64 136]\n",
      " [ 32 672  81]]\n"
     ]
    }
   ],
   "source": [
    "\n",
    "a = ([7, 6, 5],[4,4, 8],[2, 12, 3])\n",
    "b = ([13, 14, 16],[15, 16, 17],[16,56, 27])\n",
    "\n",
    "\n",
    "mult = np.multiply(a,b)\n",
    "\n",
    "\n",
    "print(mult)"
   ]
  },
  {
   "cell_type": "code",
   "execution_count": 11,
   "id": "7e6ded5f-f2aa-4683-8b72-bcf380379d59",
   "metadata": {},
   "outputs": [
    {
     "name": "stdout",
     "output_type": "stream",
     "text": [
      "[[20 20 21]\n",
      " [19 20 25]\n",
      " [18 68 30]]\n"
     ]
    }
   ],
   "source": [
    "a = ([7, 6, 5],[4,4, 8],[2, 12, 3])\n",
    "b = ([13, 14, 16],[15, 16, 17],[16,56, 27])\n",
    "\n",
    "\n",
    "ADD = np.add(a,b)\n",
    "\n",
    "\n",
    "print(ADD)"
   ]
  },
  {
   "cell_type": "code",
   "execution_count": 13,
   "id": "584fc597-c767-4bef-851d-c1e23df818a7",
   "metadata": {},
   "outputs": [
    {
     "name": "stdout",
     "output_type": "stream",
     "text": [
      "[[ -6  -8 -11]\n",
      " [-11 -12  -9]\n",
      " [-14 -44 -24]]\n"
     ]
    }
   ],
   "source": [
    "a = ([7, 6, 5],[4,4, 8],[2, 12, 3])\n",
    "b = ([13, 14, 16],[15, 16, 17],[16,56, 27])\n",
    "\n",
    "\n",
    "sub = np.subtract(a,b)\n",
    "\n",
    "\n",
    "print(sub)"
   ]
  },
  {
   "cell_type": "code",
   "execution_count": 18,
   "id": "0a73155b-1aca-45c5-9620-7541d992d43f",
   "metadata": {},
   "outputs": [
    {
     "name": "stdout",
     "output_type": "stream",
     "text": [
      "[[ -6  -8 -11]\n",
      " [-11 -12  -9]\n",
      " [-14 -44 -24]]\n"
     ]
    }
   ],
   "source": [
    "a = ([7, 6, 5],[4,4, 8],[2, 12, 3])\n",
    "b = ([13, 14, 16],[15, 16, 17],[16,56, 27])\n",
    "\n",
    "\n",
    "sub = np.subtract(a,b)\n",
    "\n",
    "\n",
    "print(sub)"
   ]
  },
  {
   "cell_type": "code",
   "execution_count": 25,
   "id": "fac3ec52-a96c-45bd-a5f5-063d2eb2189c",
   "metadata": {},
   "outputs": [
    {
     "name": "stdout",
     "output_type": "stream",
     "text": [
      "[[ 7  4  2]\n",
      " [ 6  4 12]\n",
      " [ 5  8  3]]\n",
      "[[13 15 16]\n",
      " [14 16 56]\n",
      " [16 17 27]]\n"
     ]
    }
   ],
   "source": [
    "a = ([7, 6, 5],[4,4, 8],[2, 12, 3])\n",
    "b = ([13, 14, 16],[15, 16, 17],[16,56, 27])\n",
    "\n",
    "\n",
    "T = np.transpose(a)\n",
    "T2 = np.transpose(b)\n",
    "\n",
    "\n",
    "print(T)\n",
    "print(T2)"
   ]
  },
  {
   "cell_type": "code",
   "execution_count": 26,
   "id": "e18cfb2b-4a4a-4e51-87d9-f0dd91e74fe3",
   "metadata": {},
   "outputs": [
    {
     "name": "stdout",
     "output_type": "stream",
     "text": [
      "[[261 474 349]\n",
      " [240 568 348]\n",
      " [254 388 317]]\n"
     ]
    }
   ],
   "source": [
    "a = ([7, 6, 5],[4,4, 8],[2, 12, 3])\n",
    "b = ([13, 14, 16],[15, 16, 17],[16,56, 27])\n",
    "\n",
    "\n",
    "d = np.dot(a,b)\n",
    "\n",
    "\n",
    "print(d)\n"
   ]
  },
  {
   "cell_type": "code",
   "execution_count": null,
   "id": "f3f46aac-d387-49a8-8494-ae2ebed4ad31",
   "metadata": {},
   "outputs": [],
   "source": []
  }
 ],
 "metadata": {
  "kernelspec": {
   "display_name": "Python 3 (ipykernel)",
   "language": "python",
   "name": "python3"
  },
  "language_info": {
   "codemirror_mode": {
    "name": "ipython",
    "version": 3
   },
   "file_extension": ".py",
   "mimetype": "text/x-python",
   "name": "python",
   "nbconvert_exporter": "python",
   "pygments_lexer": "ipython3",
   "version": "3.8.10"
  }
 },
 "nbformat": 4,
 "nbformat_minor": 5
}
