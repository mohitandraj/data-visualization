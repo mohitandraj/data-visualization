{
 "cells": [
  {
   "cell_type": "code",
   "execution_count": 1,
   "id": "019a19c2-6f0b-458a-afac-8bcb91ca10be",
   "metadata": {},
   "outputs": [],
   "source": [
    "import numpy as np\n",
    "import pandas as pd\n",
    "import matplotlib.pyplot as plt"
   ]
  },
  {
   "cell_type": "markdown",
   "id": "312a082a-3e95-4cc1-9e51-53ddf0d395ae",
   "metadata": {},
   "source": [
    "#### Box Plot"
   ]
  },
  {
   "cell_type": "code",
   "execution_count": 2,
   "id": "7c7cbcf0-1b04-45dc-a723-17ce112552dc",
   "metadata": {},
   "outputs": [],
   "source": [
    "marks = np.array([56,78,45,56,62,68,67,71,95,69,62,58,40,51,47,66,92])"
   ]
  },
  {
   "cell_type": "code",
   "execution_count": 4,
   "id": "41c61d3a-d92f-4a23-ab6f-a11574d7fc31",
   "metadata": {},
   "outputs": [
    {
     "data": {
      "image/png": "[encoded data removed]",
      "text/plain": [
       "<Figure size 640x480 with 1 Axes>"
      ]
     },
     "metadata": {},
     "output_type": "display_data"
    }
   ],
   "source": [
    "plt.boxplot(marks);"
   ]
  },
  {
   "cell_type": "code",
   "execution_count": 5,
   "id": "efbdecd0-b8b3-48a2-974a-1aa817412d33",
   "metadata": {},
   "outputs": [
    {
     "data": {
      "image/png": "[encoded data removed]",
      "text/plain": [
       "<Figure size 640x480 with 1 Axes>"
      ]
     },
     "metadata": {},
     "output_type": "display_data"
    }
   ],
   "source": [
    "plt.hist(marks);"
   ]
  },
  {
   "cell_type": "markdown",
   "id": "f5d45091-ac6a-4464-942a-9d9e5c5d1aa7",
   "metadata": {},
   "source": [
    "#### Z-scores"
   ]
  },
  {
   "cell_type": "code",
   "execution_count": 7,
   "id": "ebffb864-2b76-4c7c-bb21-3f548768bce1",
   "metadata": {},
   "outputs": [],
   "source": [
    "def zscore(n):\n",
    "    z = (n - n.mean()) / n.std()\n",
    "    return z"
   ]
  },
  {
   "cell_type": "code",
   "execution_count": 8,
   "id": "c77d4c52-a2d8-45bb-8ad0-8866a2a23390",
   "metadata": {},
   "outputs": [
    {
     "data": {
      "text/plain": [
       "array([-0.52883665,  0.98097179, -1.28374087, -0.52883665, -0.11707071,\n",
       "        0.29469523,  0.22606757,  0.5005782 ,  2.14764195,  0.36332289,\n",
       "       -0.11707071, -0.39158133, -1.62687915, -0.87197493, -1.14648555,\n",
       "        0.15743992,  1.94175898])"
      ]
     },
     "execution_count": 8,
     "metadata": {},
     "output_type": "execute_result"
    }
   ],
   "source": [
    "zscore(marks)"
   ]
  },
  {
   "cell_type": "code",
   "execution_count": 9,
   "id": "c955f8f7-eabb-428d-946a-02f8bab95ea1",
   "metadata": {},
   "outputs": [],
   "source": [
    "salary = np.zeros(100, dtype=np.int16)"
   ]
  },
  {
   "cell_type": "code",
   "execution_count": 12,
   "id": "7b0da340-ec16-439f-9ffe-4e4c64da7475",
   "metadata": {},
   "outputs": [],
   "source": [
    "salary = np.array([np.random.randint(10000,25000) for x in range(100)])"
   ]
  },
  {
   "cell_type": "code",
   "execution_count": 13,
   "id": "6c502152-cfc6-4c95-9604-c777d703f525",
   "metadata": {},
   "outputs": [
    {
     "data": {
      "text/plain": [
       "array([23546, 12630, 24864, 20110, 19867, 21176, 24657, 13058, 22400,\n",
       "       20072, 10772, 16363, 14322, 18565, 11967, 10068, 21851, 24903,\n",
       "       19600, 13627, 14777, 14945, 18225, 17254, 12896, 22878, 21287,\n",
       "       13519, 16413, 22222, 13636, 23923, 23746, 20017, 17161, 12898,\n",
       "       14666, 24266, 23308, 18383, 11403, 11697, 14843, 22702, 10554,\n",
       "       22045, 13640, 15967, 16623, 13828, 16003, 18229, 14736, 24082,\n",
       "       15396, 14388, 22181, 16515, 15412, 17038, 22008, 15252, 14978,\n",
       "       19655, 19531, 17687, 16536, 18575, 22781, 24767, 19423, 16267,\n",
       "       18664, 12957, 12015, 12536, 15879, 11029, 18752, 13422, 10073,\n",
       "       22122, 23234, 19470, 21085, 15020, 24454, 10948, 17318, 23420,\n",
       "       14617, 19094, 21887, 13509, 21809, 12257, 24719, 11887, 24035,\n",
       "       24447])"
      ]
     },
     "execution_count": 13,
     "metadata": {},
     "output_type": "execute_result"
    }
   ],
   "source": [
    "salary"
   ]
  },
  {
   "cell_type": "code",
   "execution_count": 14,
   "id": "96b7b145-2665-41c2-a968-29d6f6cb8506",
   "metadata": {},
   "outputs": [
    {
     "data": {
      "text/plain": [
       "17762.39"
      ]
     },
     "execution_count": 14,
     "metadata": {},
     "output_type": "execute_result"
    }
   ],
   "source": [
    "salary.mean()"
   ]
  },
  {
   "cell_type": "code",
   "execution_count": 15,
   "id": "8a6b0246-328a-4b29-8136-75c199eeb3f9",
   "metadata": {},
   "outputs": [
    {
     "data": {
      "text/plain": [
       "10068"
      ]
     },
     "execution_count": 15,
     "metadata": {},
     "output_type": "execute_result"
    }
   ],
   "source": [
    "salary.min()"
   ]
  },
  {
   "cell_type": "code",
   "execution_count": 16,
   "id": "c1784426-8381-41f0-abdd-abf310fde24e",
   "metadata": {},
   "outputs": [
    {
     "data": {
      "text/plain": [
       "24903"
      ]
     },
     "execution_count": 16,
     "metadata": {},
     "output_type": "execute_result"
    }
   ],
   "source": [
    "salary.max()"
   ]
  },
  {
   "cell_type": "code",
   "execution_count": 22,
   "id": "5c6a0c07-734f-440d-bb09-2b719ce23f8e",
   "metadata": {},
   "outputs": [
    {
     "data": {
      "text/plain": [
       "array([23546, 50000, 24864, 20110, 19867, 21176, 24657, 13058, 22400,\n",
       "       20072, 10772, 16363, 14322, 18565, 11967, 10068, 21851, 24903,\n",
       "       19600, 13627, 14777, 14945, 18225, 17254, 12896, 22878, 21287,\n",
       "       13519, 16413, 22222, 13636, 23923, 23746, 20017, 17161, 12898,\n",
       "       14666, 24266, 23308, 18383, 11403, 11697, 14843, 22702, 10554,\n",
       "       22045, 13640, 15967, 16623, 13828, 16003, 18229, 14736, 24082,\n",
       "       15396, 14388, 22181, 16515, 15412, 17038, 22008, 15252, 14978,\n",
       "       19655, 19531, 17687, 16536, 18575, 22781, 24767, 19423, 16267,\n",
       "       18664, 12957, 12015, 12536, 15879, 11029, 18752, 13422, 50000,\n",
       "       22122, 23234, 19470, 21085, 15020, 24454, 10948, 17318, 23420,\n",
       "       14617, 19094, 21887, 13509, 21809, 12257, 24719, 11887, 24035,\n",
       "       24447])"
      ]
     },
     "execution_count": 22,
     "metadata": {},
     "output_type": "execute_result"
    }
   ],
   "source": [
    "salary[80]= 50000\n",
    "salary"
   ]
  },
  {
   "cell_type": "code",
   "execution_count": 23,
   "id": "9bc05079-2591-4fcf-8f0b-32261710d400",
   "metadata": {},
   "outputs": [
    {
     "data": {
      "text/plain": [
       "array([ 8.09786766e-01,  5.08510870e+00,  1.02279328e+00,  2.54482987e-01,\n",
       "        2.15210921e-01,  4.26762914e-01,  9.89339298e-01, -8.85214991e-01,\n",
       "        6.24577764e-01,  2.48341676e-01, -1.25466331e+00, -3.51082572e-01,\n",
       "       -6.80935603e-01,  4.79022236e-03, -1.06153525e+00, -1.36843918e+00,\n",
       "        5.35851986e-01,  1.02909620e+00,  1.72060133e-01, -7.93256943e-01,\n",
       "       -6.07401488e-01, -5.80250430e-01, -5.01583472e-02, -2.07084997e-01,\n",
       "       -9.11396368e-01,  7.01828988e-01,  4.44702006e-01, -8.10711195e-01,\n",
       "       -3.43001900e-01,  5.95810572e-01, -7.91802423e-01,  8.70715033e-01,\n",
       "        8.42109454e-01,  2.39452937e-01, -2.22115047e-01, -9.11073141e-01,\n",
       "       -6.25340580e-01,  9.26148443e-01,  7.71322767e-01, -2.46234237e-02,\n",
       "       -1.15268523e+00, -1.10517088e+00, -5.96735001e-01,  6.73385023e-01,\n",
       "       -1.28989504e+00,  5.67204993e-01, -7.91155969e-01, -4.15081494e-01,\n",
       "       -3.09063078e-01, -7.60772642e-01, -4.09263410e-01, -4.95118934e-02,\n",
       "       -6.14027639e-01,  8.96411570e-01, -5.07362768e-01, -6.70269116e-01,\n",
       "        5.89184421e-01, -3.26517329e-01, -5.04776953e-01, -2.41993500e-01,\n",
       "        5.61225296e-01, -5.30635104e-01, -5.74917186e-01,  1.80948872e-01,\n",
       "        1.60908805e-01, -1.37106378e-01, -3.23123447e-01,  6.40635675e-03,\n",
       "        6.86152485e-01,  1.00711678e+00,  1.43454554e-01, -3.66597462e-01,\n",
       "        2.07899529e-02, -9.01537948e-01, -1.05377781e+00, -9.69577206e-01,\n",
       "       -4.29303477e-01, -1.21312866e+00,  3.50119356e-02, -8.26387699e-01,\n",
       "        5.08510870e+00,  5.79649228e-01,  7.59363373e-01,  1.51050385e-01,\n",
       "        4.12056091e-01, -5.68129422e-01,  9.56531769e-01, -1.22621935e+00,\n",
       "       -1.96741737e-01,  7.89423473e-01, -6.33259638e-01,  9.02837320e-02,\n",
       "        5.41670069e-01, -8.12327329e-01,  5.29064221e-01, -1.01466736e+00,\n",
       "        9.99359331e-01, -1.07446433e+00,  8.88815738e-01,  9.55400475e-01])"
      ]
     },
     "execution_count": 23,
     "metadata": {},
     "output_type": "execute_result"
    }
   ],
   "source": [
    "zscore(salary)"
   ]
  },
  {
   "cell_type": "code",
   "execution_count": 25,
   "id": "c5efb307-8cc0-4962-9bed-f44bbb5e0bea",
   "metadata": {},
   "outputs": [
    {
     "data": {
      "text/plain": [
       "array([False,  True, False, False, False, False, False, False, False,\n",
       "       False, False, False, False, False, False, False, False, False,\n",
       "       False, False, False, False, False, False, False, False, False,\n",
       "       False, False, False, False, False, False, False, False, False,\n",
       "       False, False, False, False, False, False, False, False, False,\n",
       "       False, False, False, False, False, False, False, False, False,\n",
       "       False, False, False, False, False, False, False, False, False,\n",
       "       False, False, False, False, False, False, False, False, False,\n",
       "       False, False, False, False, False, False, False, False,  True,\n",
       "       False, False, False, False, False, False, False, False, False,\n",
       "       False, False, False, False, False, False, False, False, False,\n",
       "       False])"
      ]
     },
     "execution_count": 25,
     "metadata": {},
     "output_type": "execute_result"
    }
   ],
   "source": [
    " zscore(salary)>3\n"
   ]
  },
  {
   "cell_type": "code",
   "execution_count": 28,
   "id": "bab9ea7c-43ca-437c-a7c7-5dc0c48dadf0",
   "metadata": {},
   "outputs": [
    {
     "data": {
      "text/plain": [
       "array([50000, 50000])"
      ]
     },
     "execution_count": 28,
     "metadata": {},
     "output_type": "execute_result"
    }
   ],
   "source": [
    "salary[ zscore(salary)>3]"
   ]
  },
  {
   "cell_type": "markdown",
   "id": "59a80a2f-bae7-4533-b11f-233c57bf607b",
   "metadata": {},
   "source": [
    "#### Tukey's Fences"
   ]
  },
  {
   "cell_type": "code",
   "execution_count": 29,
   "id": "46a0aa2e-ac9f-46df-85a9-2a134345aafa",
   "metadata": {},
   "outputs": [
    {
     "data": {
      "text/plain": [
       "56.0"
      ]
     },
     "execution_count": 29,
     "metadata": {},
     "output_type": "execute_result"
    }
   ],
   "source": [
    "np.percentile(marks, 25)"
   ]
  },
  {
   "cell_type": "code",
   "execution_count": 30,
   "id": "f9ca27c0-e6f5-4aad-b75c-1c26ab0eafe2",
   "metadata": {},
   "outputs": [
    {
     "data": {
      "text/plain": [
       "69.0"
      ]
     },
     "execution_count": 30,
     "metadata": {},
     "output_type": "execute_result"
    }
   ],
   "source": [
    "np.percentile(marks, 75)"
   ]
  },
  {
   "cell_type": "code",
   "execution_count": 32,
   "id": "4f25de31-19ef-4c5d-ab72-bedbfb761cae",
   "metadata": {},
   "outputs": [
    {
     "data": {
      "text/plain": [
       "62.0"
      ]
     },
     "execution_count": 32,
     "metadata": {},
     "output_type": "execute_result"
    }
   ],
   "source": [
    "np.percentile(marks, 50)"
   ]
  },
  {
   "cell_type": "code",
   "execution_count": 33,
   "id": "64cdf6b1-bdc3-48d4-9b03-bb0273dde037",
   "metadata": {},
   "outputs": [
    {
     "data": {
      "text/plain": [
       "13.0"
      ]
     },
     "execution_count": 33,
     "metadata": {},
     "output_type": "execute_result"
    }
   ],
   "source": [
    "Q1=np.percentile(marks, 25)\n",
    "Q3=np.percentile(marks, 75)\n",
    "IQR = Q3 - Q1\n",
    "IQR"
   ]
  },
  {
   "cell_type": "code",
   "execution_count": 34,
   "id": "7a42b1ba-6470-42d9-81ab-f24f7ab1523c",
   "metadata": {},
   "outputs": [],
   "source": [
    "upper_fence = Q3 + 1.5 * IQR\n",
    "lower_fence = Q3 - 1.5 * IQR"
   ]
  },
  {
   "cell_type": "code",
   "execution_count": 36,
   "id": "48cd9d6e-37d7-4bce-b911-a4844616c0c2",
   "metadata": {},
   "outputs": [
    {
     "data": {
      "text/plain": [
       "array([ True,  True,  True,  True,  True,  True,  True,  True, False,\n",
       "        True,  True,  True,  True,  True,  True,  True, False])"
      ]
     },
     "execution_count": 36,
     "metadata": {},
     "output_type": "execute_result"
    }
   ],
   "source": [
    "marks < upper_fence"
   ]
  },
  {
   "cell_type": "code",
   "execution_count": 37,
   "id": "2cac0981-a16b-45fc-876a-79e9966b7160",
   "metadata": {},
   "outputs": [
    {
     "data": {
      "text/plain": [
       "array([95, 92])"
      ]
     },
     "execution_count": 37,
     "metadata": {},
     "output_type": "execute_result"
    }
   ],
   "source": [
    "marks[marks> upper_fence]"
   ]
  },
  {
   "cell_type": "code",
   "execution_count": 38,
   "id": "459683f6-e6b3-4db7-bb1a-20d3a23303a3",
   "metadata": {},
   "outputs": [
    {
     "data": {
      "text/plain": [
       "array([45, 40, 47])"
      ]
     },
     "execution_count": 38,
     "metadata": {},
     "output_type": "execute_result"
    }
   ],
   "source": [
    "marks[marks< lower_fence]"
   ]
  },
  {
   "cell_type": "code",
   "execution_count": 39,
   "id": "ba82001b-617d-44a8-b914-4b18d137f045",
   "metadata": {},
   "outputs": [
    {
     "data": {
      "text/plain": [
       "7504.5"
      ]
     },
     "execution_count": 39,
     "metadata": {},
     "output_type": "execute_result"
    }
   ],
   "source": [
    "Q1=np.percentile(salary, 25)\n",
    "Q3=np.percentile(salary, 75)\n",
    "IQR = Q3 - Q1\n",
    "IQR"
   ]
  },
  {
   "cell_type": "code",
   "execution_count": 40,
   "id": "71e06c45-a02e-48bc-b8bd-81ed8dbdad42",
   "metadata": {},
   "outputs": [],
   "source": [
    "upper_fence = Q3 + 1.5 * IQR\n",
    "lower_fence = Q3 - 1.5 * IQR"
   ]
  },
  {
   "cell_type": "code",
   "execution_count": 43,
   "id": "6e1154d4-0d15-41a8-b287-1f71d01ed79e",
   "metadata": {},
   "outputs": [
    {
     "data": {
      "text/plain": [
       "array([50000, 50000])"
      ]
     },
     "execution_count": 43,
     "metadata": {},
     "output_type": "execute_result"
    }
   ],
   "source": [
    "salary[salary> upper_fence]"
   ]
  },
  {
   "cell_type": "code",
   "execution_count": 44,
   "id": "2baf1a5b-33fb-4e9c-8a36-48111c7fe84a",
   "metadata": {},
   "outputs": [
    {
     "data": {
      "text/plain": [
       "array([10772, 10068, 10554])"
      ]
     },
     "execution_count": 44,
     "metadata": {},
     "output_type": "execute_result"
    }
   ],
   "source": [
    "salary[salary< lower_fence]"
   ]
  },
  {
   "cell_type": "code",
   "execution_count": null,
   "id": "534772ae-6cee-49e3-b29c-040b9a42a1f5",
   "metadata": {},
   "outputs": [],
   "source": []
  }
 ],
 "metadata": {
  "kernelspec": {
   "display_name": "Python 3 (ipykernel)",
   "language": "python",
   "name": "python3"
  },
  "language_info": {
   "codemirror_mode": {
    "name": "ipython",
    "version": 3
   },
   "file_extension": ".py",
   "mimetype": "text/x-python",
   "name": "python",
   "nbconvert_exporter": "python",
   "pygments_lexer": "ipython3",
   "version": "3.8.10"
  }
 },
 "nbformat": 4,
 "nbformat_minor": 5
}
