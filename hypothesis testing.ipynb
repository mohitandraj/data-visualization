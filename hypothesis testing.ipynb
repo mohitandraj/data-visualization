{
 "cells": [
  {
   "cell_type": "code",
   "execution_count": 18,
   "id": "eb4f4c42-e8d0-46e5-865f-ab21eab44f5e",
   "metadata": {},
   "outputs": [],
   "source": [
    "import pandas as pd\n",
    "import numpy as np\n",
    "import matplotlib.pyplot as plt\n",
    "import seaborn as sns\n",
    "from scipy import stats"
   ]
  },
  {
   "cell_type": "code",
   "execution_count": 19,
   "id": "c560c0b1-b47e-49c2-9379-cef670a4205c",
   "metadata": {},
   "outputs": [
    {
     "name": "stdout",
     "output_type": "stream",
     "text": [
      "Z-score:5.0\n",
      "P-value:5.733031438470704e-07\n",
      "Reject the null hypothesis(there is a significant difference between the values)\n"
     ]
    }
   ],
   "source": [
    "mean_new_drug = 10 #mean improvement for new drug\n",
    "mean_placebo = 5 #mean improvement for placebo group\n",
    "std_new_drug = 5 #std for new drug group\n",
    "std_placebo = 5 #std for placebo group\n",
    "n_new_drug=50 #sample size for new drug group\n",
    "n_placebo=50 #sample size for placebo group\n",
    "\n",
    "#calculate the z score\n",
    "z= (mean_new_drug -mean_placebo)/ np.sqrt(\n",
    "    (std_new_drug**2 /n_new_drug) + (std_placebo **2 / n_placebo))\n",
    "\n",
    "# calculate the p value(two tailed test)\n",
    "p_value = 2*(1- stats.norm.cdf(abs(z)))\n",
    "\n",
    "#output the results\n",
    "print(f\"Z-score:{z}\")\n",
    "print(f\"P-value:{p_value}\")\n",
    "\n",
    "#decision based on a significance level(alpha)\n",
    "alpha = 0.05\n",
    "if p_value< alpha:\n",
    "    print(\"Reject the null hypothesis(there is a significant difference between the values)\")\n",
    "else:\n",
    "    print(\"Fail to reject the null hypothesis(no significant difference between the values)\")"
   ]
  },
  {
   "cell_type": "code",
   "execution_count": 20,
   "id": "d47a292a-71cc-4a0f-a37f-4affc09b0c58",
   "metadata": {},
   "outputs": [],
   "source": [
    "#sample data - average population weight in kgs\n",
    "data= [78,62,80,75,61,74,79,93,77,95,67,88,54,69]"
   ]
  },
  {
   "cell_type": "code",
   "execution_count": 21,
   "id": "1f048871-8506-415d-95a4-b52a3bfc84dd",
   "metadata": {},
   "outputs": [],
   "source": [
    "#define the null hypothesis(average population weight= 80)\n",
    "null_mean = 80"
   ]
  },
  {
   "cell_type": "code",
   "execution_count": 22,
   "id": "3c86d508-1d5d-4c62-b184-c99870260efb",
   "metadata": {},
   "outputs": [
    {
     "data": {
      "text/plain": [
       "14"
      ]
     },
     "execution_count": 22,
     "metadata": {},
     "output_type": "execute_result"
    }
   ],
   "source": [
    "len(data)"
   ]
  },
  {
   "cell_type": "code",
   "execution_count": 23,
   "id": "ca2197e8-5f31-4219-b0aa-f1211691d8c3",
   "metadata": {},
   "outputs": [],
   "source": [
    "#calculate the sample mean and std\n",
    "sample_mean= np.mean(data)\n",
    "sample_std= np.std(data)"
   ]
  },
  {
   "cell_type": "code",
   "execution_count": 24,
   "id": "26d628b7-f59b-419d-9505-2a08a553257c",
   "metadata": {},
   "outputs": [
    {
     "data": {
      "text/plain": [
       "75.14285714285714"
      ]
     },
     "execution_count": 24,
     "metadata": {},
     "output_type": "execute_result"
    }
   ],
   "source": [
    "sample_mean"
   ]
  },
  {
   "cell_type": "code",
   "execution_count": 25,
   "id": "6073996b-e822-4f6c-ad2b-72b081e0a252",
   "metadata": {},
   "outputs": [
    {
     "data": {
      "text/plain": [
       "11.506874608915581"
      ]
     },
     "execution_count": 25,
     "metadata": {},
     "output_type": "execute_result"
    }
   ],
   "source": [
    "sample_std"
   ]
  },
  {
   "cell_type": "code",
   "execution_count": 26,
   "id": "668e631b-8586-4c5e-b6e6-966be899ba17",
   "metadata": {},
   "outputs": [
    {
     "data": {
      "text/plain": [
       "-0.4221079156784696"
      ]
     },
     "execution_count": 26,
     "metadata": {},
     "output_type": "execute_result"
    }
   ],
   "source": [
    "#calculate the z-score\n",
    "z_score=(sample_mean - null_mean)/sample_std\n",
    "z_score"
   ]
  },
  {
   "cell_type": "code",
   "execution_count": 27,
   "id": "01d8e974-a002-4f53-8184-dd96dfd455e4",
   "metadata": {},
   "outputs": [
    {
     "data": {
      "text/plain": [
       "0.6729462504556214"
      ]
     },
     "execution_count": 27,
     "metadata": {},
     "output_type": "execute_result"
    }
   ],
   "source": [
    "p_value= 2*(1- stats.norm.cdf(abs(z_score)))\n",
    "p_value"
   ]
  },
  {
   "cell_type": "code",
   "execution_count": 28,
   "id": "f91d2af4-45eb-4c39-b44b-4a0584076be4",
   "metadata": {},
   "outputs": [
    {
     "name": "stdout",
     "output_type": "stream",
     "text": [
      "Fail to reject the null hypothesis(no significant difference between the values)\n"
     ]
    }
   ],
   "source": [
    "alpha = 0.05\n",
    "if p_value< alpha:\n",
    "    print(\"Reject the null hypothesis(there is a significant difference between the values)\")\n",
    "else:\n",
    "    print(\"Fail to reject the null hypothesis(no significant difference between the values)\")"
   ]
  },
  {
   "cell_type": "code",
   "execution_count": 34,
   "id": "3314c5b0-62ef-40c6-900a-12e4e49f15ec",
   "metadata": {},
   "outputs": [],
   "source": [
    "from statsmodels.stats.weightstats import ztest"
   ]
  },
  {
   "cell_type": "code",
   "execution_count": 35,
   "id": "94f9a21c-a022-4087-aeee-113ab91a4a7b",
   "metadata": {},
   "outputs": [],
   "source": [
    "# enter IQ levels for 20 patient\n",
    "data = [88,92,94,94,96,97,97,97,99,99,105,109,109,109,110,112,112,113,114,115]"
   ]
  },
  {
   "cell_type": "code",
   "execution_count": 36,
   "id": "03f0f2bb-b76c-4000-a1b3-06fd6b39f9e7",
   "metadata": {},
   "outputs": [
    {
     "data": {
      "text/plain": [
       "(1.5976240527147705, 0.1101266701438426)"
      ]
     },
     "execution_count": 36,
     "metadata": {},
     "output_type": "execute_result"
    }
   ],
   "source": [
    "# Perform one sample z-test\n",
    "ztest(data, value=100)"
   ]
  },
  {
   "cell_type": "markdown",
   "id": "21f5cc8b-fb91-41e5-bb63-967bcedbfc58",
   "metadata": {},
   "source": [
    "##### The test statistic for the one sample z-test is 1.5976 & the corresponding p-value is 0.1101.\n",
    "\n",
    "##### Since this p-value is not less than 0.5, we dont have sufficient evidence to reject the null hypothesis.\n",
    "##### In other words, the new drug does not significantly affect IQ level."
   ]
  },
  {
   "cell_type": "markdown",
   "id": "3c13cc3c-fa0d-4edc-9cc0-33d9427703ea",
   "metadata": {},
   "source": [
    "## CHI SQAURE TEST "
   ]
  },
  {
   "cell_type": "code",
   "execution_count": 38,
   "id": "8363b7fa-6d73-42b8-8218-0eca521188a4",
   "metadata": {},
   "outputs": [],
   "source": [
    "from scipy.stats import chi2_contingency\n",
    "import numpy as np"
   ]
  },
  {
   "cell_type": "code",
   "execution_count": 39,
   "id": "b8366817-e88e-40cd-984c-4302df657e7d",
   "metadata": {},
   "outputs": [],
   "source": [
    "data = np.array([[207,22,241] , [234,242,232]])"
   ]
  },
  {
   "cell_type": "code",
   "execution_count": 40,
   "id": "6ec71208-df65-4b0e-a07f-e968b501ebea",
   "metadata": {},
   "outputs": [
    {
     "data": {
      "text/plain": [
       "array([[207,  22, 241],\n",
       "       [234, 242, 232]])"
      ]
     },
     "execution_count": 40,
     "metadata": {},
     "output_type": "execute_result"
    }
   ],
   "source": [
    "data"
   ]
  },
  {
   "cell_type": "code",
   "execution_count": 41,
   "id": "c25a3d81-3aa7-4135-a052-d692cd275524",
   "metadata": {},
   "outputs": [
    {
     "data": {
      "text/plain": [
       "array([441, 264, 473])"
      ]
     },
     "execution_count": 41,
     "metadata": {},
     "output_type": "execute_result"
    }
   ],
   "source": [
    "data.sum(axis=0)"
   ]
  },
  {
   "cell_type": "code",
   "execution_count": 42,
   "id": "9ed485dd-33b1-4cf9-9bf5-bb5cb5cc708f",
   "metadata": {},
   "outputs": [
    {
     "data": {
      "text/plain": [
       "array([470, 708])"
      ]
     },
     "execution_count": 42,
     "metadata": {},
     "output_type": "execute_result"
    }
   ],
   "source": [
    "data.sum(axis=1)"
   ]
  },
  {
   "cell_type": "code",
   "execution_count": 43,
   "id": "9280994f-d5fb-4a6f-bf0a-e467b78e3e5b",
   "metadata": {},
   "outputs": [],
   "source": [
    "stat, p, dof, expected = chi2_contingency(data)"
   ]
  },
  {
   "cell_type": "code",
   "execution_count": 44,
   "id": "b6d03653-42d4-4268-ad71-2ef90fbb2bbd",
   "metadata": {},
   "outputs": [
    {
     "data": {
      "text/plain": [
       "142.90604727381384"
      ]
     },
     "execution_count": 44,
     "metadata": {},
     "output_type": "execute_result"
    }
   ],
   "source": [
    "stat"
   ]
  },
  {
   "cell_type": "code",
   "execution_count": 45,
   "id": "b31d8a4a-cd4a-49e3-9571-b119d9f1c950",
   "metadata": {},
   "outputs": [
    {
     "data": {
      "text/plain": [
       "2"
      ]
     },
     "execution_count": 45,
     "metadata": {},
     "output_type": "execute_result"
    }
   ],
   "source": [
    "dof"
   ]
  },
  {
   "cell_type": "code",
   "execution_count": 46,
   "id": "9b5b12b9-1cfc-4a91-a434-ca756342f3d8",
   "metadata": {},
   "outputs": [
    {
     "data": {
      "text/plain": [
       "array([[175.95076401, 105.33106961, 188.71816638],\n",
       "       [265.04923599, 158.66893039, 284.28183362]])"
      ]
     },
     "execution_count": 46,
     "metadata": {},
     "output_type": "execute_result"
    }
   ],
   "source": [
    "expected"
   ]
  },
  {
   "cell_type": "code",
   "execution_count": 49,
   "id": "73ea57df-512e-48c4-8c7f-218d47122b08",
   "metadata": {},
   "outputs": [
    {
     "name": "stdout",
     "output_type": "stream",
     "text": [
      "p value is 9.29707039184022e-32\n",
      "Dependent (reject H0)\n"
     ]
    }
   ],
   "source": [
    "alpha = 0.05\n",
    "print(\"p value is \" + str(p))\n",
    "if p <= alpha:\n",
    "   print ('Dependent (reject H0)')\n",
    "else:\n",
    "   print(\"Independent (H0 holds true)\")"
   ]
  },
  {
   "cell_type": "code",
   "execution_count": 62,
   "id": "4ee9f1c6-405c-4394-b9c1-1d07be2ab375",
   "metadata": {},
   "outputs": [],
   "source": [
    "data = np.array([[5,10,5] , [5,15,0],[5,10,15]])"
   ]
  },
  {
   "cell_type": "code",
   "execution_count": 63,
   "id": "436f0eba-2a8b-4e19-920e-3a5c19ae6352",
   "metadata": {},
   "outputs": [
    {
     "data": {
      "text/plain": [
       "array([[ 5, 10,  5],\n",
       "       [ 5, 15,  0],\n",
       "       [ 5, 10, 15]])"
      ]
     },
     "execution_count": 63,
     "metadata": {},
     "output_type": "execute_result"
    }
   ],
   "source": [
    "data"
   ]
  },
  {
   "cell_type": "code",
   "execution_count": 64,
   "id": "0721a69a-a3c6-474c-8eb2-720c21bb0385",
   "metadata": {},
   "outputs": [
    {
     "data": {
      "text/plain": [
       "array([15, 35, 20])"
      ]
     },
     "execution_count": 64,
     "metadata": {},
     "output_type": "execute_result"
    }
   ],
   "source": [
    "data.sum(axis=0)"
   ]
  },
  {
   "cell_type": "code",
   "execution_count": 65,
   "id": "4b88edf0-9a30-46c7-9d59-4e17790563fc",
   "metadata": {},
   "outputs": [
    {
     "data": {
      "text/plain": [
       "array([20, 20, 30])"
      ]
     },
     "execution_count": 65,
     "metadata": {},
     "output_type": "execute_result"
    }
   ],
   "source": [
    "data.sum(axis=1)"
   ]
  },
  {
   "cell_type": "code",
   "execution_count": 66,
   "id": "7f457c6e-4a93-4137-b73c-a855c7e4ea5c",
   "metadata": {},
   "outputs": [],
   "source": [
    "stat, p, dof, expected = chi2_contingency(data)"
   ]
  },
  {
   "cell_type": "code",
   "execution_count": 67,
   "id": "1322a2b2-2e47-4f2d-9637-c7b81e13f404",
   "metadata": {},
   "outputs": [
    {
     "data": {
      "text/plain": [
       "15.347222222222225"
      ]
     },
     "execution_count": 67,
     "metadata": {},
     "output_type": "execute_result"
    }
   ],
   "source": [
    "stat"
   ]
  },
  {
   "cell_type": "code",
   "execution_count": 68,
   "id": "1bd49e34-0a39-49ca-8687-e728cea297e9",
   "metadata": {},
   "outputs": [
    {
     "data": {
      "text/plain": [
       "0.0040326727858557955"
      ]
     },
     "execution_count": 68,
     "metadata": {},
     "output_type": "execute_result"
    }
   ],
   "source": [
    "p"
   ]
  },
  {
   "cell_type": "code",
   "execution_count": 69,
   "id": "6df9bd9e-a644-405d-b6b2-0d088bd48d62",
   "metadata": {},
   "outputs": [
    {
     "data": {
      "text/plain": [
       "4"
      ]
     },
     "execution_count": 69,
     "metadata": {},
     "output_type": "execute_result"
    }
   ],
   "source": [
    "dof"
   ]
  },
  {
   "cell_type": "code",
   "execution_count": 70,
   "id": "3b159f8f-f13b-47f3-8083-8b7cd9fd5899",
   "metadata": {},
   "outputs": [
    {
     "data": {
      "text/plain": [
       "array([[ 4.28571429, 10.        ,  5.71428571],\n",
       "       [ 4.28571429, 10.        ,  5.71428571],\n",
       "       [ 6.42857143, 15.        ,  8.57142857]])"
      ]
     },
     "execution_count": 70,
     "metadata": {},
     "output_type": "execute_result"
    }
   ],
   "source": [
    "expected"
   ]
  },
  {
   "cell_type": "code",
   "execution_count": 71,
   "id": "8bb2d5da-04ca-4ae8-9131-3d1f3abdd3ea",
   "metadata": {},
   "outputs": [
    {
     "name": "stdout",
     "output_type": "stream",
     "text": [
      "p value is 0.0040326727858557955\n",
      "Dependent (reject H0)\n"
     ]
    }
   ],
   "source": [
    "alpha = 0.05\n",
    "print(\"p value is \" + str(p))\n",
    "if p <= alpha:\n",
    "   print ('Dependent (reject H0)')\n",
    "else:\n",
    "   print(\"Independent (H0 holds true)\")"
   ]
  },
  {
   "cell_type": "code",
   "execution_count": 72,
   "id": "d96798de-ffe2-49c6-82ea-ebfaf19dd4d1",
   "metadata": {},
   "outputs": [],
   "source": [
    "data = np.array([[15,5,5] , [10,10,15],[2,3,5]])"
   ]
  },
  {
   "cell_type": "code",
   "execution_count": 73,
   "id": "5d6d5de3-2e08-4a6e-9345-f8d53765048f",
   "metadata": {},
   "outputs": [
    {
     "data": {
      "text/plain": [
       "array([[15,  5,  5],\n",
       "       [10, 10, 15],\n",
       "       [ 2,  3,  5]])"
      ]
     },
     "execution_count": 73,
     "metadata": {},
     "output_type": "execute_result"
    }
   ],
   "source": [
    "data"
   ]
  },
  {
   "cell_type": "code",
   "execution_count": 74,
   "id": "11cdd626-6c02-4e28-9cb7-9e2c234fdd4c",
   "metadata": {},
   "outputs": [
    {
     "data": {
      "text/plain": [
       "array([27, 18, 25])"
      ]
     },
     "execution_count": 74,
     "metadata": {},
     "output_type": "execute_result"
    }
   ],
   "source": [
    "data.sum(axis=0)"
   ]
  },
  {
   "cell_type": "code",
   "execution_count": 75,
   "id": "15254aaf-b02f-45ad-a5f7-e2a820fc63bc",
   "metadata": {},
   "outputs": [
    {
     "data": {
      "text/plain": [
       "array([25, 35, 10])"
      ]
     },
     "execution_count": 75,
     "metadata": {},
     "output_type": "execute_result"
    }
   ],
   "source": [
    "data.sum(axis=1)"
   ]
  },
  {
   "cell_type": "code",
   "execution_count": 76,
   "id": "cb5a6487-7ad5-449b-a51b-6268068f77b3",
   "metadata": {},
   "outputs": [],
   "source": [
    "stats, p, dof, expected = chi2_contingency(data)"
   ]
  },
  {
   "cell_type": "code",
   "execution_count": 77,
   "id": "bf42240b-d461-4c2d-9f00-c87d51914c03",
   "metadata": {},
   "outputs": [
    {
     "data": {
      "text/plain": [
       "8.07777777777778"
      ]
     },
     "execution_count": 77,
     "metadata": {},
     "output_type": "execute_result"
    }
   ],
   "source": [
    "stats"
   ]
  },
  {
   "cell_type": "code",
   "execution_count": 78,
   "id": "9571d1e7-1c89-4b59-8ffa-6adb2e639d35",
   "metadata": {},
   "outputs": [
    {
     "data": {
      "text/plain": [
       "0.08877028710376675"
      ]
     },
     "execution_count": 78,
     "metadata": {},
     "output_type": "execute_result"
    }
   ],
   "source": [
    "p"
   ]
  },
  {
   "cell_type": "code",
   "execution_count": 79,
   "id": "7babbd9b-e056-462e-b187-cd4a697d96ae",
   "metadata": {},
   "outputs": [
    {
     "data": {
      "text/plain": [
       "4"
      ]
     },
     "execution_count": 79,
     "metadata": {},
     "output_type": "execute_result"
    }
   ],
   "source": [
    "dof"
   ]
  },
  {
   "cell_type": "code",
   "execution_count": 80,
   "id": "4ecd579c-5207-42c2-a4d0-2f3d49a246b0",
   "metadata": {},
   "outputs": [
    {
     "data": {
      "text/plain": [
       "array([[ 9.64285714,  6.42857143,  8.92857143],\n",
       "       [13.5       ,  9.        , 12.5       ],\n",
       "       [ 3.85714286,  2.57142857,  3.57142857]])"
      ]
     },
     "execution_count": 80,
     "metadata": {},
     "output_type": "execute_result"
    }
   ],
   "source": [
    "expected"
   ]
  },
  {
   "cell_type": "code",
   "execution_count": 81,
   "id": "fab8be77-b87c-4faa-9f46-57da6fa29ed3",
   "metadata": {},
   "outputs": [
    {
     "name": "stdout",
     "output_type": "stream",
     "text": [
      "p value is 0.08877028710376675\n",
      "Independent (H0 holds true)\n"
     ]
    }
   ],
   "source": [
    "alpha = 0.05\n",
    "print(\"p value is \" + str(p))\n",
    "if p <= alpha:\n",
    "   print ('Dependent (reject H0)')\n",
    "else:\n",
    "   print(\"Independent (H0 holds true)\")"
   ]
  },
  {
   "cell_type": "code",
   "execution_count": 83,
   "id": "7845a7b9-5f89-447a-90e9-c8d42a421851",
   "metadata": {},
   "outputs": [],
   "source": [
    "data = np.array ([[20,5],[10,15]])"
   ]
  },
  {
   "cell_type": "code",
   "execution_count": 84,
   "id": "3d4ca215-66f1-4013-ba86-9ffccdc31aa7",
   "metadata": {},
   "outputs": [
    {
     "data": {
      "text/plain": [
       "array([[20,  5],\n",
       "       [10, 15]])"
      ]
     },
     "execution_count": 84,
     "metadata": {},
     "output_type": "execute_result"
    }
   ],
   "source": [
    "data"
   ]
  },
  {
   "cell_type": "code",
   "execution_count": 85,
   "id": "ada8cb5a-4fea-4b5f-b001-3b0ad5f58a67",
   "metadata": {},
   "outputs": [
    {
     "data": {
      "text/plain": [
       "array([30, 20])"
      ]
     },
     "execution_count": 85,
     "metadata": {},
     "output_type": "execute_result"
    }
   ],
   "source": [
    "data.sum(axis=0)"
   ]
  },
  {
   "cell_type": "code",
   "execution_count": 86,
   "id": "3bd3ccce-e974-4f88-90c7-6a544cbf56ff",
   "metadata": {},
   "outputs": [
    {
     "data": {
      "text/plain": [
       "array([25, 25])"
      ]
     },
     "execution_count": 86,
     "metadata": {},
     "output_type": "execute_result"
    }
   ],
   "source": [
    "data.sum(axis=1)"
   ]
  },
  {
   "cell_type": "code",
   "execution_count": 87,
   "id": "39d5e790-1f4c-4143-92de-e1263c9908fb",
   "metadata": {},
   "outputs": [],
   "source": [
    "stats, p, dof, expected = chi2_contingency(data)"
   ]
  },
  {
   "cell_type": "code",
   "execution_count": 88,
   "id": "f01da1c4-d0fb-4acc-ae16-e8019f64047a",
   "metadata": {},
   "outputs": [
    {
     "data": {
      "text/plain": [
       "6.75"
      ]
     },
     "execution_count": 88,
     "metadata": {},
     "output_type": "execute_result"
    }
   ],
   "source": [
    "stats"
   ]
  },
  {
   "cell_type": "code",
   "execution_count": 89,
   "id": "de691a9b-cfbe-4994-acf5-67c8690af372",
   "metadata": {},
   "outputs": [
    {
     "data": {
      "text/plain": [
       "0.0093747684594349"
      ]
     },
     "execution_count": 89,
     "metadata": {},
     "output_type": "execute_result"
    }
   ],
   "source": [
    "p"
   ]
  },
  {
   "cell_type": "code",
   "execution_count": 90,
   "id": "8adb0bf6-bdeb-4ec8-a426-63c7979f4790",
   "metadata": {},
   "outputs": [
    {
     "data": {
      "text/plain": [
       "1"
      ]
     },
     "execution_count": 90,
     "metadata": {},
     "output_type": "execute_result"
    }
   ],
   "source": [
    "dof"
   ]
  },
  {
   "cell_type": "code",
   "execution_count": 91,
   "id": "253a68f1-9ac8-45a6-8b76-8857317faafe",
   "metadata": {},
   "outputs": [
    {
     "data": {
      "text/plain": [
       "array([[15., 10.],\n",
       "       [15., 10.]])"
      ]
     },
     "execution_count": 91,
     "metadata": {},
     "output_type": "execute_result"
    }
   ],
   "source": [
    "expected"
   ]
  },
  {
   "cell_type": "code",
   "execution_count": 92,
   "id": "7322b783-fd00-4fea-aa95-21702aa16efe",
   "metadata": {},
   "outputs": [
    {
     "name": "stdout",
     "output_type": "stream",
     "text": [
      "p value is 0.0093747684594349\n",
      "Dependent (reject H0)\n"
     ]
    }
   ],
   "source": [
    "alpha = 0.05\n",
    "print(\"p value is \" + str(p))\n",
    "if p <= alpha:\n",
    "   print ('Dependent (reject H0)')\n",
    "else:\n",
    "   print(\"Independent (H0 holds true)\")"
   ]
  },
  {
   "cell_type": "code",
   "execution_count": null,
   "id": "94f518a9-457f-4580-9841-873da763e6cf",
   "metadata": {},
   "outputs": [],
   "source": []
  }
 ],
 "metadata": {
  "kernelspec": {
   "display_name": "Python 3 (ipykernel)",
   "language": "python",
   "name": "python3"
  },
  "language_info": {
   "codemirror_mode": {
    "name": "ipython",
    "version": 3
   },
   "file_extension": ".py",
   "mimetype": "text/x-python",
   "name": "python",
   "nbconvert_exporter": "python",
   "pygments_lexer": "ipython3",
   "version": "3.8.10"
  }
 },
 "nbformat": 4,
 "nbformat_minor": 5
}
