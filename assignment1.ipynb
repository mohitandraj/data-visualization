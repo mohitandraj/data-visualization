{
 "cells": [
  {
   "cell_type": "markdown",
   "id": "409c8f18-312c-4e16-b7ce-0fd91a528e68",
   "metadata": {},
   "source": [
    "#Question 1"
   ]
  },
  {
   "cell_type": "code",
   "execution_count": null,
   "id": "532d32d2-3271-4d51-a44f-d18317b92b19",
   "metadata": {},
   "outputs": [],
   "source": [
    "import numpy as np"
   ]
  },
  {
   "cell_type": "code",
   "execution_count": 27,
   "id": "9eee7c57-4c4a-4dc3-8514-fda73c8fe0e1",
   "metadata": {},
   "outputs": [],
   "source": [
    "a=np.random.rand(3,3)\n",
    "b=np.random.rand(3,3)"
   ]
  },
  {
   "cell_type": "code",
   "execution_count": 28,
   "id": "230537c3-d2dd-4498-b453-6bbcc6a6bc64",
   "metadata": {},
   "outputs": [
    {
     "data": {
      "text/plain": [
       "array([[0.55293304, 0.58242742, 0.62929567],\n",
       "       [0.37006861, 0.11738995, 0.71353995],\n",
       "       [0.09378754, 0.88453847, 0.33353285]])"
      ]
     },
     "execution_count": 28,
     "metadata": {},
     "output_type": "execute_result"
    }
   ],
   "source": [
    "a"
   ]
  },
  {
   "cell_type": "code",
   "execution_count": 29,
   "id": "0eb40278-ef9e-4171-b934-c9e2674d3b70",
   "metadata": {},
   "outputs": [
    {
     "data": {
      "text/plain": [
       "array([[0.9487902 , 0.19068358, 0.58578261],\n",
       "       [0.01014706, 0.25434337, 0.87112516],\n",
       "       [0.74545365, 0.77230317, 0.65200022]])"
      ]
     },
     "execution_count": 29,
     "metadata": {},
     "output_type": "execute_result"
    }
   ],
   "source": [
    "b"
   ]
  },
  {
   "cell_type": "code",
   "execution_count": 30,
   "id": "202c7938-d72f-424d-adcd-0df00e2de00d",
   "metadata": {},
   "outputs": [
    {
     "data": {
      "text/plain": [
       "array([[1.50172324, 0.77311101, 1.21507828],\n",
       "       [0.38021567, 0.37173333, 1.58466511],\n",
       "       [0.8392412 , 1.65684164, 0.98553307]])"
      ]
     },
     "execution_count": 30,
     "metadata": {},
     "output_type": "execute_result"
    }
   ],
   "source": [
    "a+b"
   ]
  },
  {
   "cell_type": "code",
   "execution_count": 31,
   "id": "323b02c8-7a08-4082-812b-9e3f4ab3ec8e",
   "metadata": {},
   "outputs": [
    {
     "data": {
      "text/plain": [
       "array([[-0.39585716,  0.39174384,  0.04351306],\n",
       "       [ 0.35992155, -0.13695342, -0.15758521],\n",
       "       [-0.65166611,  0.1122353 , -0.31846737]])"
      ]
     },
     "execution_count": 31,
     "metadata": {},
     "output_type": "execute_result"
    }
   ],
   "source": [
    "a-b"
   ]
  },
  {
   "cell_type": "code",
   "execution_count": 32,
   "id": "92297a47-6b59-45c9-bb6b-525762f8ecd6",
   "metadata": {},
   "outputs": [
    {
     "data": {
      "text/plain": [
       "array([[0.52461745, 0.11105935, 0.36863046],\n",
       "       [0.00375511, 0.02985736, 0.6215826 ],\n",
       "       [0.06991427, 0.68313186, 0.21746349]])"
      ]
     },
     "execution_count": 32,
     "metadata": {},
     "output_type": "execute_result"
    }
   ],
   "source": [
    "a*b"
   ]
  },
  {
   "cell_type": "code",
   "execution_count": 33,
   "id": "0c386b80-27dd-4000-a3c5-2b3aa5a38156",
   "metadata": {},
   "outputs": [
    {
     "data": {
      "text/plain": [
       "array([[ 0.58277693,  3.05441829,  1.07428193],\n",
       "       [36.47052336,  0.46154123,  0.81910153],\n",
       "       [ 0.12581271,  1.14532545,  0.51155329]])"
      ]
     },
     "execution_count": 33,
     "metadata": {},
     "output_type": "execute_result"
    }
   ],
   "source": [
    "a/b"
   ]
  },
  {
   "cell_type": "code",
   "execution_count": 34,
   "id": "85835484-9581-40c6-8ebc-9ed06729eb1e",
   "metadata": {},
   "outputs": [
    {
     "data": {
      "text/plain": [
       "array([[0.99963813, 0.73957885, 1.24156666],\n",
       "       [0.8842196 , 0.65149253, 0.7842693 ],\n",
       "       [0.34659345, 0.50044873, 1.04294632]])"
      ]
     },
     "execution_count": 34,
     "metadata": {},
     "output_type": "execute_result"
    }
   ],
   "source": [
    "a.dot(b)"
   ]
  },
  {
   "cell_type": "markdown",
   "id": "f46f746e-ddc9-422c-8597-c530c42e57e8",
   "metadata": {},
   "source": [
    "#Question 2"
   ]
  },
  {
   "cell_type": "code",
   "execution_count": 36,
   "id": "383abdf8-8482-4ce5-8352-5aede69fff1c",
   "metadata": {},
   "outputs": [],
   "source": [
    "a=np.random.rand(3,4)"
   ]
  },
  {
   "cell_type": "code",
   "execution_count": 37,
   "id": "e8111a0d-953b-41c4-bddd-ae66c8613960",
   "metadata": {},
   "outputs": [
    {
     "data": {
      "text/plain": [
       "array([[0.02455617, 0.14792906, 0.89709541, 0.36377234],\n",
       "       [0.25340608, 0.40889077, 0.21737684, 0.56598665],\n",
       "       [0.24833029, 0.13365224, 0.7601126 , 0.32288831]])"
      ]
     },
     "execution_count": 37,
     "metadata": {},
     "output_type": "execute_result"
    }
   ],
   "source": [
    "a"
   ]
  },
  {
   "cell_type": "code",
   "execution_count": 38,
   "id": "7264f028-a794-41ea-a175-8b247d58f209",
   "metadata": {},
   "outputs": [
    {
     "data": {
      "text/plain": [
       "0.36199972909018313"
      ]
     },
     "execution_count": 38,
     "metadata": {},
     "output_type": "execute_result"
    }
   ],
   "source": [
    "a.mean()"
   ]
  },
  {
   "cell_type": "code",
   "execution_count": 42,
   "id": "f58f40ad-26a0-43d4-8d02-7660167d3503",
   "metadata": {},
   "outputs": [
    {
     "data": {
      "text/plain": [
       "0.28814719449781184"
      ]
     },
     "execution_count": 42,
     "metadata": {},
     "output_type": "execute_result"
    }
   ],
   "source": [
    "np.median(a)"
   ]
  },
  {
   "cell_type": "code",
   "execution_count": 65,
   "id": "e4496fe7-91ac-4c3d-98ac-3a0617804042",
   "metadata": {},
   "outputs": [
    {
     "name": "stderr",
     "output_type": "stream",
     "text": [
      "/tmp/ipykernel_96325/2959266401.py:3: FutureWarning: Unlike other reduction functions (e.g. `skew`, `kurtosis`), the default behavior of `mode` typically preserves the axis it acts along. In SciPy 1.11.0, this behavior will change: the default value of `keepdims` will become False, the `axis` over which the statistic is taken will be eliminated, and the value None will no longer be accepted. Set `keepdims` to True or False to avoid this warning.\n",
      "  st.mode(a)\n"
     ]
    },
    {
     "data": {
      "text/plain": [
       "ModeResult(mode=array([[0.02455617, 0.13365224, 0.21737684, 0.32288831]]), count=array([[1, 1, 1, 1]]))"
      ]
     },
     "execution_count": 65,
     "metadata": {},
     "output_type": "execute_result"
    }
   ],
   "source": [
    "from scipy import stats as st\n",
    "import numpy as np\n",
    "st.mode(a)"
   ]
  },
  {
   "cell_type": "code",
   "execution_count": 66,
   "id": "4da89f72-79ea-4f5c-8c42-cc59840b7241",
   "metadata": {},
   "outputs": [
    {
     "data": {
      "text/plain": [
       "0.02455616789818027"
      ]
     },
     "execution_count": 66,
     "metadata": {},
     "output_type": "execute_result"
    }
   ],
   "source": [
    "np.min(a)"
   ]
  },
  {
   "cell_type": "code",
   "execution_count": 67,
   "id": "25a95ec5-0243-4f5d-a682-1ade8de6a394",
   "metadata": {},
   "outputs": [
    {
     "data": {
      "text/plain": [
       "0.8970954129481241"
      ]
     },
     "execution_count": 67,
     "metadata": {},
     "output_type": "execute_result"
    }
   ],
   "source": [
    "np.max(a)"
   ]
  },
  {
   "cell_type": "code",
   "execution_count": 68,
   "id": "57b04639-e433-4c08-a3b9-00ea2fe56b96",
   "metadata": {},
   "outputs": [
    {
     "data": {
      "text/plain": [
       "0.24960462241362597"
      ]
     },
     "execution_count": 68,
     "metadata": {},
     "output_type": "execute_result"
    }
   ],
   "source": [
    "a.std()"
   ]
  },
  {
   "cell_type": "code",
   "execution_count": 69,
   "id": "d1f395a0-3a37-400b-9081-4b3f380ac25f",
   "metadata": {},
   "outputs": [
    {
     "data": {
      "text/plain": [
       "0.24960462241362597"
      ]
     },
     "execution_count": 69,
     "metadata": {},
     "output_type": "execute_result"
    }
   ],
   "source": [
    "np.std(a)"
   ]
  },
  {
   "cell_type": "code",
   "execution_count": null,
   "id": "2d6d1db0-b04a-429d-b907-f93037678181",
   "metadata": {},
   "outputs": [],
   "source": []
  }
 ],
 "metadata": {
  "kernelspec": {
   "display_name": "Python 3 (ipykernel)",
   "language": "python",
   "name": "python3"
  },
  "language_info": {
   "codemirror_mode": {
    "name": "ipython",
    "version": 3
   },
   "file_extension": ".py",
   "mimetype": "text/x-python",
   "name": "python",
   "nbconvert_exporter": "python",
   "pygments_lexer": "ipython3",
   "version": "3.8.10"
  }
 },
 "nbformat": 4,
 "nbformat_minor": 5
}
