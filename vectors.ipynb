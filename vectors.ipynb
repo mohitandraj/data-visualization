{
 "cells": [
  {
   "cell_type": "code",
   "execution_count": 1,
   "id": "3fc4f47e-c889-4fba-b4c4-22f4e5738181",
   "metadata": {},
   "outputs": [],
   "source": [
    "import numpy as np\n",
    "v1= np.array([56,33,16,43,27,65])\n",
    "\n",
    "\n",
    "\n"
   ]
  },
  {
   "cell_type": "code",
   "execution_count": 2,
   "id": "24b99648-9226-4517-9113-e82c9431239b",
   "metadata": {},
   "outputs": [
    {
     "name": "stdout",
     "output_type": "stream",
     "text": [
      "[56 33 16 43 27 65]\n"
     ]
    }
   ],
   "source": [
    "print (v1)"
   ]
  },
  {
   "cell_type": "code",
   "execution_count": 3,
   "id": "54119798-3f98-49ba-bf65-2cd843a21e4a",
   "metadata": {},
   "outputs": [
    {
     "data": {
      "text/plain": [
       "array([56, 33, 16, 43, 27, 65])"
      ]
     },
     "execution_count": 3,
     "metadata": {},
     "output_type": "execute_result"
    }
   ],
   "source": [
    "v1"
   ]
  },
  {
   "cell_type": "code",
   "execution_count": 4,
   "id": "53ca1ab4-daea-48c9-970f-870984baa2f1",
   "metadata": {},
   "outputs": [
    {
     "data": {
      "text/plain": [
       "numpy.ndarray"
      ]
     },
     "execution_count": 4,
     "metadata": {},
     "output_type": "execute_result"
    }
   ],
   "source": [
    "type(v1)"
   ]
  },
  {
   "cell_type": "code",
   "execution_count": 5,
   "id": "ea95b646-900d-4e63-b4b5-b7ca104b79f9",
   "metadata": {},
   "outputs": [
    {
     "data": {
      "text/plain": [
       "dtype('int64')"
      ]
     },
     "execution_count": 5,
     "metadata": {},
     "output_type": "execute_result"
    }
   ],
   "source": [
    "v1.dtype"
   ]
  },
  {
   "cell_type": "code",
   "execution_count": 6,
   "id": "f88698f0-599c-4818-901a-b940c4686b27",
   "metadata": {},
   "outputs": [
    {
     "data": {
      "text/plain": [
       "65"
      ]
     },
     "execution_count": 6,
     "metadata": {},
     "output_type": "execute_result"
    }
   ],
   "source": [
    "v1.max()\n",
    "\n",
    "\n",
    "\n"
   ]
  },
  {
   "cell_type": "code",
   "execution_count": 7,
   "id": "3d4a084b-3ecc-4198-af66-3a2e58c48702",
   "metadata": {},
   "outputs": [
    {
     "data": {
      "text/plain": [
       "16"
      ]
     },
     "execution_count": 7,
     "metadata": {},
     "output_type": "execute_result"
    }
   ],
   "source": [
    "v1.min()"
   ]
  },
  {
   "cell_type": "code",
   "execution_count": 8,
   "id": "40accb48-2804-4cef-a609-916586d2b1d6",
   "metadata": {},
   "outputs": [
    {
     "data": {
      "text/plain": [
       "dtype('int64')"
      ]
     },
     "execution_count": 8,
     "metadata": {},
     "output_type": "execute_result"
    }
   ],
   "source": [
    "v1.dtype"
   ]
  },
  {
   "cell_type": "code",
   "execution_count": 9,
   "id": "2267660e-3429-4eeb-83c4-831aedf04116",
   "metadata": {},
   "outputs": [],
   "source": [
    "v1= np.array([56,33,16,43,27,65], dtype=np.int8)"
   ]
  },
  {
   "cell_type": "code",
   "execution_count": 10,
   "id": "41f6ba70-daab-4d46-8244-d440f632b034",
   "metadata": {},
   "outputs": [
    {
     "data": {
      "text/plain": [
       "array([56, 33, 16, 43, 27, 65], dtype=int8)"
      ]
     },
     "execution_count": 10,
     "metadata": {},
     "output_type": "execute_result"
    }
   ],
   "source": [
    "v1"
   ]
  },
  {
   "cell_type": "code",
   "execution_count": 11,
   "id": "8066a59f-9059-4c00-a4cf-3b0c22ccdec1",
   "metadata": {},
   "outputs": [
    {
     "data": {
      "text/plain": [
       "dtype('int8')"
      ]
     },
     "execution_count": 11,
     "metadata": {},
     "output_type": "execute_result"
    }
   ],
   "source": [
    "v1.dtype"
   ]
  },
  {
   "cell_type": "code",
   "execution_count": null,
   "id": "0a850a13-30e6-4516-9ba9-b245f0a42a35",
   "metadata": {},
   "outputs": [],
   "source": []
  },
  {
   "cell_type": "code",
   "execution_count": 12,
   "id": "34b0c2c7-c026-40bd-9eb4-80a8cc083708",
   "metadata": {},
   "outputs": [],
   "source": [
    "from sys import getsizeof"
   ]
  },
  {
   "cell_type": "code",
   "execution_count": 13,
   "id": "9666b006-c6e0-4f51-88fd-ed48786bb5d2",
   "metadata": {},
   "outputs": [
    {
     "data": {
      "text/plain": [
       "118"
      ]
     },
     "execution_count": 13,
     "metadata": {},
     "output_type": "execute_result"
    }
   ],
   "source": [
    "getsizeof(v1)"
   ]
  },
  {
   "cell_type": "code",
   "execution_count": 14,
   "id": "a30ec4ec-e33e-4ac2-9faf-45272deb3f6e",
   "metadata": {},
   "outputs": [
    {
     "data": {
      "text/plain": [
       "array([0, 1, 2, 3, 4, 5, 6, 7, 8, 9])"
      ]
     },
     "execution_count": 14,
     "metadata": {},
     "output_type": "execute_result"
    }
   ],
   "source": [
    "#array creation\n",
    "v1=np.arange(10)\n",
    "v1"
   ]
  },
  {
   "cell_type": "code",
   "execution_count": 15,
   "id": "0e385c3f-bbe7-4e8f-9185-432369faff45",
   "metadata": {},
   "outputs": [
    {
     "data": {
      "text/plain": [
       "array([ 4,  8, 12, 16, 20, 24, 28, 32, 36, 40])"
      ]
     },
     "execution_count": 15,
     "metadata": {},
     "output_type": "execute_result"
    }
   ],
   "source": [
    "v1= np.arange(4,41,4)\n",
    "v1\n"
   ]
  },
  {
   "cell_type": "code",
   "execution_count": 16,
   "id": "f190cd94-8e6f-4ac2-8988-9deb5a46c2c9",
   "metadata": {},
   "outputs": [
    {
     "data": {
      "text/plain": [
       "array([10,  9,  8,  7,  6])"
      ]
     },
     "execution_count": 16,
     "metadata": {},
     "output_type": "execute_result"
    }
   ],
   "source": [
    "v1= np.arange(10,5,-1)\n",
    "v1"
   ]
  },
  {
   "cell_type": "code",
   "execution_count": 17,
   "id": "2dd2452b-798e-40e2-83ba-7db6d3c03242",
   "metadata": {},
   "outputs": [
    {
     "data": {
      "text/plain": [
       "array([ 1. ,  1.5,  2. ,  2.5,  3. ,  3.5,  4. ,  4.5,  5. ,  5.5,  6. ,\n",
       "        6.5,  7. ,  7.5,  8. ,  8.5,  9. ,  9.5, 10. , 10.5])"
      ]
     },
     "execution_count": 17,
     "metadata": {},
     "output_type": "execute_result"
    }
   ],
   "source": [
    "v1=np.arange(1,11,0.5)\n",
    "v1"
   ]
  },
  {
   "cell_type": "code",
   "execution_count": 18,
   "id": "1271e64a-c442-40c2-a022-571d7e82b6aa",
   "metadata": {},
   "outputs": [
    {
     "data": {
      "text/plain": [
       "dtype('float64')"
      ]
     },
     "execution_count": 18,
     "metadata": {},
     "output_type": "execute_result"
    }
   ],
   "source": [
    "v2= np.array ([56,60,34.53,40,66])\n",
    "v2.dtype"
   ]
  },
  {
   "cell_type": "code",
   "execution_count": 19,
   "id": "af434589-377c-46a0-b729-815de20e1ab5",
   "metadata": {},
   "outputs": [
    {
     "data": {
      "text/plain": [
       "dtype('<U32')"
      ]
     },
     "execution_count": 19,
     "metadata": {},
     "output_type": "execute_result"
    }
   ],
   "source": [
    "v3= np.array ([56,60,34.53,40,66,'Osama'])\n",
    "v3.dtype"
   ]
  },
  {
   "cell_type": "code",
   "execution_count": 20,
   "id": "76ba8bfb-d423-4798-86f4-2ac07767f105",
   "metadata": {},
   "outputs": [
    {
     "data": {
      "text/plain": [
       "array([56.  , 60.  , 34.53, 40.  , 66.  ,  0.  ])"
      ]
     },
     "execution_count": 20,
     "metadata": {},
     "output_type": "execute_result"
    }
   ],
   "source": [
    "v3= np.array ([56,60,34.53,40,66, False])\n",
    "v3"
   ]
  },
  {
   "cell_type": "code",
   "execution_count": 21,
   "id": "d1b549b4-8e33-4ba7-86a1-1ac96dd7a3ab",
   "metadata": {},
   "outputs": [
    {
     "data": {
      "text/plain": [
       "array([1, 1, 1, 1, 1, 1, 1, 1, 1, 1], dtype=int8)"
      ]
     },
     "execution_count": 21,
     "metadata": {},
     "output_type": "execute_result"
    }
   ],
   "source": [
    "z=np.ones(10, dtype=np.int8)\n",
    "z"
   ]
  },
  {
   "cell_type": "code",
   "execution_count": 22,
   "id": "04b372a5-be4d-4cbf-a38e-78d3d10faede",
   "metadata": {},
   "outputs": [
    {
     "data": {
      "text/plain": [
       "array([ 1.,  2.,  3.,  4.,  5.,  6.,  7.,  8.,  9., 10.])"
      ]
     },
     "execution_count": 22,
     "metadata": {},
     "output_type": "execute_result"
    }
   ],
   "source": [
    "v7=np.linspace(1,10,10)\n",
    "v7"
   ]
  },
  {
   "cell_type": "code",
   "execution_count": 23,
   "id": "95565530-914e-426b-8259-f05700d3ab39",
   "metadata": {},
   "outputs": [],
   "source": [
    "import matplotlib.pyplot as plt"
   ]
  },
  {
   "cell_type": "code",
   "execution_count": 27,
   "id": "b25a2b89-7674-4920-a081-9aee122483a8",
   "metadata": {},
   "outputs": [
    {
     "data": {
      "text/plain": [
       "[<matplotlib.lines.Line2D at 0x7f9d228c9cd0>]"
      ]
     },
     "execution_count": 27,
     "metadata": {},
     "output_type": "execute_result"
    },
    {
     "data": {
      "image/png": "[encoded data removed]",
      "text/plain": [
       "<Figure size 640x480 with 1 Axes>"
      ]
     },
     "metadata": {},
     "output_type": "display_data"
    }
   ],
   "source": [
    "plt.plot(v7, marker = '.')"
   ]
  },
  {
   "cell_type": "code",
   "execution_count": 28,
   "id": "cf8e83e9-5689-40ea-900b-e7cacded3be3",
   "metadata": {},
   "outputs": [],
   "source": [
    "v8=np.array([0,5])\n",
    "v9=np.array([0,8])"
   ]
  },
  {
   "cell_type": "code",
   "execution_count": 29,
   "id": "ec4499db-0185-4fb3-9580-a8b6fc9e00b0",
   "metadata": {},
   "outputs": [
    {
     "data": {
      "text/plain": [
       "[<matplotlib.lines.Line2D at 0x7f9d228ade20>]"
      ]
     },
     "execution_count": 29,
     "metadata": {},
     "output_type": "execute_result"
    },
    {
     "data": {
      "image/png": "[encoded data removed]",
      "text/plain": [
       "<Figure size 640x480 with 1 Axes>"
      ]
     },
     "metadata": {},
     "output_type": "display_data"
    }
   ],
   "source": [
    "plt.plot(v8)\n",
    "plt.plot(v9)"
   ]
  },
  {
   "cell_type": "code",
   "execution_count": 30,
   "id": "cf441f75-e294-46eb-b3dc-52c92d084ce4",
   "metadata": {},
   "outputs": [
    {
     "data": {
      "text/plain": [
       "40"
      ]
     },
     "execution_count": 30,
     "metadata": {},
     "output_type": "execute_result"
    }
   ],
   "source": [
    "v8.dot(v9)\n",
    "    "
   ]
  },
  {
   "cell_type": "code",
   "execution_count": 31,
   "id": "b27efd0e-641f-44c9-81a9-ebbd3d2de8ce",
   "metadata": {},
   "outputs": [
    {
     "data": {
      "text/plain": [
       "40"
      ]
     },
     "execution_count": 31,
     "metadata": {},
     "output_type": "execute_result"
    }
   ],
   "source": [
    "np.dot(v8,v9)"
   ]
  },
  {
   "cell_type": "code",
   "execution_count": 32,
   "id": "a041005f-b533-450f-a5bf-39f03741decc",
   "metadata": {},
   "outputs": [
    {
     "data": {
      "text/plain": [
       "40"
      ]
     },
     "execution_count": 32,
     "metadata": {},
     "output_type": "execute_result"
    }
   ],
   "source": [
    "v9.dot(v8)"
   ]
  },
  {
   "cell_type": "code",
   "execution_count": 33,
   "id": "ba7a73ed-11cb-4a44-a11f-edbe56775de0",
   "metadata": {},
   "outputs": [],
   "source": [
    "v1=np.arange(1,11)"
   ]
  },
  {
   "cell_type": "code",
   "execution_count": 34,
   "id": "8cb0d8fe-db85-48dc-b881-4edb1d353abf",
   "metadata": {},
   "outputs": [],
   "source": [
    "v2=v1"
   ]
  },
  {
   "cell_type": "code",
   "execution_count": 35,
   "id": "969006f5-1bbb-4f74-8242-437fe5f638ce",
   "metadata": {},
   "outputs": [
    {
     "data": {
      "text/plain": [
       "array([ 1,  2,  3,  4,  5,  6,  7,  8,  9, 10])"
      ]
     },
     "execution_count": 35,
     "metadata": {},
     "output_type": "execute_result"
    }
   ],
   "source": [
    "v1"
   ]
  },
  {
   "cell_type": "code",
   "execution_count": 36,
   "id": "21b6a818-cb60-4bf3-b69f-5c51e85ac088",
   "metadata": {},
   "outputs": [
    {
     "data": {
      "text/plain": [
       "array([ 1,  2,  3,  4,  5,  6,  7,  8,  9, 10])"
      ]
     },
     "execution_count": 36,
     "metadata": {},
     "output_type": "execute_result"
    }
   ],
   "source": [
    "v2"
   ]
  },
  {
   "cell_type": "code",
   "execution_count": 37,
   "id": "4298fa96-0c80-45c3-a648-09247b2ddba1",
   "metadata": {},
   "outputs": [],
   "source": [
    "v2[4]=4.5"
   ]
  },
  {
   "cell_type": "code",
   "execution_count": 38,
   "id": "3e14cbc5-393a-404e-8c8e-da945c512c94",
   "metadata": {},
   "outputs": [
    {
     "data": {
      "text/plain": [
       "array([ 1,  2,  3,  4,  4,  6,  7,  8,  9, 10])"
      ]
     },
     "execution_count": 38,
     "metadata": {},
     "output_type": "execute_result"
    }
   ],
   "source": [
    "v2"
   ]
  },
  {
   "cell_type": "code",
   "execution_count": 39,
   "id": "6fca634b-f5ff-468d-b6a4-801217043177",
   "metadata": {},
   "outputs": [
    {
     "data": {
      "text/plain": [
       "array([ 1,  2,  3,  4,  4,  6,  7,  8,  9, 10])"
      ]
     },
     "execution_count": 39,
     "metadata": {},
     "output_type": "execute_result"
    }
   ],
   "source": [
    "v2"
   ]
  },
  {
   "cell_type": "code",
   "execution_count": 40,
   "id": "54c32ebc-26aa-428f-90eb-3c67bdbbc47e",
   "metadata": {},
   "outputs": [
    {
     "data": {
      "text/plain": [
       "array([ 1,  2,  3,  4,  4,  6, 69,  8,  9, 10])"
      ]
     },
     "execution_count": 40,
     "metadata": {},
     "output_type": "execute_result"
    }
   ],
   "source": [
    "  v2[6]=69\n",
    "v2"
   ]
  },
  {
   "cell_type": "code",
   "execution_count": 41,
   "id": "c4e256a0-4130-4537-9cee-2ee71c90bd55",
   "metadata": {},
   "outputs": [
    {
     "data": {
      "text/plain": [
       "array([ 1,  2,  3,  4,  4,  6, 69,  8,  9, 10])"
      ]
     },
     "execution_count": 41,
     "metadata": {},
     "output_type": "execute_result"
    }
   ],
   "source": [
    "v1\n"
   ]
  },
  {
   "cell_type": "code",
   "execution_count": 42,
   "id": "d63f5fad-265b-417f-89af-15972d548bdc",
   "metadata": {},
   "outputs": [
    {
     "data": {
      "text/plain": [
       "140312865775408"
      ]
     },
     "execution_count": 42,
     "metadata": {},
     "output_type": "execute_result"
    }
   ],
   "source": [
    "id(v1)"
   ]
  },
  {
   "cell_type": "code",
   "execution_count": 43,
   "id": "14a0880a-e826-490d-a112-44ace754f862",
   "metadata": {},
   "outputs": [
    {
     "data": {
      "text/plain": [
       "140312865775408"
      ]
     },
     "execution_count": 43,
     "metadata": {},
     "output_type": "execute_result"
    }
   ],
   "source": [
    "id(v2)"
   ]
  },
  {
   "cell_type": "code",
   "execution_count": 44,
   "id": "86d6b464-db9e-4aca-a5eb-c05293676ba7",
   "metadata": {},
   "outputs": [],
   "source": [
    "v2=v1.copy()"
   ]
  },
  {
   "cell_type": "code",
   "execution_count": 45,
   "id": "afd5da8f-dc7f-49f9-ac2d-e6f11362263c",
   "metadata": {},
   "outputs": [
    {
     "data": {
      "text/plain": [
       "(140312865775408, 140312865757104)"
      ]
     },
     "execution_count": 45,
     "metadata": {},
     "output_type": "execute_result"
    }
   ],
   "source": [
    "id(v1),id(v2)"
   ]
  },
  {
   "cell_type": "code",
   "execution_count": 56,
   "id": "f669b345-1bab-4de4-a8de-ae60e2e966e2",
   "metadata": {},
   "outputs": [],
   "source": [
    "def isEqual(v1,v2):\n",
    "    if sum(v1==v2)==len(v2):\n",
    "        return True\n",
    "    else:\n",
    "        return False\n",
    "\n",
    "     "
   ]
  },
  {
   "cell_type": "code",
   "execution_count": 57,
   "id": "aa0bf190-1729-4321-bef3-a8af54676a81",
   "metadata": {},
   "outputs": [
    {
     "data": {
      "text/plain": [
       "True"
      ]
     },
     "execution_count": 57,
     "metadata": {},
     "output_type": "execute_result"
    }
   ],
   "source": [
    "isEqual(v1,v2)"
   ]
  },
  {
   "cell_type": "code",
   "execution_count": 58,
   "id": "3606653f-78d3-4a7a-9f6e-d7074e6bf33b",
   "metadata": {},
   "outputs": [],
   "source": [
    "#NEGATIVE VECTORS\n"
   ]
  },
  {
   "cell_type": "code",
   "execution_count": 59,
   "id": "ee494551-48b6-41b9-8e10-290e1478ef91",
   "metadata": {},
   "outputs": [],
   "source": [
    "v1=np.arange(1,11)"
   ]
  },
  {
   "cell_type": "code",
   "execution_count": 60,
   "id": "a1f80792-33c7-4e14-8d05-2c38d45a02ca",
   "metadata": {},
   "outputs": [],
   "source": [
    "v2=np.arange(10,0,-1)"
   ]
  },
  {
   "cell_type": "code",
   "execution_count": 61,
   "id": "c0959ee2-2ea0-4725-855a-50569bcd157e",
   "metadata": {},
   "outputs": [
    {
     "data": {
      "text/plain": [
       "array([ 1,  2,  3,  4,  5,  6,  7,  8,  9, 10])"
      ]
     },
     "execution_count": 61,
     "metadata": {},
     "output_type": "execute_result"
    }
   ],
   "source": [
    "v1"
   ]
  },
  {
   "cell_type": "code",
   "execution_count": 62,
   "id": "ea451db4-f5c7-48dd-8e05-5d0167d20379",
   "metadata": {},
   "outputs": [
    {
     "data": {
      "text/plain": [
       "array([10,  9,  8,  7,  6,  5,  4,  3,  2,  1])"
      ]
     },
     "execution_count": 62,
     "metadata": {},
     "output_type": "execute_result"
    }
   ],
   "source": [
    "v2"
   ]
  },
  {
   "cell_type": "code",
   "execution_count": 1,
   "id": "500a25a7-2fc7-4ac7-aa9b-4afb47f9db79",
   "metadata": {},
   "outputs": [
    {
     "ename": "SyntaxError",
     "evalue": "invalid syntax (638311766.py, line 1)",
     "output_type": "error",
     "traceback": [
      "\u001b[0;36m  Cell \u001b[0;32mIn[1], line 1\u001b[0;36m\u001b[0m\n\u001b[0;31m    def isNegativeVectors[v1,v2]:\u001b[0m\n\u001b[0m                         ^\u001b[0m\n\u001b[0;31mSyntaxError\u001b[0m\u001b[0;31m:\u001b[0m invalid syntax\n"
     ]
    }
   ],
   "source": [
    "def isNegativeVectors[v1,v2]:\n",
    "    v3 = list(v2)\n",
    "    v3.reverse()\n",
    "    if sum(v1== np.array(v3)) == len(v2):\n",
    "        return True\n",
    "    else:\n",
    "        return False"
   ]
  },
  {
   "cell_type": "code",
   "execution_count": 6,
   "id": "b841350d-7a34-473a-b430-3e268a151b29",
   "metadata": {},
   "outputs": [
    {
     "data": {
      "text/plain": [
       "[<matplotlib.lines.Line2D at 0x7f3ccf6283d0>]"
      ]
     },
     "execution_count": 6,
     "metadata": {},
     "output_type": "execute_result"
    },
    {
     "data": {
      "image/png": "[encoded data removed]",
      "text/plain": [
       "<Figure size 640x480 with 1 Axes>"
      ]
     },
     "metadata": {},
     "output_type": "display_data"
    }
   ],
   "source": [
    "import numpy as np\n",
    "import pandas as pd\n",
    "import matplotlib.pyplot as plt\n",
    "v1= np.arange(1,11)\n",
    "v2= np.arange(2,12)\n",
    "plt.plot(v1)\n",
    "plt.plot(v2)\n"
   ]
  },
  {
   "cell_type": "code",
   "execution_count": null,
   "id": "078cf53c-66a6-4057-92ed-a5c98eddf1d7",
   "metadata": {},
   "outputs": [],
   "source": []
  },
  {
   "cell_type": "code",
   "execution_count": null,
   "id": "6d6a4fe2-d44a-4e2f-b032-587dd332a41d",
   "metadata": {},
   "outputs": [],
   "source": []
  }
 ],
 "metadata": {
  "kernelspec": {
   "display_name": "Python 3 (ipykernel)",
   "language": "python",
   "name": "python3"
  },
  "language_info": {
   "codemirror_mode": {
    "name": "ipython",
    "version": 3
   },
   "file_extension": ".py",
   "mimetype": "text/x-python",
   "name": "python",
   "nbconvert_exporter": "python",
   "pygments_lexer": "ipython3",
   "version": "3.8.10"
  }
 },
 "nbformat": 4,
 "nbformat_minor": 5
}
